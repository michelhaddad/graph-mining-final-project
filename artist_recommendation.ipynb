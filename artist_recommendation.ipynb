{
 "cells": [
  {
   "cell_type": "markdown",
   "source": "# Artist Recommendation\n\nAuthors:\nMichel Haddad, Rima Al-Ghossein\n\nScraping code and dataset : https://github.com/michelhaddad/graph-mining-final-project\n\nSpotify users create playlists and we would love to help them add more songs to them. Therefore, we decided to predict the artists whose songs the user would enjoy adding to a playlist.\n\nTo achieve our goal, we decided to apply many strategies by leveraging a graph of relationships between artists and compare them with strategies we could apply manually to assess their performance. We collected the artists that are in 8 playlists and will be scoring the strategies based on their average performance on these playlists.\n\n## Performance Measure Metric\nGiven a strategy's predictions, we're measuring the performance by the ratio of artists predicted that are in the playlist over the total number of artists predicted by the strategy.",
   "metadata": {
    "tags": [],
    "cell_id": "2c351e9e-b996-4200-b086-eb132c6709f5",
    "deepnote_cell_type": "markdown",
    "deepnote_cell_height": 408
   }
  },
  {
   "cell_type": "markdown",
   "source": "### Brief Overview Of The Graph\n\nWe've built a directed graph, whereby an edge exists between some artist A and some other artist B only if B belongs to A's related artists. The related artists are fetched using spotify's Public API. We provided an image for clarity.",
   "metadata": {
    "cell_id": "76011b59d8ff45319f8c6666cb12cc73",
    "tags": [],
    "deepnote_cell_type": "markdown",
    "deepnote_cell_height": 122
   }
  },
  {
   "cell_type": "code",
   "metadata": {
    "cell_id": "938c7816b3f64cd0bc9da7135043fa79",
    "tags": [],
    "deepnote_to_be_reexecuted": false,
    "source_hash": "9354848e",
    "execution_start": 1655836067683,
    "execution_millis": 761,
    "deepnote_cell_type": "code",
    "deepnote_cell_height": 415,
    "deepnote_output_heights": [
     174
    ]
   },
   "source": "adjacency = csr_matrix(np.array([[0, 1, 0], [1, 0, 0], [0, 1, 0]]))\nposition = np.array([[0, 10], [100, 10], [200, 10]])\nnames = np.array([\"Charles Aznavour\", \"Edith Piaf\", \"Amel Bent\"])\nimage = svg_digraph(\n    adjacency, width=400, height=100, node_size = 30, position=position, names = names,\n    name_position ='below',\n    margin_text=-50,\n    )\nSVG(image)",
   "execution_count": null,
   "outputs": [
    {
     "output_type": "execute_result",
     "execution_count": 82,
     "data": {
      "text/plain": "<IPython.core.display.SVG object>",
      "image/svg+xml": "<svg xmlns=\"http://www.w3.org/2000/svg\" width=\"610.0\" height=\"172\">\n<defs><marker id=\"arrow-gray\" markerWidth=\"10\" markerHeight=\"10\" refX=\"9\" refY=\"3\" orient=\"auto\">\n<path d=\"M0,0 L0,6 L9,3 z\" fill=\"gray\"/></marker></defs>\n<path stroke-width=\"1\" stroke=\"gray\" d=\"M 126 80 296 80\" marker-end=\"url(#arrow-gray)\"/>\n<path stroke-width=\"1\" stroke=\"gray\" d=\"M 326 80 156 80\" marker-end=\"url(#arrow-gray)\"/>\n<path stroke-width=\"1\" stroke=\"gray\" d=\"M 526 80 356 80\" marker-end=\"url(#arrow-gray)\"/>\n<circle cx=\"126\" cy=\"80\" r=\"30.0\" style=\"fill:gray;stroke:black;stroke-width:1.0\"/>\n<circle cx=\"326\" cy=\"80\" r=\"30.0\" style=\"fill:gray;stroke:black;stroke-width:1.0\"/>\n<circle cx=\"526\" cy=\"80\" r=\"30.0\" style=\"fill:gray;stroke:black;stroke-width:1.0\"/>\n<text text-anchor=\"middle\" x=\"126\" y=\"40\" font-size=\"12\">Charles Aznavour</text><text text-anchor=\"middle\" x=\"326\" y=\"40\" font-size=\"12\">Edith Piaf</text><text text-anchor=\"middle\" x=\"526\" y=\"40\" font-size=\"12\">Amel Bent</text></svg>"
     },
     "metadata": {}
    }
   ]
  },
  {
   "cell_type": "markdown",
   "source": "### Gathering the data\n\nOur dataset is based on data from:\n - Spotify's public \"Genre\" and \"Mood\" playlists\n - Spotify's Public Api\n\nWe scraped 8 different playlists, and collected all the artists figuring in each of them.\n    \n##### For each artist, the following data was saved:\n 1. The artist’s name\n 2. The id of the artist (string meant to uniquely identify him/her)\n 3. A list containing the artist’s main genres\n 4. A list of related artists. The similarity is based on an analysis of the Spotify community’s listening history, and no other basis.\n\n### Building the graph\n\nIn order to increase the number of artists, we decided fetch the related artists of the related artists, until we reached a total of 22473 artists.",
   "metadata": {
    "cell_id": "de5c506fd0a34f83b6f03110c7df473f",
    "tags": [],
    "owner_user_id": "ef1d4df5-936d-41ea-b2cd-882df54cf4f6",
    "deepnote_cell_type": "markdown",
    "deepnote_cell_height": 478
   }
  },
  {
   "cell_type": "markdown",
   "source": "### Import required packages",
   "metadata": {
    "cell_id": "5089761e0c524f9c8c039681cf09af8a",
    "tags": [],
    "deepnote_cell_type": "markdown",
    "deepnote_cell_height": 62
   }
  },
  {
   "cell_type": "code",
   "metadata": {
    "cell_id": "9933d78a2bec499ca4c79118f4c7dbd9",
    "tags": [],
    "deepnote_to_be_reexecuted": false,
    "source_hash": "f6b47ee5",
    "execution_start": 1655835195011,
    "execution_millis": 26,
    "deepnote_cell_type": "code",
    "deepnote_cell_height": 279
   },
   "source": "import pandas as pd\nimport numpy as np\nfrom sknetwork.ranking import PageRank, top_k\nfrom sknetwork.hierarchy import LouvainHierarchy, Paris, cut_straight\nfrom sknetwork.clustering import Louvain\nfrom sknetwork.classification import DirichletClassifier\nfrom scipy.sparse import csr_matrix\nimport pickle\nimport ast\nimport matplotlib.pyplot as plt\nfrom sknetwork.visualization import svg_graph, svg_digraph, svg_bigraph\nfrom IPython.display import SVG",
   "execution_count": null,
   "outputs": []
  },
  {
   "cell_type": "markdown",
   "source": "### Load datasets",
   "metadata": {
    "cell_id": "919862ce5af04e47acccf21a8b3b377e",
    "tags": [],
    "deepnote_cell_type": "markdown",
    "deepnote_cell_height": 62
   }
  },
  {
   "cell_type": "code",
   "metadata": {
    "cell_id": "dffcd8bb92bd409283abb4b3f66be084",
    "tags": [],
    "deepnote_to_be_reexecuted": false,
    "source_hash": "829955c5",
    "execution_start": 1655833251262,
    "execution_millis": 1044,
    "deepnote_cell_type": "code",
    "deepnote_cell_height": 423
   },
   "source": "# Load playlist data\nplaylist_names = [\"jazz\",  \"pop\", \"raggae\", \"rock\", \"romance\", \"techno\", \"roadtrip\", \"casual_run\"]\nplaylist_dfs = {}\nfor p in playlist_names:\n    playlist_dfs[p] = pd.read_csv(\"./data/playlists/\" + p + \".csv\")\n\n# Load artists table\nartists = pd.read_csv(\"./data/artists/artist_info.csv\")\nartists.genres = artists.genres.apply(ast.literal_eval)\nfor p in playlist_names:\n    playlist_dfs[p].genres = playlist_dfs[p].genres.apply(ast.literal_eval)\n\n# Load artist adjacency matrix\nwith open('./data/artists/artist_adjacency.dat', 'rb') as f:\n    adjacency = pickle.load(f)\n# Map the artist id to his row index in the artist dataframe\nwith open('./data/artists/id_to_index.pickle', 'rb') as f:\n    artist_id_to_index = pickle.load(f)\n# Map artist row index to his Spotify id\nindex_to_id = [i for i in artists['id']]",
   "execution_count": null,
   "outputs": []
  },
  {
   "cell_type": "code",
   "metadata": {
    "cell_id": "c0f911ffd3ff480b9d9acc3d0e156352",
    "tags": [],
    "deepnote_to_be_reexecuted": false,
    "source_hash": "ff3995f8",
    "execution_start": 1655833252315,
    "execution_millis": 10494,
    "deepnote_cell_type": "code",
    "deepnote_cell_height": 117
   },
   "source": "all_genres = list()\nfor i in range(artists.shape[0]):\n    all_genres = set(list(all_genres) + artists.iloc[i]['genres'])",
   "execution_count": null,
   "outputs": []
  },
  {
   "cell_type": "markdown",
   "source": "### Showcase the dataset features",
   "metadata": {
    "cell_id": "3f4adae66bd843f395620c7249f2aa9a",
    "tags": [],
    "deepnote_cell_type": "markdown",
    "deepnote_cell_height": 62
   }
  },
  {
   "cell_type": "code",
   "metadata": {
    "cell_id": "920bfe39b16044de80b70864a62b9e78",
    "tags": [],
    "deepnote_to_be_reexecuted": false,
    "source_hash": "8e722467",
    "execution_start": 1655834881659,
    "execution_millis": 37,
    "deepnote_cell_type": "code",
    "deepnote_cell_height": 231
   },
   "source": "playlist_dfs[playlist_names[0]].head(1)",
   "execution_count": null,
   "outputs": [
    {
     "output_type": "execute_result",
     "execution_count": 26,
     "data": {
      "application/vnd.deepnote.dataframe.v3+json": {
       "column_count": 5,
       "row_count": 1,
       "columns": [
        {
         "name": "id",
         "dtype": "object",
         "stats": {
          "unique_count": 1,
          "nan_count": 0,
          "categories": [
           {
            "name": "6rrwIOOzyvn76SDbkxjIjS",
            "count": 1
           }
          ]
         }
        },
        {
         "name": "name",
         "dtype": "object",
         "stats": {
          "unique_count": 1,
          "nan_count": 0,
          "categories": [
           {
            "name": "Cole Porter",
            "count": 1
           }
          ]
         }
        },
        {
         "name": "neighbours",
         "dtype": "object",
         "stats": {
          "unique_count": 1,
          "nan_count": 0,
          "categories": [
           {
            "name": "['5cBHm2CXrbncYIDzrxF4Vi', '7j8I1aIBA9Z9bMy7mTwWKk', '5v8bwWRbu7AI3YFhzoM6Ha', '2mflSlnegn3rBmzsh08OcN', '4r6DXcqtllstKwEx3ndKMj', '197mLk2Z62k4tvGxDL1pOa', '4VCyL3xDf8AYZUQRtEF7bp', '4BtDAwCZhR6nPrJtbVgQNX', '73xrrv4ZrlpLi1q0Q34wiK', '1IRFfdGI95F5UTMST4udG3', '5SguMzNsojVk03s64Ggzad', '5bOsFzuJ6QZMr86ezC4oXY', '5ZGDxHhju6eE8ja4IyGe87', '1GdTErb29TNkiEGWrNGAeH', '49rIehT663IKJuA3c16OkI', '5wam12nGWDBIrLDV78TNSF', '0LyTHMstvqKiSoqdnnjqix', '2pDFdLHKOmzKiNDzkz7p8L', '4WoGga7UeRcmjD4ufif4nG', '5u5O35ppRJaOpOrU1CeKEW']",
            "count": 1
           }
          ]
         }
        },
        {
         "name": "out_degree",
         "dtype": "int64",
         "stats": {
          "unique_count": 1,
          "nan_count": 0,
          "min": "20",
          "max": "20",
          "histogram": [
           {
            "bin_start": 19.5,
            "bin_end": 19.6,
            "count": 0
           },
           {
            "bin_start": 19.6,
            "bin_end": 19.7,
            "count": 0
           },
           {
            "bin_start": 19.7,
            "bin_end": 19.8,
            "count": 0
           },
           {
            "bin_start": 19.8,
            "bin_end": 19.9,
            "count": 0
           },
           {
            "bin_start": 19.9,
            "bin_end": 20,
            "count": 0
           },
           {
            "bin_start": 20,
            "bin_end": 20.1,
            "count": 1
           },
           {
            "bin_start": 20.1,
            "bin_end": 20.2,
            "count": 0
           },
           {
            "bin_start": 20.2,
            "bin_end": 20.3,
            "count": 0
           },
           {
            "bin_start": 20.3,
            "bin_end": 20.4,
            "count": 0
           },
           {
            "bin_start": 20.4,
            "bin_end": 20.5,
            "count": 0
           }
          ]
         }
        },
        {
         "name": "genres",
         "dtype": "object",
         "stats": {
          "unique_count": 1,
          "nan_count": 0,
          "categories": [
           {
            "name": "['tin pan alley']",
            "count": 1
           }
          ]
         }
        },
        {
         "name": "_deepnote_index_column",
         "dtype": "int64"
        }
       ],
       "rows": [
        {
         "id": "6rrwIOOzyvn76SDbkxjIjS",
         "name": "Cole Porter",
         "neighbours": "['5cBHm2CXrbncYIDzrxF4Vi', '7j8I1aIBA9Z9bMy7mTwWKk', '5v8bwWRbu7AI3YFhzoM6Ha', '2mflSlnegn3rBmzsh08OcN', '4r6DXcqtllstKwEx3ndKMj', '197mLk2Z62k4tvGxDL1pOa', '4VCyL3xDf8AYZUQRtEF7bp', '4BtDAwCZhR6nPrJtbVgQNX', '73xrrv4ZrlpLi1q0Q34wiK', '1IRFfdGI95F5UTMST4udG3', '5SguMzNsojVk03s64Ggzad', '5bOsFzuJ6QZMr86ezC4oXY', '5ZGDxHhju6eE8ja4IyGe87', '1GdTErb29TNkiEGWrNGAeH', '49rIehT663IKJuA3c16OkI', '5wam12nGWDBIrLDV78TNSF', '0LyTHMstvqKiSoqdnnjqix', '2pDFdLHKOmzKiNDzkz7p8L', '4WoGga7UeRcmjD4ufif4nG', '5u5O35ppRJaOpOrU1CeKEW']",
         "out_degree": 20,
         "genres": "['tin pan alley']",
         "_deepnote_index_column": 0
        }
       ]
      },
      "text/plain": "                       id         name  \\\n0  6rrwIOOzyvn76SDbkxjIjS  Cole Porter   \n\n                                          neighbours  out_degree  \\\n0  ['5cBHm2CXrbncYIDzrxF4Vi', '7j8I1aIBA9Z9bMy7mT...          20   \n\n            genres  \n0  [tin pan alley]  ",
      "text/html": "<div>\n<style scoped>\n    .dataframe tbody tr th:only-of-type {\n        vertical-align: middle;\n    }\n\n    .dataframe tbody tr th {\n        vertical-align: top;\n    }\n\n    .dataframe thead th {\n        text-align: right;\n    }\n</style>\n<table border=\"1\" class=\"dataframe\">\n  <thead>\n    <tr style=\"text-align: right;\">\n      <th></th>\n      <th>id</th>\n      <th>name</th>\n      <th>neighbours</th>\n      <th>out_degree</th>\n      <th>genres</th>\n    </tr>\n  </thead>\n  <tbody>\n    <tr>\n      <th>0</th>\n      <td>6rrwIOOzyvn76SDbkxjIjS</td>\n      <td>Cole Porter</td>\n      <td>['5cBHm2CXrbncYIDzrxF4Vi', '7j8I1aIBA9Z9bMy7mT...</td>\n      <td>20</td>\n      <td>[tin pan alley]</td>\n    </tr>\n  </tbody>\n</table>\n</div>"
     },
     "metadata": {}
    }
   ]
  },
  {
   "cell_type": "code",
   "metadata": {
    "cell_id": "aa50e7f5caa64cce84384bb58dcc8009",
    "tags": [],
    "deepnote_to_be_reexecuted": false,
    "source_hash": "c9d9b3a2",
    "execution_start": 1655833262895,
    "execution_millis": 49,
    "deepnote_cell_type": "code",
    "deepnote_cell_height": 231
   },
   "source": "artists.head(1)",
   "execution_count": null,
   "outputs": [
    {
     "output_type": "execute_result",
     "execution_count": 5,
     "data": {
      "application/vnd.deepnote.dataframe.v3+json": {
       "column_count": 6,
       "row_count": 1,
       "columns": [
        {
         "name": "id",
         "dtype": "object",
         "stats": {
          "unique_count": 1,
          "nan_count": 0,
          "categories": [
           {
            "name": "2qT62DYO8Ajb276vUJmvhz",
            "count": 1
           }
          ]
         }
        },
        {
         "name": "name",
         "dtype": "object",
         "stats": {
          "unique_count": 1,
          "nan_count": 0,
          "categories": [
           {
            "name": "XTC",
            "count": 1
           }
          ]
         }
        },
        {
         "name": "followers",
         "dtype": "int64",
         "stats": {
          "unique_count": 1,
          "nan_count": 0,
          "min": "266280",
          "max": "266280",
          "histogram": [
           {
            "bin_start": 266279.5,
            "bin_end": 266279.6,
            "count": 0
           },
           {
            "bin_start": 266279.6,
            "bin_end": 266279.7,
            "count": 0
           },
           {
            "bin_start": 266279.7,
            "bin_end": 266279.8,
            "count": 0
           },
           {
            "bin_start": 266279.8,
            "bin_end": 266279.9,
            "count": 0
           },
           {
            "bin_start": 266279.9,
            "bin_end": 266280,
            "count": 0
           },
           {
            "bin_start": 266280,
            "bin_end": 266280.1,
            "count": 1
           },
           {
            "bin_start": 266280.1,
            "bin_end": 266280.2,
            "count": 0
           },
           {
            "bin_start": 266280.2,
            "bin_end": 266280.3,
            "count": 0
           },
           {
            "bin_start": 266280.3,
            "bin_end": 266280.4,
            "count": 0
           },
           {
            "bin_start": 266280.4,
            "bin_end": 266280.5,
            "count": 0
           }
          ]
         }
        },
        {
         "name": "genres",
         "dtype": "object",
         "stats": {
          "unique_count": 1,
          "nan_count": 0,
          "categories": [
           {
            "name": "['alternative rock', 'art punk', 'art rock', 'beatlesque', 'new romantic', 'new wave', 'new wave pop', 'post-punk', 'power pop', 'pub rock', 'zolo']",
            "count": 1
           }
          ]
         }
        },
        {
         "name": "popularity",
         "dtype": "int64",
         "stats": {
          "unique_count": 1,
          "nan_count": 0,
          "min": "51",
          "max": "51",
          "histogram": [
           {
            "bin_start": 50.5,
            "bin_end": 50.6,
            "count": 0
           },
           {
            "bin_start": 50.6,
            "bin_end": 50.7,
            "count": 0
           },
           {
            "bin_start": 50.7,
            "bin_end": 50.8,
            "count": 0
           },
           {
            "bin_start": 50.8,
            "bin_end": 50.9,
            "count": 0
           },
           {
            "bin_start": 50.9,
            "bin_end": 51,
            "count": 0
           },
           {
            "bin_start": 51,
            "bin_end": 51.1,
            "count": 1
           },
           {
            "bin_start": 51.1,
            "bin_end": 51.2,
            "count": 0
           },
           {
            "bin_start": 51.2,
            "bin_end": 51.3,
            "count": 0
           },
           {
            "bin_start": 51.3,
            "bin_end": 51.4,
            "count": 0
           },
           {
            "bin_start": 51.4,
            "bin_end": 51.5,
            "count": 0
           }
          ]
         }
        },
        {
         "name": "related_artists",
         "dtype": "object",
         "stats": {
          "unique_count": 1,
          "nan_count": 0,
          "categories": [
           {
            "name": "[{'id': '6Jrj26oAY96EEC2lqC6fua', 'name': 'Squeeze', 'followers': 254212, 'genres': ['art rock', 'beatlesque', 'classic uk pop', 'new romantic', 'new wave', 'new wave pop', 'power pop', 'pub rock', 'rock', 'sophisti-pop', 'synthpop'], 'popularity': 52}, {'id': '1ilhXoWIlGxz3fM4B24mNo', 'name': 'The Dukes Of Stratosphear', 'followers': 17065, 'genres': ['beatlesque', 'power pop'], 'popularity': 26}, {'id': '4AIo9dEYhuS3AtwhhKgA0M', 'name': 'The Teardrop Explodes', 'followers': 67255, 'genres': ['art rock', 'c86', 'new romantic', 'new wave', 'new wave pop', 'post-punk', 'uk post-punk'], 'popularity': 37}, {'id': '0UKfenbZb15sqhfPC6zbt3', 'name': 'DEVO', 'followers': 447730, 'genres': ['alternative rock', 'art punk', 'art rock', 'dance rock', 'new romantic', 'new wave', 'post-punk', 'punk', 'synth punk', 'synthpop', 'zolo'], 'popularity': 55}, {'id': '5sMku8iI6FH3ypZTErz4kv', 'name': 'Julian Cope', 'followers': 41313, 'genres': ['art rock', 'melancholia', 'new romantic', 'new wave', 'new wave pop', 'post-punk', 'solo wave', 'synthpop', 'uk post-punk'], 'popularity': 38}, {'id': '4VuMnSnoTGrma3a79UhfMs', 'name': 'Magazine', 'followers': 76148, 'genres': ['alternative rock', 'art punk', 'art rock', 'experimental', 'madchester', 'new romantic', 'new wave', 'new wave pop', 'post-punk', 'pub rock', 'punk', 'synthpop', 'uk post-punk'], 'popularity': 40}, {'id': '7pwjGKaqnfkvS7eQbHaqyH', 'name': 'Sparks', 'followers': 175275, 'genres': ['art rock', 'glam rock', 'new romantic', 'new wave', 'new wave pop', 'synthpop', 'zolo'], 'popularity': 50}, {'id': '0RUEHcBiENFEqxgicqS2ig', 'name': 'The Stranglers', 'followers': 457515, 'genres': ['art rock', 'glam rock', 'new romantic', 'new wave', 'new wave pop', 'post-punk', 'protopunk', 'pub rock', 'punk', 'rock', 'synthpop', 'zolo'], 'popularity': 56}, {'id': '046wtejcUX9rhlzw2nlveT', 'name': 'The Soft Boys', 'followers': 33719, 'genres': ['alternative rock', 'art rock', 'experimental', 'experimental rock', 'gbvfi', 'jangle pop', 'post-punk', 'power pop', 'psychedelic rock', 'pub rock', 'punk blues', 'uk post-punk'], 'popularity': 29}, {'id': '7hqZBHSgDs1odG9aupMzEI', 'name': 'Big Audio Dynamite', 'followers': 111831, 'genres': ['dance rock', 'new romantic', 'new wave', 'new wave pop', 'pub rock', 'synthpop'], 'popularity': 41}, {'id': '2u7xZP39dtED9EuRX9MUwu', 'name': 'Orange Juice', 'followers': 69975, 'genres': ['alternative rock', 'art rock', 'c86', 'new wave', 'new wave pop', 'post-punk', 'scottish new wave', 'scottish rock', 'uk post-punk'], 'popularity': 41}, {'id': '7cKtqv9cYVlOwnuCFH95ce', 'name': 'The The', 'followers': 271389, 'genres': ['art rock', 'new romantic', 'new wave', 'new wave pop', 'post-punk'], 'popularity': 50}, {'id': '6WoTvA9qinpHtSRJuldYh6', 'name': 'The Fall', 'followers': 166268, 'genres': ['alternative rock', 'art punk', 'madchester', 'post-punk', 'punk', 'punk blues', 'uk post-punk'], 'popularity': 43}, {'id': '2i8ynmFv4qgRksyDlBgi6d', 'name': 'Wire', 'followers': 157575, 'genres': ['alternative rock', 'art punk', 'art rock', 'experimental', 'experimental rock', 'new wave', 'post-hardcore', 'post-punk', 'punk', 'uk post-punk'], 'popularity': 43}, {'id': '6KOqPxwfNAmZPkiCnDE9yT', 'name': 'Joe Jackson', 'followers': 322434, 'genres': ['album rock', 'art rock', 'classic rock', 'classic uk pop', 'folk rock', 'mellow gold', 'new romantic', 'new wave', 'new wave pop', 'permanent wave', 'power pop', 'pub rock', 'rock', 'soft rock', 'sophisti-pop'], 'popularity': 55}, {'id': '0S7Zur2g8YhqlzqtlYStli', 'name': 'Television', 'followers': 296489, 'genres': ['alternative rock', 'art punk', 'art rock', 'experimental', 'experimental rock', 'new wave', 'no wave', 'post-punk', 'protopunk', 'psychedelic rock', 'punk'], 'popularity': 44}, {'id': '1eVEVL20zNLcGrPDOR691N', 'name': 'The English Beat', 'followers': 110699, 'genres': ['new wave', 'permanent wave', 'ska', 'ska revival'], 'popularity': 44}, {'id': '3AmWjMXXtBJOmNGpUFSOAl', 'name': 'Gang Of Four', 'followers': 187283, 'genres': ['alternative rock', 'art punk', 'art rock', 'dance rock', 'experimental', 'funk rock', 'new wave', 'post-punk', 'punk', 'uk post-punk'], 'popularity': 46}, {'id': '70MMkLXtue3Edj3RJhJkYp', 'name': 'Public Image Ltd.', 'followers': 239847, 'genres': ['alternative rock', 'art rock', 'experimental', 'new romantic', 'new wave', 'new wave pop', 'post-punk', 'punk', 'uk post-punk'], 'popularity': 45}, {'id': '0O0lrN34wrcuBenkqlEDZe', 'name': 'The Psychedelic Furs', 'followers': 463667, 'genres': ['art rock', 'new romantic', 'new wave', 'new wave pop', 'post-punk', 'rock'], 'popularity': 54}]",
            "count": 1
           }
          ]
         }
        },
        {
         "name": "_deepnote_index_column",
         "dtype": "int64"
        }
       ],
       "rows": [
        {
         "id": "2qT62DYO8Ajb276vUJmvhz",
         "name": "XTC",
         "followers": 266280,
         "genres": "['alternative rock', 'art punk', 'art rock', 'beatlesque', 'new romantic', 'new wave', 'new wave pop', 'post-punk', 'power pop', 'pub rock', 'zolo']",
         "popularity": 51,
         "related_artists": "[{'id': '6Jrj26oAY96EEC2lqC6fua', 'name': 'Squeeze', 'followers': 254212, 'genres': ['art rock', 'beatlesque', 'classic uk pop', 'new romantic', 'new wave', 'new wave pop', 'power pop', 'pub rock', 'rock', 'sophisti-pop', 'synthpop'], 'popularity': 52}, {'id': '1ilhXoWIlGxz3fM4B24mNo', 'name': 'The Dukes Of Stratosphear', 'followers': 17065, 'genres': ['beatlesque', 'power pop'], 'popularity': 26}, {'id': '4AIo9dEYhuS3AtwhhKgA0M', 'name': 'The Teardrop Explodes', 'followers': 67255, 'genres': ['art rock', 'c86', 'new romantic', 'new wave', 'new wave pop', 'post-punk', 'uk post-punk'], 'popularity': 37}, {'id': '0UKfenbZb15sqhfPC6zbt3', 'name': 'DEVO', 'followers': 447730, 'genres': ['alternative rock', 'art punk', 'art rock', 'dance rock', 'new romantic', 'new wave', 'post-punk', 'punk', 'synth punk', 'synthpop', 'zolo'], 'popularity': 55}, {'id': '5sMku8iI6FH3ypZTErz4kv', 'name': 'Julian Cope', 'followers': 41313, 'genres': ['art rock', 'melancholia', 'new romantic', 'new wave', 'new…",
         "_deepnote_index_column": 0
        }
       ]
      },
      "text/plain": "                       id name  followers  \\\n0  2qT62DYO8Ajb276vUJmvhz  XTC     266280   \n\n                                              genres  popularity  \\\n0  [alternative rock, art punk, art rock, beatles...          51   \n\n                                     related_artists  \n0  [{'id': '6Jrj26oAY96EEC2lqC6fua', 'name': 'Squ...  ",
      "text/html": "<div>\n<style scoped>\n    .dataframe tbody tr th:only-of-type {\n        vertical-align: middle;\n    }\n\n    .dataframe tbody tr th {\n        vertical-align: top;\n    }\n\n    .dataframe thead th {\n        text-align: right;\n    }\n</style>\n<table border=\"1\" class=\"dataframe\">\n  <thead>\n    <tr style=\"text-align: right;\">\n      <th></th>\n      <th>id</th>\n      <th>name</th>\n      <th>followers</th>\n      <th>genres</th>\n      <th>popularity</th>\n      <th>related_artists</th>\n    </tr>\n  </thead>\n  <tbody>\n    <tr>\n      <th>0</th>\n      <td>2qT62DYO8Ajb276vUJmvhz</td>\n      <td>XTC</td>\n      <td>266280</td>\n      <td>[alternative rock, art punk, art rock, beatles...</td>\n      <td>51</td>\n      <td>[{'id': '6Jrj26oAY96EEC2lqC6fua', 'name': 'Squ...</td>\n    </tr>\n  </tbody>\n</table>\n</div>"
     },
     "metadata": {}
    }
   ]
  },
  {
   "cell_type": "code",
   "metadata": {
    "cell_id": "ec0341f955fe4504b1570a4133e51632",
    "tags": [],
    "deepnote_to_be_reexecuted": false,
    "source_hash": "a5eedb48",
    "execution_start": 1655833262994,
    "execution_millis": 3,
    "deepnote_cell_type": "code",
    "deepnote_cell_height": 208
   },
   "source": "print('Artists dataframe shape: (%d, %d)\\n' % artists.shape)\nprint('Adjacency matrix shape: (%d, %d)' % adjacency.shape)\nprint('Number of edges: %d' % adjacency.nnz)",
   "execution_count": null,
   "outputs": [
    {
     "name": "stdout",
     "text": "Artists dataframe shape: (22472, 6)\n\nAdjacency matrix shape: (22472, 22472)\nNumber of edges: 117407\n",
     "output_type": "stream"
    }
   ]
  },
  {
   "cell_type": "markdown",
   "source": "### Store the scores in a Dataframe",
   "metadata": {
    "cell_id": "29e7c8407f1d482c9d584280c0c704fb",
    "tags": [],
    "deepnote_cell_type": "markdown",
    "deepnote_cell_height": 62
   }
  },
  {
   "cell_type": "code",
   "metadata": {
    "cell_id": "046a6880064943e299419dc6f7a34b9a",
    "tags": [],
    "deepnote_to_be_reexecuted": false,
    "source_hash": "d1e53bb7",
    "execution_start": 1655833262995,
    "execution_millis": 0,
    "deepnote_cell_type": "code",
    "deepnote_cell_height": 81
   },
   "source": "scores = pd.DataFrame(columns=([\"name\"] + playlist_names))",
   "execution_count": null,
   "outputs": []
  },
  {
   "cell_type": "markdown",
   "source": "## Baseline Strategy 1: Randomly Pick any artist from ALL ARTISTS\n",
   "metadata": {
    "cell_id": "a44365384e43414e9551902eda3621b4",
    "tags": [],
    "deepnote_cell_type": "markdown",
    "deepnote_cell_height": 110
   }
  },
  {
   "cell_type": "code",
   "metadata": {
    "cell_id": "a18c5082674d4e579dc522f61381cb67",
    "tags": [],
    "deepnote_to_be_reexecuted": false,
    "source_hash": "f09d9496",
    "execution_start": 1655833263039,
    "execution_millis": 311,
    "deepnote_cell_type": "code",
    "deepnote_cell_height": 623
   },
   "source": "iterations = 10\n\nrow = {p:0 for p in playlist_names}\nrow['name'] = 'RAND'\nfor i in range(iterations):\n    total_selected = 10.0\n    for p in playlist_names:\n        s = 0\n        choices = np.random.choice(playlist_dfs[p].shape[0], size= int(total_selected), replace = False)\n        for c in choices:\n            s += 1 if artists.iloc[c][\"id\"] in list(playlist_dfs[p][\"id\"]) else 0\n        row[p] += s/len(choices)\n\n# Aggregate\nfor p in playlist_names:\n    row[p] = row[p] / iterations\n\nprint(row)\nscores = scores.append(row, ignore_index=True)\nscores",
   "execution_count": null,
   "outputs": [
    {
     "name": "stdout",
     "text": "{'jazz': 0.0, 'pop': 0.0, 'raggae': 0.02, 'rock': 0.0, 'romance': 0.0, 'techno': 0.0, 'roadtrip': 0.0, 'casual_run': 0.0, 'name': 'RAND'}\n",
     "output_type": "stream"
    },
    {
     "output_type": "execute_result",
     "execution_count": 8,
     "data": {
      "application/vnd.deepnote.dataframe.v3+json": {
       "column_count": 9,
       "row_count": 1,
       "columns": [
        {
         "name": "name",
         "dtype": "object",
         "stats": {
          "unique_count": 1,
          "nan_count": 0,
          "categories": [
           {
            "name": "RAND",
            "count": 1
           }
          ]
         }
        },
        {
         "name": "jazz",
         "dtype": "float64",
         "stats": {
          "unique_count": 1,
          "nan_count": 0,
          "min": "0.0",
          "max": "0.0",
          "histogram": [
           {
            "bin_start": -0.5,
            "bin_end": -0.4,
            "count": 0
           },
           {
            "bin_start": -0.4,
            "bin_end": -0.3,
            "count": 0
           },
           {
            "bin_start": -0.3,
            "bin_end": -0.19999999999999996,
            "count": 0
           },
           {
            "bin_start": -0.19999999999999996,
            "bin_end": -0.09999999999999998,
            "count": 0
           },
           {
            "bin_start": -0.09999999999999998,
            "bin_end": 0,
            "count": 0
           },
           {
            "bin_start": 0,
            "bin_end": 0.10000000000000009,
            "count": 1
           },
           {
            "bin_start": 0.10000000000000009,
            "bin_end": 0.20000000000000007,
            "count": 0
           },
           {
            "bin_start": 0.20000000000000007,
            "bin_end": 0.30000000000000004,
            "count": 0
           },
           {
            "bin_start": 0.30000000000000004,
            "bin_end": 0.4,
            "count": 0
           },
           {
            "bin_start": 0.4,
            "bin_end": 0.5,
            "count": 0
           }
          ]
         }
        },
        {
         "name": "pop",
         "dtype": "float64",
         "stats": {
          "unique_count": 1,
          "nan_count": 0,
          "min": "0.0",
          "max": "0.0",
          "histogram": [
           {
            "bin_start": -0.5,
            "bin_end": -0.4,
            "count": 0
           },
           {
            "bin_start": -0.4,
            "bin_end": -0.3,
            "count": 0
           },
           {
            "bin_start": -0.3,
            "bin_end": -0.19999999999999996,
            "count": 0
           },
           {
            "bin_start": -0.19999999999999996,
            "bin_end": -0.09999999999999998,
            "count": 0
           },
           {
            "bin_start": -0.09999999999999998,
            "bin_end": 0,
            "count": 0
           },
           {
            "bin_start": 0,
            "bin_end": 0.10000000000000009,
            "count": 1
           },
           {
            "bin_start": 0.10000000000000009,
            "bin_end": 0.20000000000000007,
            "count": 0
           },
           {
            "bin_start": 0.20000000000000007,
            "bin_end": 0.30000000000000004,
            "count": 0
           },
           {
            "bin_start": 0.30000000000000004,
            "bin_end": 0.4,
            "count": 0
           },
           {
            "bin_start": 0.4,
            "bin_end": 0.5,
            "count": 0
           }
          ]
         }
        },
        {
         "name": "raggae",
         "dtype": "float64",
         "stats": {
          "unique_count": 1,
          "nan_count": 0,
          "min": "0.02",
          "max": "0.02",
          "histogram": [
           {
            "bin_start": -0.48,
            "bin_end": -0.38,
            "count": 0
           },
           {
            "bin_start": -0.38,
            "bin_end": -0.27999999999999997,
            "count": 0
           },
           {
            "bin_start": -0.27999999999999997,
            "bin_end": -0.17999999999999994,
            "count": 0
           },
           {
            "bin_start": -0.17999999999999994,
            "bin_end": -0.07999999999999996,
            "count": 0
           },
           {
            "bin_start": -0.07999999999999996,
            "bin_end": 0.020000000000000018,
            "count": 1
           },
           {
            "bin_start": 0.020000000000000018,
            "bin_end": 0.1200000000000001,
            "count": 0
           },
           {
            "bin_start": 0.1200000000000001,
            "bin_end": 0.22000000000000008,
            "count": 0
           },
           {
            "bin_start": 0.22000000000000008,
            "bin_end": 0.32000000000000006,
            "count": 0
           },
           {
            "bin_start": 0.32000000000000006,
            "bin_end": 0.42000000000000004,
            "count": 0
           },
           {
            "bin_start": 0.42000000000000004,
            "bin_end": 0.52,
            "count": 0
           }
          ]
         }
        },
        {
         "name": "rock",
         "dtype": "float64",
         "stats": {
          "unique_count": 1,
          "nan_count": 0,
          "min": "0.0",
          "max": "0.0",
          "histogram": [
           {
            "bin_start": -0.5,
            "bin_end": -0.4,
            "count": 0
           },
           {
            "bin_start": -0.4,
            "bin_end": -0.3,
            "count": 0
           },
           {
            "bin_start": -0.3,
            "bin_end": -0.19999999999999996,
            "count": 0
           },
           {
            "bin_start": -0.19999999999999996,
            "bin_end": -0.09999999999999998,
            "count": 0
           },
           {
            "bin_start": -0.09999999999999998,
            "bin_end": 0,
            "count": 0
           },
           {
            "bin_start": 0,
            "bin_end": 0.10000000000000009,
            "count": 1
           },
           {
            "bin_start": 0.10000000000000009,
            "bin_end": 0.20000000000000007,
            "count": 0
           },
           {
            "bin_start": 0.20000000000000007,
            "bin_end": 0.30000000000000004,
            "count": 0
           },
           {
            "bin_start": 0.30000000000000004,
            "bin_end": 0.4,
            "count": 0
           },
           {
            "bin_start": 0.4,
            "bin_end": 0.5,
            "count": 0
           }
          ]
         }
        },
        {
         "name": "romance",
         "dtype": "float64",
         "stats": {
          "unique_count": 1,
          "nan_count": 0,
          "min": "0.0",
          "max": "0.0",
          "histogram": [
           {
            "bin_start": -0.5,
            "bin_end": -0.4,
            "count": 0
           },
           {
            "bin_start": -0.4,
            "bin_end": -0.3,
            "count": 0
           },
           {
            "bin_start": -0.3,
            "bin_end": -0.19999999999999996,
            "count": 0
           },
           {
            "bin_start": -0.19999999999999996,
            "bin_end": -0.09999999999999998,
            "count": 0
           },
           {
            "bin_start": -0.09999999999999998,
            "bin_end": 0,
            "count": 0
           },
           {
            "bin_start": 0,
            "bin_end": 0.10000000000000009,
            "count": 1
           },
           {
            "bin_start": 0.10000000000000009,
            "bin_end": 0.20000000000000007,
            "count": 0
           },
           {
            "bin_start": 0.20000000000000007,
            "bin_end": 0.30000000000000004,
            "count": 0
           },
           {
            "bin_start": 0.30000000000000004,
            "bin_end": 0.4,
            "count": 0
           },
           {
            "bin_start": 0.4,
            "bin_end": 0.5,
            "count": 0
           }
          ]
         }
        },
        {
         "name": "techno",
         "dtype": "float64",
         "stats": {
          "unique_count": 1,
          "nan_count": 0,
          "min": "0.0",
          "max": "0.0",
          "histogram": [
           {
            "bin_start": -0.5,
            "bin_end": -0.4,
            "count": 0
           },
           {
            "bin_start": -0.4,
            "bin_end": -0.3,
            "count": 0
           },
           {
            "bin_start": -0.3,
            "bin_end": -0.19999999999999996,
            "count": 0
           },
           {
            "bin_start": -0.19999999999999996,
            "bin_end": -0.09999999999999998,
            "count": 0
           },
           {
            "bin_start": -0.09999999999999998,
            "bin_end": 0,
            "count": 0
           },
           {
            "bin_start": 0,
            "bin_end": 0.10000000000000009,
            "count": 1
           },
           {
            "bin_start": 0.10000000000000009,
            "bin_end": 0.20000000000000007,
            "count": 0
           },
           {
            "bin_start": 0.20000000000000007,
            "bin_end": 0.30000000000000004,
            "count": 0
           },
           {
            "bin_start": 0.30000000000000004,
            "bin_end": 0.4,
            "count": 0
           },
           {
            "bin_start": 0.4,
            "bin_end": 0.5,
            "count": 0
           }
          ]
         }
        },
        {
         "name": "roadtrip",
         "dtype": "float64",
         "stats": {
          "unique_count": 1,
          "nan_count": 0,
          "min": "0.0",
          "max": "0.0",
          "histogram": [
           {
            "bin_start": -0.5,
            "bin_end": -0.4,
            "count": 0
           },
           {
            "bin_start": -0.4,
            "bin_end": -0.3,
            "count": 0
           },
           {
            "bin_start": -0.3,
            "bin_end": -0.19999999999999996,
            "count": 0
           },
           {
            "bin_start": -0.19999999999999996,
            "bin_end": -0.09999999999999998,
            "count": 0
           },
           {
            "bin_start": -0.09999999999999998,
            "bin_end": 0,
            "count": 0
           },
           {
            "bin_start": 0,
            "bin_end": 0.10000000000000009,
            "count": 1
           },
           {
            "bin_start": 0.10000000000000009,
            "bin_end": 0.20000000000000007,
            "count": 0
           },
           {
            "bin_start": 0.20000000000000007,
            "bin_end": 0.30000000000000004,
            "count": 0
           },
           {
            "bin_start": 0.30000000000000004,
            "bin_end": 0.4,
            "count": 0
           },
           {
            "bin_start": 0.4,
            "bin_end": 0.5,
            "count": 0
           }
          ]
         }
        },
        {
         "name": "casual_run",
         "dtype": "float64",
         "stats": {
          "unique_count": 1,
          "nan_count": 0,
          "min": "0.0",
          "max": "0.0",
          "histogram": [
           {
            "bin_start": -0.5,
            "bin_end": -0.4,
            "count": 0
           },
           {
            "bin_start": -0.4,
            "bin_end": -0.3,
            "count": 0
           },
           {
            "bin_start": -0.3,
            "bin_end": -0.19999999999999996,
            "count": 0
           },
           {
            "bin_start": -0.19999999999999996,
            "bin_end": -0.09999999999999998,
            "count": 0
           },
           {
            "bin_start": -0.09999999999999998,
            "bin_end": 0,
            "count": 0
           },
           {
            "bin_start": 0,
            "bin_end": 0.10000000000000009,
            "count": 1
           },
           {
            "bin_start": 0.10000000000000009,
            "bin_end": 0.20000000000000007,
            "count": 0
           },
           {
            "bin_start": 0.20000000000000007,
            "bin_end": 0.30000000000000004,
            "count": 0
           },
           {
            "bin_start": 0.30000000000000004,
            "bin_end": 0.4,
            "count": 0
           },
           {
            "bin_start": 0.4,
            "bin_end": 0.5,
            "count": 0
           }
          ]
         }
        },
        {
         "name": "_deepnote_index_column",
         "dtype": "int64"
        }
       ],
       "rows": [
        {
         "name": "RAND",
         "jazz": 0,
         "pop": 0,
         "raggae": 0.02,
         "rock": 0,
         "romance": 0,
         "techno": 0,
         "roadtrip": 0,
         "casual_run": 0,
         "_deepnote_index_column": 0
        }
       ]
      },
      "text/plain": "   name  jazz  pop  raggae  rock  romance  techno  roadtrip  casual_run\n0  RAND   0.0  0.0    0.02   0.0      0.0     0.0       0.0         0.0",
      "text/html": "<div>\n<style scoped>\n    .dataframe tbody tr th:only-of-type {\n        vertical-align: middle;\n    }\n\n    .dataframe tbody tr th {\n        vertical-align: top;\n    }\n\n    .dataframe thead th {\n        text-align: right;\n    }\n</style>\n<table border=\"1\" class=\"dataframe\">\n  <thead>\n    <tr style=\"text-align: right;\">\n      <th></th>\n      <th>name</th>\n      <th>jazz</th>\n      <th>pop</th>\n      <th>raggae</th>\n      <th>rock</th>\n      <th>romance</th>\n      <th>techno</th>\n      <th>roadtrip</th>\n      <th>casual_run</th>\n    </tr>\n  </thead>\n  <tbody>\n    <tr>\n      <th>0</th>\n      <td>RAND</td>\n      <td>0.0</td>\n      <td>0.0</td>\n      <td>0.02</td>\n      <td>0.0</td>\n      <td>0.0</td>\n      <td>0.0</td>\n      <td>0.0</td>\n      <td>0.0</td>\n    </tr>\n  </tbody>\n</table>\n</div>"
     },
     "metadata": {}
    }
   ]
  },
  {
   "cell_type": "markdown",
   "source": "## Baseline Strategy 2 : Randomly pick artist from same genre",
   "metadata": {
    "cell_id": "62711d8b5b0e45bfb4c2fbff7890a161",
    "tags": [],
    "deepnote_cell_type": "markdown",
    "deepnote_cell_height": 110
   }
  },
  {
   "cell_type": "code",
   "metadata": {
    "cell_id": "1410192985af42839792589691c78698",
    "tags": [],
    "deepnote_to_be_reexecuted": false,
    "source_hash": "6400449a",
    "execution_start": 1655833263359,
    "execution_millis": 478371,
    "deepnote_cell_type": "code",
    "deepnote_cell_height": 740
   },
   "source": "iterations = 10\n\nrow = {p:0 for p in playlist_names}\nrow['name'] = 'RAND from GENRE'\n\ntotal_selected = 10.0\nfor i in range(iterations):\n    for p in playlist_names:\n        s = 0\n        knowing = playlist_dfs[p].iloc[0]\n        flag = []\n        for i in range(artists.shape[0]):\n            flag.append(len(set(artists.iloc[i].genres).intersection(knowing.genres)) != 0)\n        tmp_artists = artists[flag]\n        choices = np.random.choice(min(playlist_dfs[p].shape[0], tmp_artists.shape[0]), size= min(int(total_selected), tmp_artists.shape[0], playlist_dfs[p].shape[0]), replace = False)\n        for c in choices:\n            s += 1 if tmp_artists.iloc[c][\"id\"] in list(playlist_dfs[p][\"id\"]) else 0\n        row[p] += s/len(choices)\n\n# Aggregate\nfor p in playlist_names:\n    row[p] = row[p] / iterations\n\n\nscores =  scores.append(row, ignore_index = True)\n\nscores",
   "execution_count": null,
   "outputs": [
    {
     "output_type": "execute_result",
     "execution_count": 9,
     "data": {
      "application/vnd.deepnote.dataframe.v3+json": {
       "column_count": 9,
       "row_count": 2,
       "columns": [
        {
         "name": "name",
         "dtype": "object",
         "stats": {
          "unique_count": 2,
          "nan_count": 0,
          "categories": [
           {
            "name": "RAND",
            "count": 1
           },
           {
            "name": "RAND from GENRE",
            "count": 1
           }
          ]
         }
        },
        {
         "name": "jazz",
         "dtype": "float64",
         "stats": {
          "unique_count": 2,
          "nan_count": 0,
          "min": "0.0",
          "max": "0.07999999999999999",
          "histogram": [
           {
            "bin_start": 0,
            "bin_end": 0.007999999999999998,
            "count": 1
           },
           {
            "bin_start": 0.007999999999999998,
            "bin_end": 0.015999999999999997,
            "count": 0
           },
           {
            "bin_start": 0.015999999999999997,
            "bin_end": 0.023999999999999994,
            "count": 0
           },
           {
            "bin_start": 0.023999999999999994,
            "bin_end": 0.031999999999999994,
            "count": 0
           },
           {
            "bin_start": 0.031999999999999994,
            "bin_end": 0.039999999999999994,
            "count": 0
           },
           {
            "bin_start": 0.039999999999999994,
            "bin_end": 0.04799999999999999,
            "count": 0
           },
           {
            "bin_start": 0.04799999999999999,
            "bin_end": 0.05599999999999999,
            "count": 0
           },
           {
            "bin_start": 0.05599999999999999,
            "bin_end": 0.06399999999999999,
            "count": 0
           },
           {
            "bin_start": 0.06399999999999999,
            "bin_end": 0.07199999999999998,
            "count": 0
           },
           {
            "bin_start": 0.07199999999999998,
            "bin_end": 0.07999999999999999,
            "count": 1
           }
          ]
         }
        },
        {
         "name": "pop",
         "dtype": "float64",
         "stats": {
          "unique_count": 2,
          "nan_count": 0,
          "min": "0.0",
          "max": "0.12",
          "histogram": [
           {
            "bin_start": 0,
            "bin_end": 0.012,
            "count": 1
           },
           {
            "bin_start": 0.012,
            "bin_end": 0.024,
            "count": 0
           },
           {
            "bin_start": 0.024,
            "bin_end": 0.036000000000000004,
            "count": 0
           },
           {
            "bin_start": 0.036000000000000004,
            "bin_end": 0.048,
            "count": 0
           },
           {
            "bin_start": 0.048,
            "bin_end": 0.06,
            "count": 0
           },
           {
            "bin_start": 0.06,
            "bin_end": 0.07200000000000001,
            "count": 0
           },
           {
            "bin_start": 0.07200000000000001,
            "bin_end": 0.084,
            "count": 0
           },
           {
            "bin_start": 0.084,
            "bin_end": 0.096,
            "count": 0
           },
           {
            "bin_start": 0.096,
            "bin_end": 0.108,
            "count": 0
           },
           {
            "bin_start": 0.108,
            "bin_end": 0.12,
            "count": 1
           }
          ]
         }
        },
        {
         "name": "raggae",
         "dtype": "float64",
         "stats": {
          "unique_count": 2,
          "nan_count": 0,
          "min": "0.0",
          "max": "0.02",
          "histogram": [
           {
            "bin_start": 0,
            "bin_end": 0.002,
            "count": 1
           },
           {
            "bin_start": 0.002,
            "bin_end": 0.004,
            "count": 0
           },
           {
            "bin_start": 0.004,
            "bin_end": 0.006,
            "count": 0
           },
           {
            "bin_start": 0.006,
            "bin_end": 0.008,
            "count": 0
           },
           {
            "bin_start": 0.008,
            "bin_end": 0.01,
            "count": 0
           },
           {
            "bin_start": 0.01,
            "bin_end": 0.012,
            "count": 0
           },
           {
            "bin_start": 0.012,
            "bin_end": 0.014,
            "count": 0
           },
           {
            "bin_start": 0.014,
            "bin_end": 0.016,
            "count": 0
           },
           {
            "bin_start": 0.016,
            "bin_end": 0.018000000000000002,
            "count": 0
           },
           {
            "bin_start": 0.018000000000000002,
            "bin_end": 0.02,
            "count": 1
           }
          ]
         }
        },
        {
         "name": "rock",
         "dtype": "float64",
         "stats": {
          "unique_count": 2,
          "nan_count": 0,
          "min": "0.0",
          "max": "0.030000000000000006",
          "histogram": [
           {
            "bin_start": 0,
            "bin_end": 0.0030000000000000005,
            "count": 1
           },
           {
            "bin_start": 0.0030000000000000005,
            "bin_end": 0.006000000000000001,
            "count": 0
           },
           {
            "bin_start": 0.006000000000000001,
            "bin_end": 0.009000000000000001,
            "count": 0
           },
           {
            "bin_start": 0.009000000000000001,
            "bin_end": 0.012000000000000002,
            "count": 0
           },
           {
            "bin_start": 0.012000000000000002,
            "bin_end": 0.015000000000000003,
            "count": 0
           },
           {
            "bin_start": 0.015000000000000003,
            "bin_end": 0.018000000000000002,
            "count": 0
           },
           {
            "bin_start": 0.018000000000000002,
            "bin_end": 0.021000000000000005,
            "count": 0
           },
           {
            "bin_start": 0.021000000000000005,
            "bin_end": 0.024000000000000004,
            "count": 0
           },
           {
            "bin_start": 0.024000000000000004,
            "bin_end": 0.027000000000000003,
            "count": 0
           },
           {
            "bin_start": 0.027000000000000003,
            "bin_end": 0.030000000000000006,
            "count": 1
           }
          ]
         }
        },
        {
         "name": "romance",
         "dtype": "float64",
         "stats": {
          "unique_count": 2,
          "nan_count": 0,
          "min": "0.0",
          "max": "0.030000000000000006",
          "histogram": [
           {
            "bin_start": 0,
            "bin_end": 0.0030000000000000005,
            "count": 1
           },
           {
            "bin_start": 0.0030000000000000005,
            "bin_end": 0.006000000000000001,
            "count": 0
           },
           {
            "bin_start": 0.006000000000000001,
            "bin_end": 0.009000000000000001,
            "count": 0
           },
           {
            "bin_start": 0.009000000000000001,
            "bin_end": 0.012000000000000002,
            "count": 0
           },
           {
            "bin_start": 0.012000000000000002,
            "bin_end": 0.015000000000000003,
            "count": 0
           },
           {
            "bin_start": 0.015000000000000003,
            "bin_end": 0.018000000000000002,
            "count": 0
           },
           {
            "bin_start": 0.018000000000000002,
            "bin_end": 0.021000000000000005,
            "count": 0
           },
           {
            "bin_start": 0.021000000000000005,
            "bin_end": 0.024000000000000004,
            "count": 0
           },
           {
            "bin_start": 0.024000000000000004,
            "bin_end": 0.027000000000000003,
            "count": 0
           },
           {
            "bin_start": 0.027000000000000003,
            "bin_end": 0.030000000000000006,
            "count": 1
           }
          ]
         }
        },
        {
         "name": "techno",
         "dtype": "float64",
         "stats": {
          "unique_count": 1,
          "nan_count": 0,
          "min": "0.0",
          "max": "0.0",
          "histogram": [
           {
            "bin_start": -0.5,
            "bin_end": -0.4,
            "count": 0
           },
           {
            "bin_start": -0.4,
            "bin_end": -0.3,
            "count": 0
           },
           {
            "bin_start": -0.3,
            "bin_end": -0.19999999999999996,
            "count": 0
           },
           {
            "bin_start": -0.19999999999999996,
            "bin_end": -0.09999999999999998,
            "count": 0
           },
           {
            "bin_start": -0.09999999999999998,
            "bin_end": 0,
            "count": 0
           },
           {
            "bin_start": 0,
            "bin_end": 0.10000000000000009,
            "count": 2
           },
           {
            "bin_start": 0.10000000000000009,
            "bin_end": 0.20000000000000007,
            "count": 0
           },
           {
            "bin_start": 0.20000000000000007,
            "bin_end": 0.30000000000000004,
            "count": 0
           },
           {
            "bin_start": 0.30000000000000004,
            "bin_end": 0.4,
            "count": 0
           },
           {
            "bin_start": 0.4,
            "bin_end": 0.5,
            "count": 0
           }
          ]
         }
        },
        {
         "name": "roadtrip",
         "dtype": "float64",
         "stats": {
          "unique_count": 2,
          "nan_count": 0,
          "min": "0.0",
          "max": "0.06",
          "histogram": [
           {
            "bin_start": 0,
            "bin_end": 0.006,
            "count": 1
           },
           {
            "bin_start": 0.006,
            "bin_end": 0.012,
            "count": 0
           },
           {
            "bin_start": 0.012,
            "bin_end": 0.018000000000000002,
            "count": 0
           },
           {
            "bin_start": 0.018000000000000002,
            "bin_end": 0.024,
            "count": 0
           },
           {
            "bin_start": 0.024,
            "bin_end": 0.03,
            "count": 0
           },
           {
            "bin_start": 0.03,
            "bin_end": 0.036000000000000004,
            "count": 0
           },
           {
            "bin_start": 0.036000000000000004,
            "bin_end": 0.042,
            "count": 0
           },
           {
            "bin_start": 0.042,
            "bin_end": 0.048,
            "count": 0
           },
           {
            "bin_start": 0.048,
            "bin_end": 0.054,
            "count": 0
           },
           {
            "bin_start": 0.054,
            "bin_end": 0.06,
            "count": 1
           }
          ]
         }
        },
        {
         "name": "casual_run",
         "dtype": "float64",
         "stats": {
          "unique_count": 1,
          "nan_count": 0,
          "min": "0.0",
          "max": "0.0",
          "histogram": [
           {
            "bin_start": -0.5,
            "bin_end": -0.4,
            "count": 0
           },
           {
            "bin_start": -0.4,
            "bin_end": -0.3,
            "count": 0
           },
           {
            "bin_start": -0.3,
            "bin_end": -0.19999999999999996,
            "count": 0
           },
           {
            "bin_start": -0.19999999999999996,
            "bin_end": -0.09999999999999998,
            "count": 0
           },
           {
            "bin_start": -0.09999999999999998,
            "bin_end": 0,
            "count": 0
           },
           {
            "bin_start": 0,
            "bin_end": 0.10000000000000009,
            "count": 2
           },
           {
            "bin_start": 0.10000000000000009,
            "bin_end": 0.20000000000000007,
            "count": 0
           },
           {
            "bin_start": 0.20000000000000007,
            "bin_end": 0.30000000000000004,
            "count": 0
           },
           {
            "bin_start": 0.30000000000000004,
            "bin_end": 0.4,
            "count": 0
           },
           {
            "bin_start": 0.4,
            "bin_end": 0.5,
            "count": 0
           }
          ]
         }
        },
        {
         "name": "_deepnote_index_column",
         "dtype": "int64"
        }
       ],
       "rows": [
        {
         "name": "RAND",
         "jazz": 0,
         "pop": 0,
         "raggae": 0.02,
         "rock": 0,
         "romance": 0,
         "techno": 0,
         "roadtrip": 0,
         "casual_run": 0,
         "_deepnote_index_column": 0
        },
        {
         "name": "RAND from GENRE",
         "jazz": 0.07999999999999999,
         "pop": 0.12,
         "raggae": 0,
         "rock": 0.030000000000000006,
         "romance": 0.030000000000000006,
         "techno": 0,
         "roadtrip": 0.06,
         "casual_run": 0,
         "_deepnote_index_column": 1
        }
       ]
      },
      "text/plain": "              name  jazz   pop  raggae  rock  romance  techno  roadtrip  \\\n0             RAND  0.00  0.00    0.02  0.00     0.00     0.0      0.00   \n1  RAND from GENRE  0.08  0.12    0.00  0.03     0.03     0.0      0.06   \n\n   casual_run  \n0         0.0  \n1         0.0  ",
      "text/html": "<div>\n<style scoped>\n    .dataframe tbody tr th:only-of-type {\n        vertical-align: middle;\n    }\n\n    .dataframe tbody tr th {\n        vertical-align: top;\n    }\n\n    .dataframe thead th {\n        text-align: right;\n    }\n</style>\n<table border=\"1\" class=\"dataframe\">\n  <thead>\n    <tr style=\"text-align: right;\">\n      <th></th>\n      <th>name</th>\n      <th>jazz</th>\n      <th>pop</th>\n      <th>raggae</th>\n      <th>rock</th>\n      <th>romance</th>\n      <th>techno</th>\n      <th>roadtrip</th>\n      <th>casual_run</th>\n    </tr>\n  </thead>\n  <tbody>\n    <tr>\n      <th>0</th>\n      <td>RAND</td>\n      <td>0.00</td>\n      <td>0.00</td>\n      <td>0.02</td>\n      <td>0.00</td>\n      <td>0.00</td>\n      <td>0.0</td>\n      <td>0.00</td>\n      <td>0.0</td>\n    </tr>\n    <tr>\n      <th>1</th>\n      <td>RAND from GENRE</td>\n      <td>0.08</td>\n      <td>0.12</td>\n      <td>0.00</td>\n      <td>0.03</td>\n      <td>0.03</td>\n      <td>0.0</td>\n      <td>0.06</td>\n      <td>0.0</td>\n    </tr>\n  </tbody>\n</table>\n</div>"
     },
     "metadata": {}
    }
   ]
  },
  {
   "cell_type": "markdown",
   "source": "## Graph Strategies\n\nApply algorithms : \n\n1- Pagerank: only recommend important people\n\n2- Personnalized pagerank : starting from artist that is in the playlist\n\n3- Clustering (could apply eventually two algo and compare their performance, let's start with 1 for now)\n\n4- Hierarchical clustering\n\n5- Heat diffusion starting from couple of artists that are in the playlist, having same heat\n",
   "metadata": {
    "cell_id": "d129648c6d374505b574647f107dd6aa",
    "tags": [],
    "deepnote_cell_type": "markdown",
    "deepnote_cell_height": 288
   }
  },
  {
   "cell_type": "markdown",
   "source": "### Strategy 1: Recommend most popular artists",
   "metadata": {
    "cell_id": "14f1b2f4452b47a0a466c3579d0938d6",
    "tags": [],
    "deepnote_cell_type": "markdown",
    "deepnote_cell_height": 62
   }
  },
  {
   "cell_type": "markdown",
   "source": "#### Get PageRank scores",
   "metadata": {
    "cell_id": "b4c16a2067b74c4b896a9cbcf37acd7e",
    "tags": [],
    "deepnote_cell_type": "markdown",
    "deepnote_cell_height": 54
   }
  },
  {
   "cell_type": "code",
   "metadata": {
    "cell_id": "0014ddb2367244cc87ef20a50dc4a3c3",
    "tags": [],
    "deepnote_to_be_reexecuted": false,
    "source_hash": "fa1783ed",
    "execution_start": 1655833741164,
    "execution_millis": 574,
    "deepnote_cell_type": "code",
    "deepnote_cell_height": 576
   },
   "source": "pagerank = PageRank()\npg_scores = pagerank.fit_transform(adjacency)\nprint('First 10 scores: ', pg_scores[:10], '\\n')\nprint('Sum of scores: %f\\n' % np.sum(pg_scores))\n\ntop_nodes = top_k(pg_scores, 10)\nprint('Top 10 artists according to pagerank:')\nfor i, node in enumerate(top_nodes):\n    print(i + 1, '-', artists.iloc[node]['name'])",
   "execution_count": null,
   "outputs": [
    {
     "name": "stdout",
     "text": "First 10 scores:  [1.44651630e-05 1.84428155e-05 8.18464468e-06 3.10052674e-05\n 1.05327719e-05 1.75245130e-05 2.56025541e-05 9.27415008e-06\n 1.76575936e-05 1.55532440e-05] \n\nSum of scores: 1.000000\n\nTop 10 artists according to pagerank:\n1 - Kenny Drew\n2 - Johnny Griffin\n3 - Jackie McLean\n4 - Kenny Dorham\n5 - Oliver Nelson\n6 - Sonny Clark\n7 - Horace Parlan\n8 - Freddie Hubbard\n9 - Tina Brooks\n10 - Blue Mitchell\n",
     "output_type": "stream"
    }
   ]
  },
  {
   "cell_type": "markdown",
   "source": "Since our graph contains 26005 artists, displaying it mostly show overlapping nodes and it will be hard to discern the important artists from the rest. ",
   "metadata": {
    "cell_id": "9120a5ec39714af9b643c393207d24ec",
    "tags": [],
    "deepnote_cell_type": "markdown",
    "deepnote_cell_height": 74
   }
  },
  {
   "cell_type": "code",
   "metadata": {
    "cell_id": "6d2052b9213a40aaa5ac2b1cc07e0ce3",
    "tags": [],
    "deepnote_to_be_reexecuted": false,
    "source_hash": "c9465d70",
    "execution_start": 1655833741211,
    "execution_millis": 78,
    "deepnote_cell_type": "code",
    "deepnote_cell_height": 243
   },
   "source": "total_selected = 10\nrow = {\"name\": \"Strategy 1\"}\nfor p in playlist_names:\n    s = 0\n    knowing = playlist_dfs[p].iloc[0]\n    choices = top_nodes\n    for c in choices:\n        s += 1 if artists.iloc[c][\"id\"] in list(playlist_dfs[p][\"id\"]) else 0\n    row[p] = s/len(choices)\nscores =  scores.append(row, ignore_index = True)",
   "execution_count": null,
   "outputs": []
  },
  {
   "cell_type": "code",
   "metadata": {
    "cell_id": "2a9e00d5a74841c6bbb9b25203be2fc6",
    "tags": [],
    "deepnote_to_be_reexecuted": false,
    "source_hash": "5ad5d988",
    "execution_start": 1655833741294,
    "execution_millis": 457,
    "deepnote_cell_type": "code",
    "deepnote_cell_height": 313
   },
   "source": "scores",
   "execution_count": null,
   "outputs": [
    {
     "output_type": "execute_result",
     "execution_count": 12,
     "data": {
      "application/vnd.deepnote.dataframe.v3+json": {
       "column_count": 9,
       "row_count": 3,
       "columns": [
        {
         "name": "name",
         "dtype": "object",
         "stats": {
          "unique_count": 3,
          "nan_count": 0,
          "categories": [
           {
            "name": "RAND",
            "count": 1
           },
           {
            "name": "RAND from GENRE",
            "count": 1
           },
           {
            "name": "Strategy 1",
            "count": 1
           }
          ]
         }
        },
        {
         "name": "jazz",
         "dtype": "float64",
         "stats": {
          "unique_count": 3,
          "nan_count": 0,
          "min": "0.0",
          "max": "0.3",
          "histogram": [
           {
            "bin_start": 0,
            "bin_end": 0.03,
            "count": 1
           },
           {
            "bin_start": 0.03,
            "bin_end": 0.06,
            "count": 0
           },
           {
            "bin_start": 0.06,
            "bin_end": 0.09,
            "count": 1
           },
           {
            "bin_start": 0.09,
            "bin_end": 0.12,
            "count": 0
           },
           {
            "bin_start": 0.12,
            "bin_end": 0.15,
            "count": 0
           },
           {
            "bin_start": 0.15,
            "bin_end": 0.18,
            "count": 0
           },
           {
            "bin_start": 0.18,
            "bin_end": 0.21,
            "count": 0
           },
           {
            "bin_start": 0.21,
            "bin_end": 0.24,
            "count": 0
           },
           {
            "bin_start": 0.24,
            "bin_end": 0.27,
            "count": 0
           },
           {
            "bin_start": 0.27,
            "bin_end": 0.3,
            "count": 1
           }
          ]
         }
        },
        {
         "name": "pop",
         "dtype": "float64",
         "stats": {
          "unique_count": 2,
          "nan_count": 0,
          "min": "0.0",
          "max": "0.12",
          "histogram": [
           {
            "bin_start": 0,
            "bin_end": 0.012,
            "count": 2
           },
           {
            "bin_start": 0.012,
            "bin_end": 0.024,
            "count": 0
           },
           {
            "bin_start": 0.024,
            "bin_end": 0.036000000000000004,
            "count": 0
           },
           {
            "bin_start": 0.036000000000000004,
            "bin_end": 0.048,
            "count": 0
           },
           {
            "bin_start": 0.048,
            "bin_end": 0.06,
            "count": 0
           },
           {
            "bin_start": 0.06,
            "bin_end": 0.07200000000000001,
            "count": 0
           },
           {
            "bin_start": 0.07200000000000001,
            "bin_end": 0.084,
            "count": 0
           },
           {
            "bin_start": 0.084,
            "bin_end": 0.096,
            "count": 0
           },
           {
            "bin_start": 0.096,
            "bin_end": 0.108,
            "count": 0
           },
           {
            "bin_start": 0.108,
            "bin_end": 0.12,
            "count": 1
           }
          ]
         }
        },
        {
         "name": "raggae",
         "dtype": "float64",
         "stats": {
          "unique_count": 2,
          "nan_count": 0,
          "min": "0.0",
          "max": "0.02",
          "histogram": [
           {
            "bin_start": 0,
            "bin_end": 0.002,
            "count": 2
           },
           {
            "bin_start": 0.002,
            "bin_end": 0.004,
            "count": 0
           },
           {
            "bin_start": 0.004,
            "bin_end": 0.006,
            "count": 0
           },
           {
            "bin_start": 0.006,
            "bin_end": 0.008,
            "count": 0
           },
           {
            "bin_start": 0.008,
            "bin_end": 0.01,
            "count": 0
           },
           {
            "bin_start": 0.01,
            "bin_end": 0.012,
            "count": 0
           },
           {
            "bin_start": 0.012,
            "bin_end": 0.014,
            "count": 0
           },
           {
            "bin_start": 0.014,
            "bin_end": 0.016,
            "count": 0
           },
           {
            "bin_start": 0.016,
            "bin_end": 0.018000000000000002,
            "count": 0
           },
           {
            "bin_start": 0.018000000000000002,
            "bin_end": 0.02,
            "count": 1
           }
          ]
         }
        },
        {
         "name": "rock",
         "dtype": "float64",
         "stats": {
          "unique_count": 2,
          "nan_count": 0,
          "min": "0.0",
          "max": "0.030000000000000006",
          "histogram": [
           {
            "bin_start": 0,
            "bin_end": 0.0030000000000000005,
            "count": 2
           },
           {
            "bin_start": 0.0030000000000000005,
            "bin_end": 0.006000000000000001,
            "count": 0
           },
           {
            "bin_start": 0.006000000000000001,
            "bin_end": 0.009000000000000001,
            "count": 0
           },
           {
            "bin_start": 0.009000000000000001,
            "bin_end": 0.012000000000000002,
            "count": 0
           },
           {
            "bin_start": 0.012000000000000002,
            "bin_end": 0.015000000000000003,
            "count": 0
           },
           {
            "bin_start": 0.015000000000000003,
            "bin_end": 0.018000000000000002,
            "count": 0
           },
           {
            "bin_start": 0.018000000000000002,
            "bin_end": 0.021000000000000005,
            "count": 0
           },
           {
            "bin_start": 0.021000000000000005,
            "bin_end": 0.024000000000000004,
            "count": 0
           },
           {
            "bin_start": 0.024000000000000004,
            "bin_end": 0.027000000000000003,
            "count": 0
           },
           {
            "bin_start": 0.027000000000000003,
            "bin_end": 0.030000000000000006,
            "count": 1
           }
          ]
         }
        },
        {
         "name": "romance",
         "dtype": "float64",
         "stats": {
          "unique_count": 2,
          "nan_count": 0,
          "min": "0.0",
          "max": "0.030000000000000006",
          "histogram": [
           {
            "bin_start": 0,
            "bin_end": 0.0030000000000000005,
            "count": 2
           },
           {
            "bin_start": 0.0030000000000000005,
            "bin_end": 0.006000000000000001,
            "count": 0
           },
           {
            "bin_start": 0.006000000000000001,
            "bin_end": 0.009000000000000001,
            "count": 0
           },
           {
            "bin_start": 0.009000000000000001,
            "bin_end": 0.012000000000000002,
            "count": 0
           },
           {
            "bin_start": 0.012000000000000002,
            "bin_end": 0.015000000000000003,
            "count": 0
           },
           {
            "bin_start": 0.015000000000000003,
            "bin_end": 0.018000000000000002,
            "count": 0
           },
           {
            "bin_start": 0.018000000000000002,
            "bin_end": 0.021000000000000005,
            "count": 0
           },
           {
            "bin_start": 0.021000000000000005,
            "bin_end": 0.024000000000000004,
            "count": 0
           },
           {
            "bin_start": 0.024000000000000004,
            "bin_end": 0.027000000000000003,
            "count": 0
           },
           {
            "bin_start": 0.027000000000000003,
            "bin_end": 0.030000000000000006,
            "count": 1
           }
          ]
         }
        },
        {
         "name": "techno",
         "dtype": "float64",
         "stats": {
          "unique_count": 1,
          "nan_count": 0,
          "min": "0.0",
          "max": "0.0",
          "histogram": [
           {
            "bin_start": -0.5,
            "bin_end": -0.4,
            "count": 0
           },
           {
            "bin_start": -0.4,
            "bin_end": -0.3,
            "count": 0
           },
           {
            "bin_start": -0.3,
            "bin_end": -0.19999999999999996,
            "count": 0
           },
           {
            "bin_start": -0.19999999999999996,
            "bin_end": -0.09999999999999998,
            "count": 0
           },
           {
            "bin_start": -0.09999999999999998,
            "bin_end": 0,
            "count": 0
           },
           {
            "bin_start": 0,
            "bin_end": 0.10000000000000009,
            "count": 3
           },
           {
            "bin_start": 0.10000000000000009,
            "bin_end": 0.20000000000000007,
            "count": 0
           },
           {
            "bin_start": 0.20000000000000007,
            "bin_end": 0.30000000000000004,
            "count": 0
           },
           {
            "bin_start": 0.30000000000000004,
            "bin_end": 0.4,
            "count": 0
           },
           {
            "bin_start": 0.4,
            "bin_end": 0.5,
            "count": 0
           }
          ]
         }
        },
        {
         "name": "roadtrip",
         "dtype": "float64",
         "stats": {
          "unique_count": 2,
          "nan_count": 0,
          "min": "0.0",
          "max": "0.06",
          "histogram": [
           {
            "bin_start": 0,
            "bin_end": 0.006,
            "count": 2
           },
           {
            "bin_start": 0.006,
            "bin_end": 0.012,
            "count": 0
           },
           {
            "bin_start": 0.012,
            "bin_end": 0.018000000000000002,
            "count": 0
           },
           {
            "bin_start": 0.018000000000000002,
            "bin_end": 0.024,
            "count": 0
           },
           {
            "bin_start": 0.024,
            "bin_end": 0.03,
            "count": 0
           },
           {
            "bin_start": 0.03,
            "bin_end": 0.036000000000000004,
            "count": 0
           },
           {
            "bin_start": 0.036000000000000004,
            "bin_end": 0.042,
            "count": 0
           },
           {
            "bin_start": 0.042,
            "bin_end": 0.048,
            "count": 0
           },
           {
            "bin_start": 0.048,
            "bin_end": 0.054,
            "count": 0
           },
           {
            "bin_start": 0.054,
            "bin_end": 0.06,
            "count": 1
           }
          ]
         }
        },
        {
         "name": "casual_run",
         "dtype": "float64",
         "stats": {
          "unique_count": 1,
          "nan_count": 0,
          "min": "0.0",
          "max": "0.0",
          "histogram": [
           {
            "bin_start": -0.5,
            "bin_end": -0.4,
            "count": 0
           },
           {
            "bin_start": -0.4,
            "bin_end": -0.3,
            "count": 0
           },
           {
            "bin_start": -0.3,
            "bin_end": -0.19999999999999996,
            "count": 0
           },
           {
            "bin_start": -0.19999999999999996,
            "bin_end": -0.09999999999999998,
            "count": 0
           },
           {
            "bin_start": -0.09999999999999998,
            "bin_end": 0,
            "count": 0
           },
           {
            "bin_start": 0,
            "bin_end": 0.10000000000000009,
            "count": 3
           },
           {
            "bin_start": 0.10000000000000009,
            "bin_end": 0.20000000000000007,
            "count": 0
           },
           {
            "bin_start": 0.20000000000000007,
            "bin_end": 0.30000000000000004,
            "count": 0
           },
           {
            "bin_start": 0.30000000000000004,
            "bin_end": 0.4,
            "count": 0
           },
           {
            "bin_start": 0.4,
            "bin_end": 0.5,
            "count": 0
           }
          ]
         }
        },
        {
         "name": "_deepnote_index_column",
         "dtype": "int64"
        }
       ],
       "rows": [
        {
         "name": "RAND",
         "jazz": 0,
         "pop": 0,
         "raggae": 0.02,
         "rock": 0,
         "romance": 0,
         "techno": 0,
         "roadtrip": 0,
         "casual_run": 0,
         "_deepnote_index_column": 0
        },
        {
         "name": "RAND from GENRE",
         "jazz": 0.07999999999999999,
         "pop": 0.12,
         "raggae": 0,
         "rock": 0.030000000000000006,
         "romance": 0.030000000000000006,
         "techno": 0,
         "roadtrip": 0.06,
         "casual_run": 0,
         "_deepnote_index_column": 1
        },
        {
         "name": "Strategy 1",
         "jazz": 0.3,
         "pop": 0,
         "raggae": 0,
         "rock": 0,
         "romance": 0,
         "techno": 0,
         "roadtrip": 0,
         "casual_run": 0,
         "_deepnote_index_column": 2
        }
       ]
      },
      "text/plain": "              name  jazz   pop  raggae  rock  romance  techno  roadtrip  \\\n0             RAND  0.00  0.00    0.02  0.00     0.00     0.0      0.00   \n1  RAND from GENRE  0.08  0.12    0.00  0.03     0.03     0.0      0.06   \n2       Strategy 1  0.30  0.00    0.00  0.00     0.00     0.0      0.00   \n\n   casual_run  \n0         0.0  \n1         0.0  \n2         0.0  ",
      "text/html": "<div>\n<style scoped>\n    .dataframe tbody tr th:only-of-type {\n        vertical-align: middle;\n    }\n\n    .dataframe tbody tr th {\n        vertical-align: top;\n    }\n\n    .dataframe thead th {\n        text-align: right;\n    }\n</style>\n<table border=\"1\" class=\"dataframe\">\n  <thead>\n    <tr style=\"text-align: right;\">\n      <th></th>\n      <th>name</th>\n      <th>jazz</th>\n      <th>pop</th>\n      <th>raggae</th>\n      <th>rock</th>\n      <th>romance</th>\n      <th>techno</th>\n      <th>roadtrip</th>\n      <th>casual_run</th>\n    </tr>\n  </thead>\n  <tbody>\n    <tr>\n      <th>0</th>\n      <td>RAND</td>\n      <td>0.00</td>\n      <td>0.00</td>\n      <td>0.02</td>\n      <td>0.00</td>\n      <td>0.00</td>\n      <td>0.0</td>\n      <td>0.00</td>\n      <td>0.0</td>\n    </tr>\n    <tr>\n      <th>1</th>\n      <td>RAND from GENRE</td>\n      <td>0.08</td>\n      <td>0.12</td>\n      <td>0.00</td>\n      <td>0.03</td>\n      <td>0.03</td>\n      <td>0.0</td>\n      <td>0.06</td>\n      <td>0.0</td>\n    </tr>\n    <tr>\n      <th>2</th>\n      <td>Strategy 1</td>\n      <td>0.30</td>\n      <td>0.00</td>\n      <td>0.00</td>\n      <td>0.00</td>\n      <td>0.00</td>\n      <td>0.0</td>\n      <td>0.00</td>\n      <td>0.0</td>\n    </tr>\n  </tbody>\n</table>\n</div>"
     },
     "metadata": {}
    }
   ]
  },
  {
   "cell_type": "markdown",
   "source": "### Strategy 2: Recommend artists that are important to artists that are currently in the playlist",
   "metadata": {
    "cell_id": "279733dec31f4df9a55ddf776b6568f8",
    "tags": [],
    "deepnote_cell_type": "markdown",
    "deepnote_cell_height": 94
   }
  },
  {
   "cell_type": "code",
   "metadata": {
    "cell_id": "9398f3e8e0b7467a844291658c01790f",
    "tags": [],
    "deepnote_to_be_reexecuted": false,
    "source_hash": "bc210e2d",
    "execution_start": 1655833741375,
    "execution_millis": 2199,
    "deepnote_cell_type": "code",
    "deepnote_cell_height": 711
   },
   "source": "iterations = 10\n\nrow = {p:0 for p in playlist_names}\nrow['name'] = 'Strategy 2'\n\ntotal_selected = 10\nfor i in range(iterations):\n    for p in playlist_names:\n        s = 0\n        random_artists_in_playlist = np.random.choice(\n            playlist_dfs[p]['id'],\n            min(total_selected, playlist_dfs[p].shape[0]),\n            replace=False\n        )\n        seeds = {artist_id_to_index[i]: 1 for i in random_artists_in_playlist}\n\n        pagerank = PageRank()\n        pg_scores = pagerank.fit_transform(adjacency, seeds=seeds)\n        top_nodes = top_k(pg_scores, total_selected + len(random_artists_in_playlist))\n        \n        choices = []\n        index = 0\n        while len(choices) != total_selected:\n            if top_nodes[index] not in seeds:\n                choices.append(top_nodes[index])\n            index += 1\n\n        for c in choices:\n            s += 1 if artists.iloc[c][\"id\"] in list(playlist_dfs[p][\"id\"]) else 0\n        row[p] += s / len(choices)\n\n# Aggregate\nfor p in playlist_names:\n    row[p] = row[p] / iterations\n\nscores =  scores.append(row, ignore_index = True)",
   "execution_count": null,
   "outputs": []
  },
  {
   "cell_type": "code",
   "metadata": {
    "cell_id": "97ee0d875915453285623f788c9bd26a",
    "tags": [],
    "deepnote_to_be_reexecuted": false,
    "source_hash": "5ad5d988",
    "execution_start": 1655833743585,
    "execution_millis": 101,
    "deepnote_cell_type": "code",
    "deepnote_cell_height": 354
   },
   "source": "scores",
   "execution_count": null,
   "outputs": [
    {
     "output_type": "execute_result",
     "execution_count": 14,
     "data": {
      "application/vnd.deepnote.dataframe.v3+json": {
       "column_count": 9,
       "row_count": 4,
       "columns": [
        {
         "name": "name",
         "dtype": "object",
         "stats": {
          "unique_count": 4,
          "nan_count": 0,
          "categories": [
           {
            "name": "RAND",
            "count": 1
           },
           {
            "name": "RAND from GENRE",
            "count": 1
           },
           {
            "name": "2 others",
            "count": 2
           }
          ]
         }
        },
        {
         "name": "jazz",
         "dtype": "float64",
         "stats": {
          "unique_count": 4,
          "nan_count": 0,
          "min": "0.0",
          "max": "0.38",
          "histogram": [
           {
            "bin_start": 0,
            "bin_end": 0.038,
            "count": 1
           },
           {
            "bin_start": 0.038,
            "bin_end": 0.076,
            "count": 0
           },
           {
            "bin_start": 0.076,
            "bin_end": 0.11399999999999999,
            "count": 1
           },
           {
            "bin_start": 0.11399999999999999,
            "bin_end": 0.152,
            "count": 0
           },
           {
            "bin_start": 0.152,
            "bin_end": 0.19,
            "count": 0
           },
           {
            "bin_start": 0.19,
            "bin_end": 0.22799999999999998,
            "count": 0
           },
           {
            "bin_start": 0.22799999999999998,
            "bin_end": 0.266,
            "count": 0
           },
           {
            "bin_start": 0.266,
            "bin_end": 0.304,
            "count": 1
           },
           {
            "bin_start": 0.304,
            "bin_end": 0.34199999999999997,
            "count": 0
           },
           {
            "bin_start": 0.34199999999999997,
            "bin_end": 0.38,
            "count": 1
           }
          ]
         }
        },
        {
         "name": "pop",
         "dtype": "float64",
         "stats": {
          "unique_count": 3,
          "nan_count": 0,
          "min": "0.0",
          "max": "0.12",
          "histogram": [
           {
            "bin_start": 0,
            "bin_end": 0.012,
            "count": 2
           },
           {
            "bin_start": 0.012,
            "bin_end": 0.024,
            "count": 0
           },
           {
            "bin_start": 0.024,
            "bin_end": 0.036000000000000004,
            "count": 0
           },
           {
            "bin_start": 0.036000000000000004,
            "bin_end": 0.048,
            "count": 0
           },
           {
            "bin_start": 0.048,
            "bin_end": 0.06,
            "count": 1
           },
           {
            "bin_start": 0.06,
            "bin_end": 0.07200000000000001,
            "count": 0
           },
           {
            "bin_start": 0.07200000000000001,
            "bin_end": 0.084,
            "count": 0
           },
           {
            "bin_start": 0.084,
            "bin_end": 0.096,
            "count": 0
           },
           {
            "bin_start": 0.096,
            "bin_end": 0.108,
            "count": 0
           },
           {
            "bin_start": 0.108,
            "bin_end": 0.12,
            "count": 1
           }
          ]
         }
        },
        {
         "name": "raggae",
         "dtype": "float64",
         "stats": {
          "unique_count": 2,
          "nan_count": 0,
          "min": "0.0",
          "max": "0.02",
          "histogram": [
           {
            "bin_start": 0,
            "bin_end": 0.002,
            "count": 2
           },
           {
            "bin_start": 0.002,
            "bin_end": 0.004,
            "count": 0
           },
           {
            "bin_start": 0.004,
            "bin_end": 0.006,
            "count": 0
           },
           {
            "bin_start": 0.006,
            "bin_end": 0.008,
            "count": 0
           },
           {
            "bin_start": 0.008,
            "bin_end": 0.01,
            "count": 0
           },
           {
            "bin_start": 0.01,
            "bin_end": 0.012,
            "count": 0
           },
           {
            "bin_start": 0.012,
            "bin_end": 0.014,
            "count": 0
           },
           {
            "bin_start": 0.014,
            "bin_end": 0.016,
            "count": 0
           },
           {
            "bin_start": 0.016,
            "bin_end": 0.018000000000000002,
            "count": 0
           },
           {
            "bin_start": 0.018000000000000002,
            "bin_end": 0.02,
            "count": 2
           }
          ]
         }
        },
        {
         "name": "rock",
         "dtype": "float64",
         "stats": {
          "unique_count": 2,
          "nan_count": 0,
          "min": "0.0",
          "max": "0.030000000000000006",
          "histogram": [
           {
            "bin_start": 0,
            "bin_end": 0.0030000000000000005,
            "count": 3
           },
           {
            "bin_start": 0.0030000000000000005,
            "bin_end": 0.006000000000000001,
            "count": 0
           },
           {
            "bin_start": 0.006000000000000001,
            "bin_end": 0.009000000000000001,
            "count": 0
           },
           {
            "bin_start": 0.009000000000000001,
            "bin_end": 0.012000000000000002,
            "count": 0
           },
           {
            "bin_start": 0.012000000000000002,
            "bin_end": 0.015000000000000003,
            "count": 0
           },
           {
            "bin_start": 0.015000000000000003,
            "bin_end": 0.018000000000000002,
            "count": 0
           },
           {
            "bin_start": 0.018000000000000002,
            "bin_end": 0.021000000000000005,
            "count": 0
           },
           {
            "bin_start": 0.021000000000000005,
            "bin_end": 0.024000000000000004,
            "count": 0
           },
           {
            "bin_start": 0.024000000000000004,
            "bin_end": 0.027000000000000003,
            "count": 0
           },
           {
            "bin_start": 0.027000000000000003,
            "bin_end": 0.030000000000000006,
            "count": 1
           }
          ]
         }
        },
        {
         "name": "romance",
         "dtype": "float64",
         "stats": {
          "unique_count": 3,
          "nan_count": 0,
          "min": "0.0",
          "max": "0.12",
          "histogram": [
           {
            "bin_start": 0,
            "bin_end": 0.012,
            "count": 2
           },
           {
            "bin_start": 0.012,
            "bin_end": 0.024,
            "count": 0
           },
           {
            "bin_start": 0.024,
            "bin_end": 0.036000000000000004,
            "count": 1
           },
           {
            "bin_start": 0.036000000000000004,
            "bin_end": 0.048,
            "count": 0
           },
           {
            "bin_start": 0.048,
            "bin_end": 0.06,
            "count": 0
           },
           {
            "bin_start": 0.06,
            "bin_end": 0.07200000000000001,
            "count": 0
           },
           {
            "bin_start": 0.07200000000000001,
            "bin_end": 0.084,
            "count": 0
           },
           {
            "bin_start": 0.084,
            "bin_end": 0.096,
            "count": 0
           },
           {
            "bin_start": 0.096,
            "bin_end": 0.108,
            "count": 0
           },
           {
            "bin_start": 0.108,
            "bin_end": 0.12,
            "count": 1
           }
          ]
         }
        },
        {
         "name": "techno",
         "dtype": "float64",
         "stats": {
          "unique_count": 2,
          "nan_count": 0,
          "min": "0.0",
          "max": "0.17",
          "histogram": [
           {
            "bin_start": 0,
            "bin_end": 0.017,
            "count": 3
           },
           {
            "bin_start": 0.017,
            "bin_end": 0.034,
            "count": 0
           },
           {
            "bin_start": 0.034,
            "bin_end": 0.051000000000000004,
            "count": 0
           },
           {
            "bin_start": 0.051000000000000004,
            "bin_end": 0.068,
            "count": 0
           },
           {
            "bin_start": 0.068,
            "bin_end": 0.085,
            "count": 0
           },
           {
            "bin_start": 0.085,
            "bin_end": 0.10200000000000001,
            "count": 0
           },
           {
            "bin_start": 0.10200000000000001,
            "bin_end": 0.11900000000000001,
            "count": 0
           },
           {
            "bin_start": 0.11900000000000001,
            "bin_end": 0.136,
            "count": 0
           },
           {
            "bin_start": 0.136,
            "bin_end": 0.15300000000000002,
            "count": 0
           },
           {
            "bin_start": 0.15300000000000002,
            "bin_end": 0.17,
            "count": 1
           }
          ]
         }
        },
        {
         "name": "roadtrip",
         "dtype": "float64",
         "stats": {
          "unique_count": 3,
          "nan_count": 0,
          "min": "0.0",
          "max": "0.14",
          "histogram": [
           {
            "bin_start": 0,
            "bin_end": 0.014000000000000002,
            "count": 2
           },
           {
            "bin_start": 0.014000000000000002,
            "bin_end": 0.028000000000000004,
            "count": 0
           },
           {
            "bin_start": 0.028000000000000004,
            "bin_end": 0.04200000000000001,
            "count": 0
           },
           {
            "bin_start": 0.04200000000000001,
            "bin_end": 0.05600000000000001,
            "count": 0
           },
           {
            "bin_start": 0.05600000000000001,
            "bin_end": 0.07,
            "count": 1
           },
           {
            "bin_start": 0.07,
            "bin_end": 0.08400000000000002,
            "count": 0
           },
           {
            "bin_start": 0.08400000000000002,
            "bin_end": 0.09800000000000002,
            "count": 0
           },
           {
            "bin_start": 0.09800000000000002,
            "bin_end": 0.11200000000000002,
            "count": 0
           },
           {
            "bin_start": 0.11200000000000002,
            "bin_end": 0.12600000000000003,
            "count": 0
           },
           {
            "bin_start": 0.12600000000000003,
            "bin_end": 0.14,
            "count": 1
           }
          ]
         }
        },
        {
         "name": "casual_run",
         "dtype": "float64",
         "stats": {
          "unique_count": 2,
          "nan_count": 0,
          "min": "0.0",
          "max": "0.030000000000000006",
          "histogram": [
           {
            "bin_start": 0,
            "bin_end": 0.0030000000000000005,
            "count": 3
           },
           {
            "bin_start": 0.0030000000000000005,
            "bin_end": 0.006000000000000001,
            "count": 0
           },
           {
            "bin_start": 0.006000000000000001,
            "bin_end": 0.009000000000000001,
            "count": 0
           },
           {
            "bin_start": 0.009000000000000001,
            "bin_end": 0.012000000000000002,
            "count": 0
           },
           {
            "bin_start": 0.012000000000000002,
            "bin_end": 0.015000000000000003,
            "count": 0
           },
           {
            "bin_start": 0.015000000000000003,
            "bin_end": 0.018000000000000002,
            "count": 0
           },
           {
            "bin_start": 0.018000000000000002,
            "bin_end": 0.021000000000000005,
            "count": 0
           },
           {
            "bin_start": 0.021000000000000005,
            "bin_end": 0.024000000000000004,
            "count": 0
           },
           {
            "bin_start": 0.024000000000000004,
            "bin_end": 0.027000000000000003,
            "count": 0
           },
           {
            "bin_start": 0.027000000000000003,
            "bin_end": 0.030000000000000006,
            "count": 1
           }
          ]
         }
        },
        {
         "name": "_deepnote_index_column",
         "dtype": "int64"
        }
       ],
       "rows": [
        {
         "name": "RAND",
         "jazz": 0,
         "pop": 0,
         "raggae": 0.02,
         "rock": 0,
         "romance": 0,
         "techno": 0,
         "roadtrip": 0,
         "casual_run": 0,
         "_deepnote_index_column": 0
        },
        {
         "name": "RAND from GENRE",
         "jazz": 0.07999999999999999,
         "pop": 0.12,
         "raggae": 0,
         "rock": 0.030000000000000006,
         "romance": 0.030000000000000006,
         "techno": 0,
         "roadtrip": 0.06,
         "casual_run": 0,
         "_deepnote_index_column": 1
        },
        {
         "name": "Strategy 1",
         "jazz": 0.3,
         "pop": 0,
         "raggae": 0,
         "rock": 0,
         "romance": 0,
         "techno": 0,
         "roadtrip": 0,
         "casual_run": 0,
         "_deepnote_index_column": 2
        },
        {
         "name": "Strategy 2",
         "jazz": 0.38,
         "pop": 0.05,
         "raggae": 0.02,
         "rock": 0,
         "romance": 0.12,
         "techno": 0.17,
         "roadtrip": 0.14,
         "casual_run": 0.030000000000000006,
         "_deepnote_index_column": 3
        }
       ]
      },
      "text/plain": "              name  jazz   pop  raggae  rock  romance  techno  roadtrip  \\\n0             RAND  0.00  0.00    0.02  0.00     0.00    0.00      0.00   \n1  RAND from GENRE  0.08  0.12    0.00  0.03     0.03    0.00      0.06   \n2       Strategy 1  0.30  0.00    0.00  0.00     0.00    0.00      0.00   \n3       Strategy 2  0.38  0.05    0.02  0.00     0.12    0.17      0.14   \n\n   casual_run  \n0        0.00  \n1        0.00  \n2        0.00  \n3        0.03  ",
      "text/html": "<div>\n<style scoped>\n    .dataframe tbody tr th:only-of-type {\n        vertical-align: middle;\n    }\n\n    .dataframe tbody tr th {\n        vertical-align: top;\n    }\n\n    .dataframe thead th {\n        text-align: right;\n    }\n</style>\n<table border=\"1\" class=\"dataframe\">\n  <thead>\n    <tr style=\"text-align: right;\">\n      <th></th>\n      <th>name</th>\n      <th>jazz</th>\n      <th>pop</th>\n      <th>raggae</th>\n      <th>rock</th>\n      <th>romance</th>\n      <th>techno</th>\n      <th>roadtrip</th>\n      <th>casual_run</th>\n    </tr>\n  </thead>\n  <tbody>\n    <tr>\n      <th>0</th>\n      <td>RAND</td>\n      <td>0.00</td>\n      <td>0.00</td>\n      <td>0.02</td>\n      <td>0.00</td>\n      <td>0.00</td>\n      <td>0.00</td>\n      <td>0.00</td>\n      <td>0.00</td>\n    </tr>\n    <tr>\n      <th>1</th>\n      <td>RAND from GENRE</td>\n      <td>0.08</td>\n      <td>0.12</td>\n      <td>0.00</td>\n      <td>0.03</td>\n      <td>0.03</td>\n      <td>0.00</td>\n      <td>0.06</td>\n      <td>0.00</td>\n    </tr>\n    <tr>\n      <th>2</th>\n      <td>Strategy 1</td>\n      <td>0.30</td>\n      <td>0.00</td>\n      <td>0.00</td>\n      <td>0.00</td>\n      <td>0.00</td>\n      <td>0.00</td>\n      <td>0.00</td>\n      <td>0.00</td>\n    </tr>\n    <tr>\n      <th>3</th>\n      <td>Strategy 2</td>\n      <td>0.38</td>\n      <td>0.05</td>\n      <td>0.02</td>\n      <td>0.00</td>\n      <td>0.12</td>\n      <td>0.17</td>\n      <td>0.14</td>\n      <td>0.03</td>\n    </tr>\n  </tbody>\n</table>\n</div>"
     },
     "metadata": {}
    }
   ]
  },
  {
   "cell_type": "markdown",
   "source": "### Strategy 3: Recommend artists from a same cluster",
   "metadata": {
    "cell_id": "bca4c52cd0ac4a7080dbe8208e425420",
    "tags": [],
    "deepnote_cell_type": "markdown",
    "deepnote_cell_height": 62
   }
  },
  {
   "cell_type": "code",
   "metadata": {
    "cell_id": "0e3e9da2eb9a44e9b03b5a4e7c3ace3d",
    "tags": [],
    "deepnote_to_be_reexecuted": false,
    "source_hash": "7c4cf795",
    "execution_start": 1655833743679,
    "execution_millis": 2352,
    "deepnote_cell_type": "code",
    "deepnote_cell_height": 1205
   },
   "source": "iterations = 10\n\nrow = {p:0 for p in playlist_names}\nrow['name'] = 'Strategy 3'\n\nfor i in range(iterations):\n    total_selected = 50\n    louvain = Louvain(resolution= .09, random_state= 5)\n    lv_labels = louvain.fit_transform(adjacency)\n    for p in playlist_names:\n        s = 0\n        random_artists_in_playlist = np.random.choice(\n            playlist_dfs[p]['id'],\n            min(total_selected, playlist_dfs[p].shape[0]),\n            replace=False\n        )\n\n        random_artists_in_playlist = [artist_id_to_index[i] for i in random_artists_in_playlist]\n\n        cluster_ids, counts = np.unique([lv_labels[i] for i in random_artists_in_playlist], return_counts=True)\n\n        proba = counts * total_selected / sum(counts)\n        proba = np.array(proba, dtype=np.int32)\n\n        choices = np.array([], dtype=np.int32)\n        for index, c_id in enumerate(cluster_ids):\n            choices = np.hstack(\n                (choices, \n                    np.random.choice(\n                            np.argwhere(lv_labels == c_id).flatten(), \n                            min(len(np.argwhere(lv_labels == c_id).flatten()), proba[index]),\n                            replace = False,\n                        )\n                )\n            )\n\n        for i in range(choices.shape[0]):\n            s += 1 if artists.iloc[choices[i]][\"id\"] in list(playlist_dfs[p][\"id\"]) else 0\n        row[p] += s/choices.shape[0]\n\n# Aggregate\nfor p in playlist_names:\n    row[p] = row[p] / iterations\n\nscores =  scores.append(row, ignore_index = True)\nscores",
   "execution_count": null,
   "outputs": [
    {
     "output_type": "execute_result",
     "execution_count": 15,
     "data": {
      "application/vnd.deepnote.dataframe.v3+json": {
       "column_count": 9,
       "row_count": 5,
       "columns": [
        {
         "name": "name",
         "dtype": "object",
         "stats": {
          "unique_count": 5,
          "nan_count": 0,
          "categories": [
           {
            "name": "RAND",
            "count": 1
           },
           {
            "name": "RAND from GENRE",
            "count": 1
           },
           {
            "name": "3 others",
            "count": 3
           }
          ]
         }
        },
        {
         "name": "jazz",
         "dtype": "float64",
         "stats": {
          "unique_count": 5,
          "nan_count": 0,
          "min": "0.0",
          "max": "0.38",
          "histogram": [
           {
            "bin_start": 0,
            "bin_end": 0.038,
            "count": 1
           },
           {
            "bin_start": 0.038,
            "bin_end": 0.076,
            "count": 1
           },
           {
            "bin_start": 0.076,
            "bin_end": 0.11399999999999999,
            "count": 1
           },
           {
            "bin_start": 0.11399999999999999,
            "bin_end": 0.152,
            "count": 0
           },
           {
            "bin_start": 0.152,
            "bin_end": 0.19,
            "count": 0
           },
           {
            "bin_start": 0.19,
            "bin_end": 0.22799999999999998,
            "count": 0
           },
           {
            "bin_start": 0.22799999999999998,
            "bin_end": 0.266,
            "count": 0
           },
           {
            "bin_start": 0.266,
            "bin_end": 0.304,
            "count": 1
           },
           {
            "bin_start": 0.304,
            "bin_end": 0.34199999999999997,
            "count": 0
           },
           {
            "bin_start": 0.34199999999999997,
            "bin_end": 0.38,
            "count": 1
           }
          ]
         }
        },
        {
         "name": "pop",
         "dtype": "float64",
         "stats": {
          "unique_count": 4,
          "nan_count": 0,
          "min": "0.0",
          "max": "0.12",
          "histogram": [
           {
            "bin_start": 0,
            "bin_end": 0.012,
            "count": 2
           },
           {
            "bin_start": 0.012,
            "bin_end": 0.024,
            "count": 0
           },
           {
            "bin_start": 0.024,
            "bin_end": 0.036000000000000004,
            "count": 0
           },
           {
            "bin_start": 0.036000000000000004,
            "bin_end": 0.048,
            "count": 1
           },
           {
            "bin_start": 0.048,
            "bin_end": 0.06,
            "count": 1
           },
           {
            "bin_start": 0.06,
            "bin_end": 0.07200000000000001,
            "count": 0
           },
           {
            "bin_start": 0.07200000000000001,
            "bin_end": 0.084,
            "count": 0
           },
           {
            "bin_start": 0.084,
            "bin_end": 0.096,
            "count": 0
           },
           {
            "bin_start": 0.096,
            "bin_end": 0.108,
            "count": 0
           },
           {
            "bin_start": 0.108,
            "bin_end": 0.12,
            "count": 1
           }
          ]
         }
        },
        {
         "name": "raggae",
         "dtype": "float64",
         "stats": {
          "unique_count": 3,
          "nan_count": 0,
          "min": "0.0",
          "max": "0.055999999999999994",
          "histogram": [
           {
            "bin_start": 0,
            "bin_end": 0.005599999999999999,
            "count": 2
           },
           {
            "bin_start": 0.005599999999999999,
            "bin_end": 0.011199999999999998,
            "count": 0
           },
           {
            "bin_start": 0.011199999999999998,
            "bin_end": 0.016799999999999995,
            "count": 0
           },
           {
            "bin_start": 0.016799999999999995,
            "bin_end": 0.022399999999999996,
            "count": 2
           },
           {
            "bin_start": 0.022399999999999996,
            "bin_end": 0.027999999999999997,
            "count": 0
           },
           {
            "bin_start": 0.027999999999999997,
            "bin_end": 0.03359999999999999,
            "count": 0
           },
           {
            "bin_start": 0.03359999999999999,
            "bin_end": 0.03919999999999999,
            "count": 0
           },
           {
            "bin_start": 0.03919999999999999,
            "bin_end": 0.04479999999999999,
            "count": 0
           },
           {
            "bin_start": 0.04479999999999999,
            "bin_end": 0.05039999999999999,
            "count": 0
           },
           {
            "bin_start": 0.05039999999999999,
            "bin_end": 0.055999999999999994,
            "count": 1
           }
          ]
         }
        },
        {
         "name": "rock",
         "dtype": "float64",
         "stats": {
          "unique_count": 3,
          "nan_count": 0,
          "min": "0.0",
          "max": "0.030000000000000006",
          "histogram": [
           {
            "bin_start": 0,
            "bin_end": 0.0030000000000000005,
            "count": 3
           },
           {
            "bin_start": 0.0030000000000000005,
            "bin_end": 0.006000000000000001,
            "count": 0
           },
           {
            "bin_start": 0.006000000000000001,
            "bin_end": 0.009000000000000001,
            "count": 1
           },
           {
            "bin_start": 0.009000000000000001,
            "bin_end": 0.012000000000000002,
            "count": 0
           },
           {
            "bin_start": 0.012000000000000002,
            "bin_end": 0.015000000000000003,
            "count": 0
           },
           {
            "bin_start": 0.015000000000000003,
            "bin_end": 0.018000000000000002,
            "count": 0
           },
           {
            "bin_start": 0.018000000000000002,
            "bin_end": 0.021000000000000005,
            "count": 0
           },
           {
            "bin_start": 0.021000000000000005,
            "bin_end": 0.024000000000000004,
            "count": 0
           },
           {
            "bin_start": 0.024000000000000004,
            "bin_end": 0.027000000000000003,
            "count": 0
           },
           {
            "bin_start": 0.027000000000000003,
            "bin_end": 0.030000000000000006,
            "count": 1
           }
          ]
         }
        },
        {
         "name": "romance",
         "dtype": "float64",
         "stats": {
          "unique_count": 4,
          "nan_count": 0,
          "min": "0.0",
          "max": "0.12",
          "histogram": [
           {
            "bin_start": 0,
            "bin_end": 0.012,
            "count": 2
           },
           {
            "bin_start": 0.012,
            "bin_end": 0.024,
            "count": 1
           },
           {
            "bin_start": 0.024,
            "bin_end": 0.036000000000000004,
            "count": 1
           },
           {
            "bin_start": 0.036000000000000004,
            "bin_end": 0.048,
            "count": 0
           },
           {
            "bin_start": 0.048,
            "bin_end": 0.06,
            "count": 0
           },
           {
            "bin_start": 0.06,
            "bin_end": 0.07200000000000001,
            "count": 0
           },
           {
            "bin_start": 0.07200000000000001,
            "bin_end": 0.084,
            "count": 0
           },
           {
            "bin_start": 0.084,
            "bin_end": 0.096,
            "count": 0
           },
           {
            "bin_start": 0.096,
            "bin_end": 0.108,
            "count": 0
           },
           {
            "bin_start": 0.108,
            "bin_end": 0.12,
            "count": 1
           }
          ]
         }
        },
        {
         "name": "techno",
         "dtype": "float64",
         "stats": {
          "unique_count": 3,
          "nan_count": 0,
          "min": "0.0",
          "max": "0.17",
          "histogram": [
           {
            "bin_start": 0,
            "bin_end": 0.017,
            "count": 4
           },
           {
            "bin_start": 0.017,
            "bin_end": 0.034,
            "count": 0
           },
           {
            "bin_start": 0.034,
            "bin_end": 0.051000000000000004,
            "count": 0
           },
           {
            "bin_start": 0.051000000000000004,
            "bin_end": 0.068,
            "count": 0
           },
           {
            "bin_start": 0.068,
            "bin_end": 0.085,
            "count": 0
           },
           {
            "bin_start": 0.085,
            "bin_end": 0.10200000000000001,
            "count": 0
           },
           {
            "bin_start": 0.10200000000000001,
            "bin_end": 0.11900000000000001,
            "count": 0
           },
           {
            "bin_start": 0.11900000000000001,
            "bin_end": 0.136,
            "count": 0
           },
           {
            "bin_start": 0.136,
            "bin_end": 0.15300000000000002,
            "count": 0
           },
           {
            "bin_start": 0.15300000000000002,
            "bin_end": 0.17,
            "count": 1
           }
          ]
         }
        },
        {
         "name": "roadtrip",
         "dtype": "float64",
         "stats": {
          "unique_count": 4,
          "nan_count": 0,
          "min": "0.0",
          "max": "0.14",
          "histogram": [
           {
            "bin_start": 0,
            "bin_end": 0.014000000000000002,
            "count": 2
           },
           {
            "bin_start": 0.014000000000000002,
            "bin_end": 0.028000000000000004,
            "count": 1
           },
           {
            "bin_start": 0.028000000000000004,
            "bin_end": 0.04200000000000001,
            "count": 0
           },
           {
            "bin_start": 0.04200000000000001,
            "bin_end": 0.05600000000000001,
            "count": 0
           },
           {
            "bin_start": 0.05600000000000001,
            "bin_end": 0.07,
            "count": 1
           },
           {
            "bin_start": 0.07,
            "bin_end": 0.08400000000000002,
            "count": 0
           },
           {
            "bin_start": 0.08400000000000002,
            "bin_end": 0.09800000000000002,
            "count": 0
           },
           {
            "bin_start": 0.09800000000000002,
            "bin_end": 0.11200000000000002,
            "count": 0
           },
           {
            "bin_start": 0.11200000000000002,
            "bin_end": 0.12600000000000003,
            "count": 0
           },
           {
            "bin_start": 0.12600000000000003,
            "bin_end": 0.14,
            "count": 1
           }
          ]
         }
        },
        {
         "name": "casual_run",
         "dtype": "float64",
         "stats": {
          "unique_count": 3,
          "nan_count": 0,
          "min": "0.0",
          "max": "0.030000000000000006",
          "histogram": [
           {
            "bin_start": 0,
            "bin_end": 0.0030000000000000005,
            "count": 3
           },
           {
            "bin_start": 0.0030000000000000005,
            "bin_end": 0.006000000000000001,
            "count": 1
           },
           {
            "bin_start": 0.006000000000000001,
            "bin_end": 0.009000000000000001,
            "count": 0
           },
           {
            "bin_start": 0.009000000000000001,
            "bin_end": 0.012000000000000002,
            "count": 0
           },
           {
            "bin_start": 0.012000000000000002,
            "bin_end": 0.015000000000000003,
            "count": 0
           },
           {
            "bin_start": 0.015000000000000003,
            "bin_end": 0.018000000000000002,
            "count": 0
           },
           {
            "bin_start": 0.018000000000000002,
            "bin_end": 0.021000000000000005,
            "count": 0
           },
           {
            "bin_start": 0.021000000000000005,
            "bin_end": 0.024000000000000004,
            "count": 0
           },
           {
            "bin_start": 0.024000000000000004,
            "bin_end": 0.027000000000000003,
            "count": 0
           },
           {
            "bin_start": 0.027000000000000003,
            "bin_end": 0.030000000000000006,
            "count": 1
           }
          ]
         }
        },
        {
         "name": "_deepnote_index_column",
         "dtype": "int64"
        }
       ],
       "rows": [
        {
         "name": "RAND",
         "jazz": 0,
         "pop": 0,
         "raggae": 0.02,
         "rock": 0,
         "romance": 0,
         "techno": 0,
         "roadtrip": 0,
         "casual_run": 0,
         "_deepnote_index_column": 0
        },
        {
         "name": "RAND from GENRE",
         "jazz": 0.07999999999999999,
         "pop": 0.12,
         "raggae": 0,
         "rock": 0.030000000000000006,
         "romance": 0.030000000000000006,
         "techno": 0,
         "roadtrip": 0.06,
         "casual_run": 0,
         "_deepnote_index_column": 1
        },
        {
         "name": "Strategy 1",
         "jazz": 0.3,
         "pop": 0,
         "raggae": 0,
         "rock": 0,
         "romance": 0,
         "techno": 0,
         "roadtrip": 0,
         "casual_run": 0,
         "_deepnote_index_column": 2
        },
        {
         "name": "Strategy 2",
         "jazz": 0.38,
         "pop": 0.05,
         "raggae": 0.02,
         "rock": 0,
         "romance": 0.12,
         "techno": 0.17,
         "roadtrip": 0.14,
         "casual_run": 0.030000000000000006,
         "_deepnote_index_column": 3
        },
        {
         "name": "Strategy 3",
         "jazz": 0.06000000000000001,
         "pop": 0.04489795918367347,
         "raggae": 0.055999999999999994,
         "rock": 0.00625,
         "romance": 0.012,
         "techno": 0.012,
         "roadtrip": 0.022,
         "casual_run": 0.004166666666666667,
         "_deepnote_index_column": 4
        }
       ]
      },
      "text/plain": "              name  jazz       pop  raggae     rock  romance  techno  \\\n0             RAND  0.00  0.000000   0.020  0.00000    0.000   0.000   \n1  RAND from GENRE  0.08  0.120000   0.000  0.03000    0.030   0.000   \n2       Strategy 1  0.30  0.000000   0.000  0.00000    0.000   0.000   \n3       Strategy 2  0.38  0.050000   0.020  0.00000    0.120   0.170   \n4       Strategy 3  0.06  0.044898   0.056  0.00625    0.012   0.012   \n\n   roadtrip  casual_run  \n0     0.000    0.000000  \n1     0.060    0.000000  \n2     0.000    0.000000  \n3     0.140    0.030000  \n4     0.022    0.004167  ",
      "text/html": "<div>\n<style scoped>\n    .dataframe tbody tr th:only-of-type {\n        vertical-align: middle;\n    }\n\n    .dataframe tbody tr th {\n        vertical-align: top;\n    }\n\n    .dataframe thead th {\n        text-align: right;\n    }\n</style>\n<table border=\"1\" class=\"dataframe\">\n  <thead>\n    <tr style=\"text-align: right;\">\n      <th></th>\n      <th>name</th>\n      <th>jazz</th>\n      <th>pop</th>\n      <th>raggae</th>\n      <th>rock</th>\n      <th>romance</th>\n      <th>techno</th>\n      <th>roadtrip</th>\n      <th>casual_run</th>\n    </tr>\n  </thead>\n  <tbody>\n    <tr>\n      <th>0</th>\n      <td>RAND</td>\n      <td>0.00</td>\n      <td>0.000000</td>\n      <td>0.020</td>\n      <td>0.00000</td>\n      <td>0.000</td>\n      <td>0.000</td>\n      <td>0.000</td>\n      <td>0.000000</td>\n    </tr>\n    <tr>\n      <th>1</th>\n      <td>RAND from GENRE</td>\n      <td>0.08</td>\n      <td>0.120000</td>\n      <td>0.000</td>\n      <td>0.03000</td>\n      <td>0.030</td>\n      <td>0.000</td>\n      <td>0.060</td>\n      <td>0.000000</td>\n    </tr>\n    <tr>\n      <th>2</th>\n      <td>Strategy 1</td>\n      <td>0.30</td>\n      <td>0.000000</td>\n      <td>0.000</td>\n      <td>0.00000</td>\n      <td>0.000</td>\n      <td>0.000</td>\n      <td>0.000</td>\n      <td>0.000000</td>\n    </tr>\n    <tr>\n      <th>3</th>\n      <td>Strategy 2</td>\n      <td>0.38</td>\n      <td>0.050000</td>\n      <td>0.020</td>\n      <td>0.00000</td>\n      <td>0.120</td>\n      <td>0.170</td>\n      <td>0.140</td>\n      <td>0.030000</td>\n    </tr>\n    <tr>\n      <th>4</th>\n      <td>Strategy 3</td>\n      <td>0.06</td>\n      <td>0.044898</td>\n      <td>0.056</td>\n      <td>0.00625</td>\n      <td>0.012</td>\n      <td>0.012</td>\n      <td>0.022</td>\n      <td>0.004167</td>\n    </tr>\n  </tbody>\n</table>\n</div>"
     },
     "metadata": {}
    }
   ]
  },
  {
   "cell_type": "markdown",
   "source": "### Strategy 4: Recommend artists from a close cluster (hierarchical)",
   "metadata": {
    "cell_id": "7c25cb1069b64c199014327f8bb1f226",
    "tags": [],
    "deepnote_cell_type": "markdown",
    "deepnote_cell_height": 62
   }
  },
  {
   "cell_type": "code",
   "metadata": {
    "cell_id": "ccc77004651942f39b30cdd122370c81",
    "tags": [],
    "deepnote_to_be_reexecuted": false,
    "source_hash": "a0aa253c",
    "execution_start": 1655833746035,
    "execution_millis": 56842,
    "deepnote_cell_type": "code",
    "deepnote_cell_height": 1318
   },
   "source": "from collections import defaultdict\n\niterations = 10\n\nrow = {p:0 for p in playlist_names}\nrow['name'] = 'Strategy 4'\n\nfor i in range(iterations):\n    total_selected = 10\n    louvain = LouvainHierarchy()\n    dendrogram = louvain.fit_transform(adjacency)\n    labels = cut_straight(dendrogram, n_clusters=70)\n\n    label_to_index = defaultdict(set)\n    for i, val in enumerate(labels):\n        label_to_index[val].add(i)\n\n    for p in playlist_names:\n        s = 0\n        random_artists_in_playlist = np.random.choice(\n            playlist_dfs[p]['id'],\n            min(total_selected, playlist_dfs[p].shape[0]),\n            replace=False\n        )\n\n        random_artists_indices = set([artist_id_to_index[i] for i in random_artists_in_playlist])\n        artists_in_label = defaultdict(int)\n        for ind in random_artists_indices:\n            artists_in_label[labels[ind]] += 1\n        \n        choices = []\n        for label in artists_in_label:\n            to_add_from_this_cluster = artists_in_label[label]\n            for artist_ind in label_to_index[label]:\n                if to_add_from_this_cluster == 0:\n                    break\n                if artist_ind not in random_artists_indices:\n                    choices.append(artist_ind)\n                    to_add_from_this_cluster -= 1\n\n        for c in choices:\n            s += 1 if artists.iloc[c][\"id\"] in list(playlist_dfs[p][\"id\"]) else 0\n        row[p] += s/total_selected\n\n# Aggregate\nfor p in playlist_names:\n    row[p] = row[p] / iterations\n\nscores =  scores.append(row, ignore_index = True)\nscores",
   "execution_count": null,
   "outputs": [
    {
     "output_type": "execute_result",
     "execution_count": 16,
     "data": {
      "application/vnd.deepnote.dataframe.v3+json": {
       "column_count": 9,
       "row_count": 6,
       "columns": [
        {
         "name": "name",
         "dtype": "object",
         "stats": {
          "unique_count": 6,
          "nan_count": 0,
          "categories": [
           {
            "name": "RAND",
            "count": 1
           },
           {
            "name": "RAND from GENRE",
            "count": 1
           },
           {
            "name": "4 others",
            "count": 4
           }
          ]
         }
        },
        {
         "name": "jazz",
         "dtype": "float64",
         "stats": {
          "unique_count": 6,
          "nan_count": 0,
          "min": "0.0",
          "max": "0.38",
          "histogram": [
           {
            "bin_start": 0,
            "bin_end": 0.038,
            "count": 1
           },
           {
            "bin_start": 0.038,
            "bin_end": 0.076,
            "count": 1
           },
           {
            "bin_start": 0.076,
            "bin_end": 0.11399999999999999,
            "count": 1
           },
           {
            "bin_start": 0.11399999999999999,
            "bin_end": 0.152,
            "count": 0
           },
           {
            "bin_start": 0.152,
            "bin_end": 0.19,
            "count": 0
           },
           {
            "bin_start": 0.19,
            "bin_end": 0.22799999999999998,
            "count": 1
           },
           {
            "bin_start": 0.22799999999999998,
            "bin_end": 0.266,
            "count": 0
           },
           {
            "bin_start": 0.266,
            "bin_end": 0.304,
            "count": 1
           },
           {
            "bin_start": 0.304,
            "bin_end": 0.34199999999999997,
            "count": 0
           },
           {
            "bin_start": 0.34199999999999997,
            "bin_end": 0.38,
            "count": 1
           }
          ]
         }
        },
        {
         "name": "pop",
         "dtype": "float64",
         "stats": {
          "unique_count": 5,
          "nan_count": 0,
          "min": "0.0",
          "max": "0.12",
          "histogram": [
           {
            "bin_start": 0,
            "bin_end": 0.012,
            "count": 2
           },
           {
            "bin_start": 0.012,
            "bin_end": 0.024,
            "count": 0
           },
           {
            "bin_start": 0.024,
            "bin_end": 0.036000000000000004,
            "count": 0
           },
           {
            "bin_start": 0.036000000000000004,
            "bin_end": 0.048,
            "count": 2
           },
           {
            "bin_start": 0.048,
            "bin_end": 0.06,
            "count": 1
           },
           {
            "bin_start": 0.06,
            "bin_end": 0.07200000000000001,
            "count": 0
           },
           {
            "bin_start": 0.07200000000000001,
            "bin_end": 0.084,
            "count": 0
           },
           {
            "bin_start": 0.084,
            "bin_end": 0.096,
            "count": 0
           },
           {
            "bin_start": 0.096,
            "bin_end": 0.108,
            "count": 0
           },
           {
            "bin_start": 0.108,
            "bin_end": 0.12,
            "count": 1
           }
          ]
         }
        },
        {
         "name": "raggae",
         "dtype": "float64",
         "stats": {
          "unique_count": 4,
          "nan_count": 0,
          "min": "0.0",
          "max": "0.12000000000000002",
          "histogram": [
           {
            "bin_start": 0,
            "bin_end": 0.012000000000000002,
            "count": 2
           },
           {
            "bin_start": 0.012000000000000002,
            "bin_end": 0.024000000000000004,
            "count": 2
           },
           {
            "bin_start": 0.024000000000000004,
            "bin_end": 0.036000000000000004,
            "count": 0
           },
           {
            "bin_start": 0.036000000000000004,
            "bin_end": 0.04800000000000001,
            "count": 0
           },
           {
            "bin_start": 0.04800000000000001,
            "bin_end": 0.06000000000000001,
            "count": 1
           },
           {
            "bin_start": 0.06000000000000001,
            "bin_end": 0.07200000000000001,
            "count": 0
           },
           {
            "bin_start": 0.07200000000000001,
            "bin_end": 0.08400000000000002,
            "count": 0
           },
           {
            "bin_start": 0.08400000000000002,
            "bin_end": 0.09600000000000002,
            "count": 0
           },
           {
            "bin_start": 0.09600000000000002,
            "bin_end": 0.10800000000000001,
            "count": 0
           },
           {
            "bin_start": 0.10800000000000001,
            "bin_end": 0.12000000000000002,
            "count": 1
           }
          ]
         }
        },
        {
         "name": "rock",
         "dtype": "float64",
         "stats": {
          "unique_count": 3,
          "nan_count": 0,
          "min": "0.0",
          "max": "0.030000000000000006",
          "histogram": [
           {
            "bin_start": 0,
            "bin_end": 0.0030000000000000005,
            "count": 4
           },
           {
            "bin_start": 0.0030000000000000005,
            "bin_end": 0.006000000000000001,
            "count": 0
           },
           {
            "bin_start": 0.006000000000000001,
            "bin_end": 0.009000000000000001,
            "count": 1
           },
           {
            "bin_start": 0.009000000000000001,
            "bin_end": 0.012000000000000002,
            "count": 0
           },
           {
            "bin_start": 0.012000000000000002,
            "bin_end": 0.015000000000000003,
            "count": 0
           },
           {
            "bin_start": 0.015000000000000003,
            "bin_end": 0.018000000000000002,
            "count": 0
           },
           {
            "bin_start": 0.018000000000000002,
            "bin_end": 0.021000000000000005,
            "count": 0
           },
           {
            "bin_start": 0.021000000000000005,
            "bin_end": 0.024000000000000004,
            "count": 0
           },
           {
            "bin_start": 0.024000000000000004,
            "bin_end": 0.027000000000000003,
            "count": 0
           },
           {
            "bin_start": 0.027000000000000003,
            "bin_end": 0.030000000000000006,
            "count": 1
           }
          ]
         }
        },
        {
         "name": "romance",
         "dtype": "float64",
         "stats": {
          "unique_count": 4,
          "nan_count": 0,
          "min": "0.0",
          "max": "0.12",
          "histogram": [
           {
            "bin_start": 0,
            "bin_end": 0.012,
            "count": 3
           },
           {
            "bin_start": 0.012,
            "bin_end": 0.024,
            "count": 1
           },
           {
            "bin_start": 0.024,
            "bin_end": 0.036000000000000004,
            "count": 1
           },
           {
            "bin_start": 0.036000000000000004,
            "bin_end": 0.048,
            "count": 0
           },
           {
            "bin_start": 0.048,
            "bin_end": 0.06,
            "count": 0
           },
           {
            "bin_start": 0.06,
            "bin_end": 0.07200000000000001,
            "count": 0
           },
           {
            "bin_start": 0.07200000000000001,
            "bin_end": 0.084,
            "count": 0
           },
           {
            "bin_start": 0.084,
            "bin_end": 0.096,
            "count": 0
           },
           {
            "bin_start": 0.096,
            "bin_end": 0.108,
            "count": 0
           },
           {
            "bin_start": 0.108,
            "bin_end": 0.12,
            "count": 1
           }
          ]
         }
        },
        {
         "name": "techno",
         "dtype": "float64",
         "stats": {
          "unique_count": 4,
          "nan_count": 0,
          "min": "0.0",
          "max": "0.17",
          "histogram": [
           {
            "bin_start": 0,
            "bin_end": 0.017,
            "count": 4
           },
           {
            "bin_start": 0.017,
            "bin_end": 0.034,
            "count": 0
           },
           {
            "bin_start": 0.034,
            "bin_end": 0.051000000000000004,
            "count": 0
           },
           {
            "bin_start": 0.051000000000000004,
            "bin_end": 0.068,
            "count": 0
           },
           {
            "bin_start": 0.068,
            "bin_end": 0.085,
            "count": 1
           },
           {
            "bin_start": 0.085,
            "bin_end": 0.10200000000000001,
            "count": 0
           },
           {
            "bin_start": 0.10200000000000001,
            "bin_end": 0.11900000000000001,
            "count": 0
           },
           {
            "bin_start": 0.11900000000000001,
            "bin_end": 0.136,
            "count": 0
           },
           {
            "bin_start": 0.136,
            "bin_end": 0.15300000000000002,
            "count": 0
           },
           {
            "bin_start": 0.15300000000000002,
            "bin_end": 0.17,
            "count": 1
           }
          ]
         }
        },
        {
         "name": "roadtrip",
         "dtype": "float64",
         "stats": {
          "unique_count": 4,
          "nan_count": 0,
          "min": "0.0",
          "max": "0.14",
          "histogram": [
           {
            "bin_start": 0,
            "bin_end": 0.014000000000000002,
            "count": 2
           },
           {
            "bin_start": 0.014000000000000002,
            "bin_end": 0.028000000000000004,
            "count": 1
           },
           {
            "bin_start": 0.028000000000000004,
            "bin_end": 0.04200000000000001,
            "count": 0
           },
           {
            "bin_start": 0.04200000000000001,
            "bin_end": 0.05600000000000001,
            "count": 0
           },
           {
            "bin_start": 0.05600000000000001,
            "bin_end": 0.07,
            "count": 2
           },
           {
            "bin_start": 0.07,
            "bin_end": 0.08400000000000002,
            "count": 0
           },
           {
            "bin_start": 0.08400000000000002,
            "bin_end": 0.09800000000000002,
            "count": 0
           },
           {
            "bin_start": 0.09800000000000002,
            "bin_end": 0.11200000000000002,
            "count": 0
           },
           {
            "bin_start": 0.11200000000000002,
            "bin_end": 0.12600000000000003,
            "count": 0
           },
           {
            "bin_start": 0.12600000000000003,
            "bin_end": 0.14,
            "count": 1
           }
          ]
         }
        },
        {
         "name": "casual_run",
         "dtype": "float64",
         "stats": {
          "unique_count": 3,
          "nan_count": 0,
          "min": "0.0",
          "max": "0.030000000000000006",
          "histogram": [
           {
            "bin_start": 0,
            "bin_end": 0.0030000000000000005,
            "count": 4
           },
           {
            "bin_start": 0.0030000000000000005,
            "bin_end": 0.006000000000000001,
            "count": 1
           },
           {
            "bin_start": 0.006000000000000001,
            "bin_end": 0.009000000000000001,
            "count": 0
           },
           {
            "bin_start": 0.009000000000000001,
            "bin_end": 0.012000000000000002,
            "count": 0
           },
           {
            "bin_start": 0.012000000000000002,
            "bin_end": 0.015000000000000003,
            "count": 0
           },
           {
            "bin_start": 0.015000000000000003,
            "bin_end": 0.018000000000000002,
            "count": 0
           },
           {
            "bin_start": 0.018000000000000002,
            "bin_end": 0.021000000000000005,
            "count": 0
           },
           {
            "bin_start": 0.021000000000000005,
            "bin_end": 0.024000000000000004,
            "count": 0
           },
           {
            "bin_start": 0.024000000000000004,
            "bin_end": 0.027000000000000003,
            "count": 0
           },
           {
            "bin_start": 0.027000000000000003,
            "bin_end": 0.030000000000000006,
            "count": 1
           }
          ]
         }
        },
        {
         "name": "_deepnote_index_column",
         "dtype": "int64"
        }
       ],
       "rows": [
        {
         "name": "RAND",
         "jazz": 0,
         "pop": 0,
         "raggae": 0.02,
         "rock": 0,
         "romance": 0,
         "techno": 0,
         "roadtrip": 0,
         "casual_run": 0,
         "_deepnote_index_column": 0
        },
        {
         "name": "RAND from GENRE",
         "jazz": 0.07999999999999999,
         "pop": 0.12,
         "raggae": 0,
         "rock": 0.030000000000000006,
         "romance": 0.030000000000000006,
         "techno": 0,
         "roadtrip": 0.06,
         "casual_run": 0,
         "_deepnote_index_column": 1
        },
        {
         "name": "Strategy 1",
         "jazz": 0.3,
         "pop": 0,
         "raggae": 0,
         "rock": 0,
         "romance": 0,
         "techno": 0,
         "roadtrip": 0,
         "casual_run": 0,
         "_deepnote_index_column": 2
        },
        {
         "name": "Strategy 2",
         "jazz": 0.38,
         "pop": 0.05,
         "raggae": 0.02,
         "rock": 0,
         "romance": 0.12,
         "techno": 0.17,
         "roadtrip": 0.14,
         "casual_run": 0.030000000000000006,
         "_deepnote_index_column": 3
        },
        {
         "name": "Strategy 3",
         "jazz": 0.06000000000000001,
         "pop": 0.04489795918367347,
         "raggae": 0.055999999999999994,
         "rock": 0.00625,
         "romance": 0.012,
         "techno": 0.012,
         "roadtrip": 0.022,
         "casual_run": 0.004166666666666667,
         "_deepnote_index_column": 4
        },
        {
         "name": "Strategy 4",
         "jazz": 0.19999999999999998,
         "pop": 0.04,
         "raggae": 0.12000000000000002,
         "rock": 0,
         "romance": 0,
         "techno": 0.07999999999999999,
         "roadtrip": 0.06,
         "casual_run": 0,
         "_deepnote_index_column": 5
        }
       ]
      },
      "text/plain": "              name  jazz       pop  raggae     rock  romance  techno  \\\n0             RAND  0.00  0.000000   0.020  0.00000    0.000   0.000   \n1  RAND from GENRE  0.08  0.120000   0.000  0.03000    0.030   0.000   \n2       Strategy 1  0.30  0.000000   0.000  0.00000    0.000   0.000   \n3       Strategy 2  0.38  0.050000   0.020  0.00000    0.120   0.170   \n4       Strategy 3  0.06  0.044898   0.056  0.00625    0.012   0.012   \n5       Strategy 4  0.20  0.040000   0.120  0.00000    0.000   0.080   \n\n   roadtrip  casual_run  \n0     0.000    0.000000  \n1     0.060    0.000000  \n2     0.000    0.000000  \n3     0.140    0.030000  \n4     0.022    0.004167  \n5     0.060    0.000000  ",
      "text/html": "<div>\n<style scoped>\n    .dataframe tbody tr th:only-of-type {\n        vertical-align: middle;\n    }\n\n    .dataframe tbody tr th {\n        vertical-align: top;\n    }\n\n    .dataframe thead th {\n        text-align: right;\n    }\n</style>\n<table border=\"1\" class=\"dataframe\">\n  <thead>\n    <tr style=\"text-align: right;\">\n      <th></th>\n      <th>name</th>\n      <th>jazz</th>\n      <th>pop</th>\n      <th>raggae</th>\n      <th>rock</th>\n      <th>romance</th>\n      <th>techno</th>\n      <th>roadtrip</th>\n      <th>casual_run</th>\n    </tr>\n  </thead>\n  <tbody>\n    <tr>\n      <th>0</th>\n      <td>RAND</td>\n      <td>0.00</td>\n      <td>0.000000</td>\n      <td>0.020</td>\n      <td>0.00000</td>\n      <td>0.000</td>\n      <td>0.000</td>\n      <td>0.000</td>\n      <td>0.000000</td>\n    </tr>\n    <tr>\n      <th>1</th>\n      <td>RAND from GENRE</td>\n      <td>0.08</td>\n      <td>0.120000</td>\n      <td>0.000</td>\n      <td>0.03000</td>\n      <td>0.030</td>\n      <td>0.000</td>\n      <td>0.060</td>\n      <td>0.000000</td>\n    </tr>\n    <tr>\n      <th>2</th>\n      <td>Strategy 1</td>\n      <td>0.30</td>\n      <td>0.000000</td>\n      <td>0.000</td>\n      <td>0.00000</td>\n      <td>0.000</td>\n      <td>0.000</td>\n      <td>0.000</td>\n      <td>0.000000</td>\n    </tr>\n    <tr>\n      <th>3</th>\n      <td>Strategy 2</td>\n      <td>0.38</td>\n      <td>0.050000</td>\n      <td>0.020</td>\n      <td>0.00000</td>\n      <td>0.120</td>\n      <td>0.170</td>\n      <td>0.140</td>\n      <td>0.030000</td>\n    </tr>\n    <tr>\n      <th>4</th>\n      <td>Strategy 3</td>\n      <td>0.06</td>\n      <td>0.044898</td>\n      <td>0.056</td>\n      <td>0.00625</td>\n      <td>0.012</td>\n      <td>0.012</td>\n      <td>0.022</td>\n      <td>0.004167</td>\n    </tr>\n    <tr>\n      <th>5</th>\n      <td>Strategy 4</td>\n      <td>0.20</td>\n      <td>0.040000</td>\n      <td>0.120</td>\n      <td>0.00000</td>\n      <td>0.000</td>\n      <td>0.080</td>\n      <td>0.060</td>\n      <td>0.000000</td>\n    </tr>\n  </tbody>\n</table>\n</div>"
     },
     "metadata": {}
    }
   ]
  },
  {
   "cell_type": "markdown",
   "source": "### Strategy 5: Heat Diffusion",
   "metadata": {
    "cell_id": "bdb3993dee8944f798d68b5ccfa4bad9",
    "tags": [],
    "deepnote_cell_type": "markdown",
    "deepnote_cell_height": 62
   }
  },
  {
   "cell_type": "code",
   "metadata": {
    "cell_id": "18e76007dd3f4fc7adb44d781dd25925",
    "tags": [],
    "deepnote_to_be_reexecuted": false,
    "source_hash": "f2492d56",
    "execution_start": 1655833802938,
    "execution_millis": 16391,
    "deepnote_cell_type": "code",
    "deepnote_cell_height": 1269
   },
   "source": "iterations = 10\n\nrow = {p:0 for p in playlist_names}\nrow['name'] = 'Strategy 5'\n\nfor i in range(iterations):\n    total_selected = 10\n    for p in playlist_names:\n        s = 0\n        random_artists_in_playlist = np.random.choice(\n            playlist_dfs[p]['id'],\n            min(total_selected, playlist_dfs[p].shape[0]),\n            replace=False\n        )\n\n        random_artists_in_playlist = [artist_id_to_index[i] for i in random_artists_in_playlist]\n\n        dirichlet = DirichletClassifier()\n        seeds = {}\n        for art in random_artists_in_playlist:\n            seeds[art] = 1\n\n        for art in np.random.choice(np.arange(len(artist_id_to_index)),10,replace=False):\n            if art not in seeds.keys():\n                seeds[art] = 0\n\n        dir_values = dirichlet.fit_transform(adjacency, seeds)\n\n        choices = []\n        for top in top_k(dir_values, 5*total_selected):\n            if top not in seeds.keys():\n                choices.append(top)\n        choices = choices[:min(total_selected, playlist_dfs[p].shape[0])]\n\n        for c in choices:\n            s += 1 if artists.iloc[c][\"id\"] in list(playlist_dfs[p][\"id\"]) else 0\n        row[p] += s/len(choices)\n\n# Aggregate\nfor p in playlist_names:\n    row[p] = row[p] / iterations\n\nscores =  scores.append(row, ignore_index = True)\nscores\n",
   "execution_count": null,
   "outputs": [
    {
     "output_type": "execute_result",
     "execution_count": 17,
     "data": {
      "application/vnd.deepnote.dataframe.v3+json": {
       "column_count": 9,
       "row_count": 7,
       "columns": [
        {
         "name": "name",
         "dtype": "object",
         "stats": {
          "unique_count": 7,
          "nan_count": 0,
          "categories": [
           {
            "name": "RAND",
            "count": 1
           },
           {
            "name": "RAND from GENRE",
            "count": 1
           },
           {
            "name": "5 others",
            "count": 5
           }
          ]
         }
        },
        {
         "name": "jazz",
         "dtype": "float64",
         "stats": {
          "unique_count": 7,
          "nan_count": 0,
          "min": "0.0",
          "max": "0.38",
          "histogram": [
           {
            "bin_start": 0,
            "bin_end": 0.038,
            "count": 1
           },
           {
            "bin_start": 0.038,
            "bin_end": 0.076,
            "count": 1
           },
           {
            "bin_start": 0.076,
            "bin_end": 0.11399999999999999,
            "count": 2
           },
           {
            "bin_start": 0.11399999999999999,
            "bin_end": 0.152,
            "count": 0
           },
           {
            "bin_start": 0.152,
            "bin_end": 0.19,
            "count": 0
           },
           {
            "bin_start": 0.19,
            "bin_end": 0.22799999999999998,
            "count": 1
           },
           {
            "bin_start": 0.22799999999999998,
            "bin_end": 0.266,
            "count": 0
           },
           {
            "bin_start": 0.266,
            "bin_end": 0.304,
            "count": 1
           },
           {
            "bin_start": 0.304,
            "bin_end": 0.34199999999999997,
            "count": 0
           },
           {
            "bin_start": 0.34199999999999997,
            "bin_end": 0.38,
            "count": 1
           }
          ]
         }
        },
        {
         "name": "pop",
         "dtype": "float64",
         "stats": {
          "unique_count": 6,
          "nan_count": 0,
          "min": "0.0",
          "max": "0.12",
          "histogram": [
           {
            "bin_start": 0,
            "bin_end": 0.012,
            "count": 2
           },
           {
            "bin_start": 0.012,
            "bin_end": 0.024,
            "count": 0
           },
           {
            "bin_start": 0.024,
            "bin_end": 0.036000000000000004,
            "count": 0
           },
           {
            "bin_start": 0.036000000000000004,
            "bin_end": 0.048,
            "count": 2
           },
           {
            "bin_start": 0.048,
            "bin_end": 0.06,
            "count": 1
           },
           {
            "bin_start": 0.06,
            "bin_end": 0.07200000000000001,
            "count": 1
           },
           {
            "bin_start": 0.07200000000000001,
            "bin_end": 0.084,
            "count": 0
           },
           {
            "bin_start": 0.084,
            "bin_end": 0.096,
            "count": 0
           },
           {
            "bin_start": 0.096,
            "bin_end": 0.108,
            "count": 0
           },
           {
            "bin_start": 0.108,
            "bin_end": 0.12,
            "count": 1
           }
          ]
         }
        },
        {
         "name": "raggae",
         "dtype": "float64",
         "stats": {
          "unique_count": 5,
          "nan_count": 0,
          "min": "0.0",
          "max": "0.12000000000000002",
          "histogram": [
           {
            "bin_start": 0,
            "bin_end": 0.012000000000000002,
            "count": 2
           },
           {
            "bin_start": 0.012000000000000002,
            "bin_end": 0.024000000000000004,
            "count": 2
           },
           {
            "bin_start": 0.024000000000000004,
            "bin_end": 0.036000000000000004,
            "count": 0
           },
           {
            "bin_start": 0.036000000000000004,
            "bin_end": 0.04800000000000001,
            "count": 0
           },
           {
            "bin_start": 0.04800000000000001,
            "bin_end": 0.06000000000000001,
            "count": 1
           },
           {
            "bin_start": 0.06000000000000001,
            "bin_end": 0.07200000000000001,
            "count": 1
           },
           {
            "bin_start": 0.07200000000000001,
            "bin_end": 0.08400000000000002,
            "count": 0
           },
           {
            "bin_start": 0.08400000000000002,
            "bin_end": 0.09600000000000002,
            "count": 0
           },
           {
            "bin_start": 0.09600000000000002,
            "bin_end": 0.10800000000000001,
            "count": 0
           },
           {
            "bin_start": 0.10800000000000001,
            "bin_end": 0.12000000000000002,
            "count": 1
           }
          ]
         }
        },
        {
         "name": "rock",
         "dtype": "float64",
         "stats": {
          "unique_count": 3,
          "nan_count": 0,
          "min": "0.0",
          "max": "0.030000000000000006",
          "histogram": [
           {
            "bin_start": 0,
            "bin_end": 0.0030000000000000005,
            "count": 5
           },
           {
            "bin_start": 0.0030000000000000005,
            "bin_end": 0.006000000000000001,
            "count": 0
           },
           {
            "bin_start": 0.006000000000000001,
            "bin_end": 0.009000000000000001,
            "count": 1
           },
           {
            "bin_start": 0.009000000000000001,
            "bin_end": 0.012000000000000002,
            "count": 0
           },
           {
            "bin_start": 0.012000000000000002,
            "bin_end": 0.015000000000000003,
            "count": 0
           },
           {
            "bin_start": 0.015000000000000003,
            "bin_end": 0.018000000000000002,
            "count": 0
           },
           {
            "bin_start": 0.018000000000000002,
            "bin_end": 0.021000000000000005,
            "count": 0
           },
           {
            "bin_start": 0.021000000000000005,
            "bin_end": 0.024000000000000004,
            "count": 0
           },
           {
            "bin_start": 0.024000000000000004,
            "bin_end": 0.027000000000000003,
            "count": 0
           },
           {
            "bin_start": 0.027000000000000003,
            "bin_end": 0.030000000000000006,
            "count": 1
           }
          ]
         }
        },
        {
         "name": "romance",
         "dtype": "float64",
         "stats": {
          "unique_count": 5,
          "nan_count": 0,
          "min": "0.0",
          "max": "0.12",
          "histogram": [
           {
            "bin_start": 0,
            "bin_end": 0.012,
            "count": 3
           },
           {
            "bin_start": 0.012,
            "bin_end": 0.024,
            "count": 1
           },
           {
            "bin_start": 0.024,
            "bin_end": 0.036000000000000004,
            "count": 1
           },
           {
            "bin_start": 0.036000000000000004,
            "bin_end": 0.048,
            "count": 0
           },
           {
            "bin_start": 0.048,
            "bin_end": 0.06,
            "count": 1
           },
           {
            "bin_start": 0.06,
            "bin_end": 0.07200000000000001,
            "count": 0
           },
           {
            "bin_start": 0.07200000000000001,
            "bin_end": 0.084,
            "count": 0
           },
           {
            "bin_start": 0.084,
            "bin_end": 0.096,
            "count": 0
           },
           {
            "bin_start": 0.096,
            "bin_end": 0.108,
            "count": 0
           },
           {
            "bin_start": 0.108,
            "bin_end": 0.12,
            "count": 1
           }
          ]
         }
        },
        {
         "name": "techno",
         "dtype": "float64",
         "stats": {
          "unique_count": 5,
          "nan_count": 0,
          "min": "0.0",
          "max": "0.17",
          "histogram": [
           {
            "bin_start": 0,
            "bin_end": 0.017,
            "count": 4
           },
           {
            "bin_start": 0.017,
            "bin_end": 0.034,
            "count": 0
           },
           {
            "bin_start": 0.034,
            "bin_end": 0.051000000000000004,
            "count": 0
           },
           {
            "bin_start": 0.051000000000000004,
            "bin_end": 0.068,
            "count": 0
           },
           {
            "bin_start": 0.068,
            "bin_end": 0.085,
            "count": 1
           },
           {
            "bin_start": 0.085,
            "bin_end": 0.10200000000000001,
            "count": 1
           },
           {
            "bin_start": 0.10200000000000001,
            "bin_end": 0.11900000000000001,
            "count": 0
           },
           {
            "bin_start": 0.11900000000000001,
            "bin_end": 0.136,
            "count": 0
           },
           {
            "bin_start": 0.136,
            "bin_end": 0.15300000000000002,
            "count": 0
           },
           {
            "bin_start": 0.15300000000000002,
            "bin_end": 0.17,
            "count": 1
           }
          ]
         }
        },
        {
         "name": "roadtrip",
         "dtype": "float64",
         "stats": {
          "unique_count": 4,
          "nan_count": 0,
          "min": "0.0",
          "max": "0.14",
          "histogram": [
           {
            "bin_start": 0,
            "bin_end": 0.014000000000000002,
            "count": 2
           },
           {
            "bin_start": 0.014000000000000002,
            "bin_end": 0.028000000000000004,
            "count": 1
           },
           {
            "bin_start": 0.028000000000000004,
            "bin_end": 0.04200000000000001,
            "count": 0
           },
           {
            "bin_start": 0.04200000000000001,
            "bin_end": 0.05600000000000001,
            "count": 0
           },
           {
            "bin_start": 0.05600000000000001,
            "bin_end": 0.07,
            "count": 3
           },
           {
            "bin_start": 0.07,
            "bin_end": 0.08400000000000002,
            "count": 0
           },
           {
            "bin_start": 0.08400000000000002,
            "bin_end": 0.09800000000000002,
            "count": 0
           },
           {
            "bin_start": 0.09800000000000002,
            "bin_end": 0.11200000000000002,
            "count": 0
           },
           {
            "bin_start": 0.11200000000000002,
            "bin_end": 0.12600000000000003,
            "count": 0
           },
           {
            "bin_start": 0.12600000000000003,
            "bin_end": 0.14,
            "count": 1
           }
          ]
         }
        },
        {
         "name": "casual_run",
         "dtype": "float64",
         "stats": {
          "unique_count": 4,
          "nan_count": 0,
          "min": "0.0",
          "max": "0.030000000000000006",
          "histogram": [
           {
            "bin_start": 0,
            "bin_end": 0.0030000000000000005,
            "count": 4
           },
           {
            "bin_start": 0.0030000000000000005,
            "bin_end": 0.006000000000000001,
            "count": 1
           },
           {
            "bin_start": 0.006000000000000001,
            "bin_end": 0.009000000000000001,
            "count": 0
           },
           {
            "bin_start": 0.009000000000000001,
            "bin_end": 0.012000000000000002,
            "count": 0
           },
           {
            "bin_start": 0.012000000000000002,
            "bin_end": 0.015000000000000003,
            "count": 0
           },
           {
            "bin_start": 0.015000000000000003,
            "bin_end": 0.018000000000000002,
            "count": 0
           },
           {
            "bin_start": 0.018000000000000002,
            "bin_end": 0.021000000000000005,
            "count": 1
           },
           {
            "bin_start": 0.021000000000000005,
            "bin_end": 0.024000000000000004,
            "count": 0
           },
           {
            "bin_start": 0.024000000000000004,
            "bin_end": 0.027000000000000003,
            "count": 0
           },
           {
            "bin_start": 0.027000000000000003,
            "bin_end": 0.030000000000000006,
            "count": 1
           }
          ]
         }
        },
        {
         "name": "_deepnote_index_column",
         "dtype": "int64"
        }
       ],
       "rows": [
        {
         "name": "RAND",
         "jazz": 0,
         "pop": 0,
         "raggae": 0.02,
         "rock": 0,
         "romance": 0,
         "techno": 0,
         "roadtrip": 0,
         "casual_run": 0,
         "_deepnote_index_column": 0
        },
        {
         "name": "RAND from GENRE",
         "jazz": 0.07999999999999999,
         "pop": 0.12,
         "raggae": 0,
         "rock": 0.030000000000000006,
         "romance": 0.030000000000000006,
         "techno": 0,
         "roadtrip": 0.06,
         "casual_run": 0,
         "_deepnote_index_column": 1
        },
        {
         "name": "Strategy 1",
         "jazz": 0.3,
         "pop": 0,
         "raggae": 0,
         "rock": 0,
         "romance": 0,
         "techno": 0,
         "roadtrip": 0,
         "casual_run": 0,
         "_deepnote_index_column": 2
        },
        {
         "name": "Strategy 2",
         "jazz": 0.38,
         "pop": 0.05,
         "raggae": 0.02,
         "rock": 0,
         "romance": 0.12,
         "techno": 0.17,
         "roadtrip": 0.14,
         "casual_run": 0.030000000000000006,
         "_deepnote_index_column": 3
        },
        {
         "name": "Strategy 3",
         "jazz": 0.06000000000000001,
         "pop": 0.04489795918367347,
         "raggae": 0.055999999999999994,
         "rock": 0.00625,
         "romance": 0.012,
         "techno": 0.012,
         "roadtrip": 0.022,
         "casual_run": 0.004166666666666667,
         "_deepnote_index_column": 4
        },
        {
         "name": "Strategy 4",
         "jazz": 0.19999999999999998,
         "pop": 0.04,
         "raggae": 0.12000000000000002,
         "rock": 0,
         "romance": 0,
         "techno": 0.07999999999999999,
         "roadtrip": 0.06,
         "casual_run": 0,
         "_deepnote_index_column": 5
        },
        {
         "name": "Strategy 5",
         "jazz": 0.1,
         "pop": 0.06,
         "raggae": 0.06000000000000001,
         "rock": 0,
         "romance": 0.05,
         "techno": 0.09,
         "roadtrip": 0.06,
         "casual_run": 0.02,
         "_deepnote_index_column": 6
        }
       ]
      },
      "text/plain": "              name  jazz       pop  raggae     rock  romance  techno  \\\n0             RAND  0.00  0.000000   0.020  0.00000    0.000   0.000   \n1  RAND from GENRE  0.08  0.120000   0.000  0.03000    0.030   0.000   \n2       Strategy 1  0.30  0.000000   0.000  0.00000    0.000   0.000   \n3       Strategy 2  0.38  0.050000   0.020  0.00000    0.120   0.170   \n4       Strategy 3  0.06  0.044898   0.056  0.00625    0.012   0.012   \n5       Strategy 4  0.20  0.040000   0.120  0.00000    0.000   0.080   \n6       Strategy 5  0.10  0.060000   0.060  0.00000    0.050   0.090   \n\n   roadtrip  casual_run  \n0     0.000    0.000000  \n1     0.060    0.000000  \n2     0.000    0.000000  \n3     0.140    0.030000  \n4     0.022    0.004167  \n5     0.060    0.000000  \n6     0.060    0.020000  ",
      "text/html": "<div>\n<style scoped>\n    .dataframe tbody tr th:only-of-type {\n        vertical-align: middle;\n    }\n\n    .dataframe tbody tr th {\n        vertical-align: top;\n    }\n\n    .dataframe thead th {\n        text-align: right;\n    }\n</style>\n<table border=\"1\" class=\"dataframe\">\n  <thead>\n    <tr style=\"text-align: right;\">\n      <th></th>\n      <th>name</th>\n      <th>jazz</th>\n      <th>pop</th>\n      <th>raggae</th>\n      <th>rock</th>\n      <th>romance</th>\n      <th>techno</th>\n      <th>roadtrip</th>\n      <th>casual_run</th>\n    </tr>\n  </thead>\n  <tbody>\n    <tr>\n      <th>0</th>\n      <td>RAND</td>\n      <td>0.00</td>\n      <td>0.000000</td>\n      <td>0.020</td>\n      <td>0.00000</td>\n      <td>0.000</td>\n      <td>0.000</td>\n      <td>0.000</td>\n      <td>0.000000</td>\n    </tr>\n    <tr>\n      <th>1</th>\n      <td>RAND from GENRE</td>\n      <td>0.08</td>\n      <td>0.120000</td>\n      <td>0.000</td>\n      <td>0.03000</td>\n      <td>0.030</td>\n      <td>0.000</td>\n      <td>0.060</td>\n      <td>0.000000</td>\n    </tr>\n    <tr>\n      <th>2</th>\n      <td>Strategy 1</td>\n      <td>0.30</td>\n      <td>0.000000</td>\n      <td>0.000</td>\n      <td>0.00000</td>\n      <td>0.000</td>\n      <td>0.000</td>\n      <td>0.000</td>\n      <td>0.000000</td>\n    </tr>\n    <tr>\n      <th>3</th>\n      <td>Strategy 2</td>\n      <td>0.38</td>\n      <td>0.050000</td>\n      <td>0.020</td>\n      <td>0.00000</td>\n      <td>0.120</td>\n      <td>0.170</td>\n      <td>0.140</td>\n      <td>0.030000</td>\n    </tr>\n    <tr>\n      <th>4</th>\n      <td>Strategy 3</td>\n      <td>0.06</td>\n      <td>0.044898</td>\n      <td>0.056</td>\n      <td>0.00625</td>\n      <td>0.012</td>\n      <td>0.012</td>\n      <td>0.022</td>\n      <td>0.004167</td>\n    </tr>\n    <tr>\n      <th>5</th>\n      <td>Strategy 4</td>\n      <td>0.20</td>\n      <td>0.040000</td>\n      <td>0.120</td>\n      <td>0.00000</td>\n      <td>0.000</td>\n      <td>0.080</td>\n      <td>0.060</td>\n      <td>0.000000</td>\n    </tr>\n    <tr>\n      <th>6</th>\n      <td>Strategy 5</td>\n      <td>0.10</td>\n      <td>0.060000</td>\n      <td>0.060</td>\n      <td>0.00000</td>\n      <td>0.050</td>\n      <td>0.090</td>\n      <td>0.060</td>\n      <td>0.020000</td>\n    </tr>\n  </tbody>\n</table>\n</div>"
     },
     "metadata": {}
    }
   ]
  },
  {
   "cell_type": "markdown",
   "source": "### Strategy 6: Heat Diffusion after clustering",
   "metadata": {
    "cell_id": "4ab0c032e54042e585ec792c5a554458",
    "tags": [],
    "deepnote_cell_type": "markdown",
    "deepnote_cell_height": 62
   }
  },
  {
   "cell_type": "markdown",
   "source": "#### Strategy 6 1.0 : Heat Diffusion after Louvain",
   "metadata": {
    "cell_id": "0cad5a13ef5f4b66a9439aa7b843574e",
    "tags": [],
    "deepnote_cell_type": "markdown",
    "deepnote_cell_height": 54
   }
  },
  {
   "cell_type": "code",
   "metadata": {
    "cell_id": "556f0c8b31d04223a1b60c64e806b74e",
    "tags": [],
    "deepnote_to_be_reexecuted": false,
    "source_hash": "24c1c6d8",
    "execution_start": 1655833819387,
    "execution_millis": 18645,
    "deepnote_table_state": {
     "pageSize": 10,
     "pageIndex": 1,
     "filters": [],
     "sortBy": []
    },
    "deepnote_table_loading": false,
    "deepnote_cell_type": "code",
    "deepnote_cell_height": 1778
   },
   "source": "iterations = 10\n\nrow = {p:0 for p in playlist_names}\nrow['name'] = 'Strategy 6 1.0'\n\nfor i in range(iterations):\n    total_selected = 5\n    louvain = Louvain()\n    lv_labels = louvain.fit_transform(adjacency)\n\n    for p in playlist_names:\n        s = 0\n        random_artists_in_playlist = np.random.choice(\n            playlist_dfs[p]['id'],\n            min(total_selected, playlist_dfs[p].shape[0]),\n            replace=False\n        )\n\n        random_artists_in_playlist = [artist_id_to_index[i] for i in random_artists_in_playlist]\n\n        dirichlet = DirichletClassifier()\n        seeds = {}\n        for art in random_artists_in_playlist:\n            seeds[art] = 1\n\n        clusters_p_art = np.unique(lv_labels[random_artists_in_playlist])\n        cluster_other_art = list(set(np.arange(len(counts))) - set(clusters_p_art))\n\n        count = 0\n        potential = np.random.choice(np.arange(len(artist_id_to_index)),min(4 * total_selected,len(artist_id_to_index)) ,replace=False)\n\n        for art in potential:\n            if count < total_selected:\n                if len(cluster_other_art) > 0:\n                    if lv_labels[art] in cluster_other_art:\n                        seeds[art] = 0\n                        count += 1\n                else:\n                    seeds[art] = 0\n                    count += 1\n            else:\n                break    \n\n        if count < total_selected:\n            for art in potential:\n                if count < total_selected:\n                    if art not in seeds.keys():\n                        seeds[art] = 0\n                        count += 1\n                else:\n                    break\n\n        dir_values = dirichlet.fit_transform(adjacency, seeds)\n\n        choices = []\n        for top in top_k(dir_values, min(5*total_selected, len(artist_id_to_index))):\n            if top not in seeds.keys():\n                choices.append(top)\n        choices = choices[:min(total_selected, playlist_dfs[p].shape[0])]\n\n        for c in choices:\n            s += 1 if artists.iloc[c][\"id\"] in list(playlist_dfs[p][\"id\"]) else 0\n        row[p] += s/len(choices)\n\n\n# Aggregate\nfor p in playlist_names:\n    row[p] = row[p] / iterations\n\nscores =  scores.append(row, ignore_index = True)\nscores",
   "execution_count": null,
   "outputs": [
    {
     "output_type": "execute_result",
     "execution_count": 18,
     "data": {
      "application/vnd.deepnote.dataframe.v3+json": {
       "column_count": 9,
       "row_count": 8,
       "columns": [
        {
         "name": "name",
         "dtype": "object",
         "stats": {
          "unique_count": 8,
          "nan_count": 0,
          "categories": [
           {
            "name": "RAND",
            "count": 1
           },
           {
            "name": "RAND from GENRE",
            "count": 1
           },
           {
            "name": "6 others",
            "count": 6
           }
          ]
         }
        },
        {
         "name": "jazz",
         "dtype": "float64",
         "stats": {
          "unique_count": 8,
          "nan_count": 0,
          "min": "0.0",
          "max": "0.38",
          "histogram": [
           {
            "bin_start": 0,
            "bin_end": 0.038,
            "count": 1
           },
           {
            "bin_start": 0.038,
            "bin_end": 0.076,
            "count": 1
           },
           {
            "bin_start": 0.076,
            "bin_end": 0.11399999999999999,
            "count": 2
           },
           {
            "bin_start": 0.11399999999999999,
            "bin_end": 0.152,
            "count": 1
           },
           {
            "bin_start": 0.152,
            "bin_end": 0.19,
            "count": 0
           },
           {
            "bin_start": 0.19,
            "bin_end": 0.22799999999999998,
            "count": 1
           },
           {
            "bin_start": 0.22799999999999998,
            "bin_end": 0.266,
            "count": 0
           },
           {
            "bin_start": 0.266,
            "bin_end": 0.304,
            "count": 1
           },
           {
            "bin_start": 0.304,
            "bin_end": 0.34199999999999997,
            "count": 0
           },
           {
            "bin_start": 0.34199999999999997,
            "bin_end": 0.38,
            "count": 1
           }
          ]
         }
        },
        {
         "name": "pop",
         "dtype": "float64",
         "stats": {
          "unique_count": 6,
          "nan_count": 0,
          "min": "0.0",
          "max": "0.12",
          "histogram": [
           {
            "bin_start": 0,
            "bin_end": 0.012,
            "count": 2
           },
           {
            "bin_start": 0.012,
            "bin_end": 0.024,
            "count": 0
           },
           {
            "bin_start": 0.024,
            "bin_end": 0.036000000000000004,
            "count": 0
           },
           {
            "bin_start": 0.036000000000000004,
            "bin_end": 0.048,
            "count": 3
           },
           {
            "bin_start": 0.048,
            "bin_end": 0.06,
            "count": 1
           },
           {
            "bin_start": 0.06,
            "bin_end": 0.07200000000000001,
            "count": 1
           },
           {
            "bin_start": 0.07200000000000001,
            "bin_end": 0.084,
            "count": 0
           },
           {
            "bin_start": 0.084,
            "bin_end": 0.096,
            "count": 0
           },
           {
            "bin_start": 0.096,
            "bin_end": 0.108,
            "count": 0
           },
           {
            "bin_start": 0.108,
            "bin_end": 0.12,
            "count": 1
           }
          ]
         }
        },
        {
         "name": "raggae",
         "dtype": "float64",
         "stats": {
          "unique_count": 5,
          "nan_count": 0,
          "min": "0.0",
          "max": "0.12000000000000002",
          "histogram": [
           {
            "bin_start": 0,
            "bin_end": 0.012000000000000002,
            "count": 2
           },
           {
            "bin_start": 0.012000000000000002,
            "bin_end": 0.024000000000000004,
            "count": 3
           },
           {
            "bin_start": 0.024000000000000004,
            "bin_end": 0.036000000000000004,
            "count": 0
           },
           {
            "bin_start": 0.036000000000000004,
            "bin_end": 0.04800000000000001,
            "count": 0
           },
           {
            "bin_start": 0.04800000000000001,
            "bin_end": 0.06000000000000001,
            "count": 1
           },
           {
            "bin_start": 0.06000000000000001,
            "bin_end": 0.07200000000000001,
            "count": 1
           },
           {
            "bin_start": 0.07200000000000001,
            "bin_end": 0.08400000000000002,
            "count": 0
           },
           {
            "bin_start": 0.08400000000000002,
            "bin_end": 0.09600000000000002,
            "count": 0
           },
           {
            "bin_start": 0.09600000000000002,
            "bin_end": 0.10800000000000001,
            "count": 0
           },
           {
            "bin_start": 0.10800000000000001,
            "bin_end": 0.12000000000000002,
            "count": 1
           }
          ]
         }
        },
        {
         "name": "rock",
         "dtype": "float64",
         "stats": {
          "unique_count": 4,
          "nan_count": 0,
          "min": "0.0",
          "max": "0.030000000000000006",
          "histogram": [
           {
            "bin_start": 0,
            "bin_end": 0.0030000000000000005,
            "count": 5
           },
           {
            "bin_start": 0.0030000000000000005,
            "bin_end": 0.006000000000000001,
            "count": 0
           },
           {
            "bin_start": 0.006000000000000001,
            "bin_end": 0.009000000000000001,
            "count": 1
           },
           {
            "bin_start": 0.009000000000000001,
            "bin_end": 0.012000000000000002,
            "count": 0
           },
           {
            "bin_start": 0.012000000000000002,
            "bin_end": 0.015000000000000003,
            "count": 0
           },
           {
            "bin_start": 0.015000000000000003,
            "bin_end": 0.018000000000000002,
            "count": 0
           },
           {
            "bin_start": 0.018000000000000002,
            "bin_end": 0.021000000000000005,
            "count": 1
           },
           {
            "bin_start": 0.021000000000000005,
            "bin_end": 0.024000000000000004,
            "count": 0
           },
           {
            "bin_start": 0.024000000000000004,
            "bin_end": 0.027000000000000003,
            "count": 0
           },
           {
            "bin_start": 0.027000000000000003,
            "bin_end": 0.030000000000000006,
            "count": 1
           }
          ]
         }
        },
        {
         "name": "romance",
         "dtype": "float64",
         "stats": {
          "unique_count": 6,
          "nan_count": 0,
          "min": "0.0",
          "max": "0.12",
          "histogram": [
           {
            "bin_start": 0,
            "bin_end": 0.012,
            "count": 3
           },
           {
            "bin_start": 0.012,
            "bin_end": 0.024,
            "count": 2
           },
           {
            "bin_start": 0.024,
            "bin_end": 0.036000000000000004,
            "count": 1
           },
           {
            "bin_start": 0.036000000000000004,
            "bin_end": 0.048,
            "count": 0
           },
           {
            "bin_start": 0.048,
            "bin_end": 0.06,
            "count": 1
           },
           {
            "bin_start": 0.06,
            "bin_end": 0.07200000000000001,
            "count": 0
           },
           {
            "bin_start": 0.07200000000000001,
            "bin_end": 0.084,
            "count": 0
           },
           {
            "bin_start": 0.084,
            "bin_end": 0.096,
            "count": 0
           },
           {
            "bin_start": 0.096,
            "bin_end": 0.108,
            "count": 0
           },
           {
            "bin_start": 0.108,
            "bin_end": 0.12,
            "count": 1
           }
          ]
         }
        },
        {
         "name": "techno",
         "dtype": "float64",
         "stats": {
          "unique_count": 6,
          "nan_count": 0,
          "min": "0.0",
          "max": "0.17",
          "histogram": [
           {
            "bin_start": 0,
            "bin_end": 0.017,
            "count": 4
           },
           {
            "bin_start": 0.017,
            "bin_end": 0.034,
            "count": 0
           },
           {
            "bin_start": 0.034,
            "bin_end": 0.051000000000000004,
            "count": 0
           },
           {
            "bin_start": 0.051000000000000004,
            "bin_end": 0.068,
            "count": 0
           },
           {
            "bin_start": 0.068,
            "bin_end": 0.085,
            "count": 1
           },
           {
            "bin_start": 0.085,
            "bin_end": 0.10200000000000001,
            "count": 1
           },
           {
            "bin_start": 0.10200000000000001,
            "bin_end": 0.11900000000000001,
            "count": 0
           },
           {
            "bin_start": 0.11900000000000001,
            "bin_end": 0.136,
            "count": 0
           },
           {
            "bin_start": 0.136,
            "bin_end": 0.15300000000000002,
            "count": 1
           },
           {
            "bin_start": 0.15300000000000002,
            "bin_end": 0.17,
            "count": 1
           }
          ]
         }
        },
        {
         "name": "roadtrip",
         "dtype": "float64",
         "stats": {
          "unique_count": 5,
          "nan_count": 0,
          "min": "0.0",
          "max": "0.14",
          "histogram": [
           {
            "bin_start": 0,
            "bin_end": 0.014000000000000002,
            "count": 2
           },
           {
            "bin_start": 0.014000000000000002,
            "bin_end": 0.028000000000000004,
            "count": 1
           },
           {
            "bin_start": 0.028000000000000004,
            "bin_end": 0.04200000000000001,
            "count": 1
           },
           {
            "bin_start": 0.04200000000000001,
            "bin_end": 0.05600000000000001,
            "count": 0
           },
           {
            "bin_start": 0.05600000000000001,
            "bin_end": 0.07,
            "count": 3
           },
           {
            "bin_start": 0.07,
            "bin_end": 0.08400000000000002,
            "count": 0
           },
           {
            "bin_start": 0.08400000000000002,
            "bin_end": 0.09800000000000002,
            "count": 0
           },
           {
            "bin_start": 0.09800000000000002,
            "bin_end": 0.11200000000000002,
            "count": 0
           },
           {
            "bin_start": 0.11200000000000002,
            "bin_end": 0.12600000000000003,
            "count": 0
           },
           {
            "bin_start": 0.12600000000000003,
            "bin_end": 0.14,
            "count": 1
           }
          ]
         }
        },
        {
         "name": "casual_run",
         "dtype": "float64",
         "stats": {
          "unique_count": 4,
          "nan_count": 0,
          "min": "0.0",
          "max": "0.030000000000000006",
          "histogram": [
           {
            "bin_start": 0,
            "bin_end": 0.0030000000000000005,
            "count": 4
           },
           {
            "bin_start": 0.0030000000000000005,
            "bin_end": 0.006000000000000001,
            "count": 1
           },
           {
            "bin_start": 0.006000000000000001,
            "bin_end": 0.009000000000000001,
            "count": 0
           },
           {
            "bin_start": 0.009000000000000001,
            "bin_end": 0.012000000000000002,
            "count": 0
           },
           {
            "bin_start": 0.012000000000000002,
            "bin_end": 0.015000000000000003,
            "count": 0
           },
           {
            "bin_start": 0.015000000000000003,
            "bin_end": 0.018000000000000002,
            "count": 0
           },
           {
            "bin_start": 0.018000000000000002,
            "bin_end": 0.021000000000000005,
            "count": 2
           },
           {
            "bin_start": 0.021000000000000005,
            "bin_end": 0.024000000000000004,
            "count": 0
           },
           {
            "bin_start": 0.024000000000000004,
            "bin_end": 0.027000000000000003,
            "count": 0
           },
           {
            "bin_start": 0.027000000000000003,
            "bin_end": 0.030000000000000006,
            "count": 1
           }
          ]
         }
        },
        {
         "name": "_deepnote_index_column",
         "dtype": "int64"
        }
       ],
       "rows": [
        {
         "name": "RAND",
         "jazz": 0,
         "pop": 0,
         "raggae": 0.02,
         "rock": 0,
         "romance": 0,
         "techno": 0,
         "roadtrip": 0,
         "casual_run": 0,
         "_deepnote_index_column": 0
        },
        {
         "name": "RAND from GENRE",
         "jazz": 0.07999999999999999,
         "pop": 0.12,
         "raggae": 0,
         "rock": 0.030000000000000006,
         "romance": 0.030000000000000006,
         "techno": 0,
         "roadtrip": 0.06,
         "casual_run": 0,
         "_deepnote_index_column": 1
        },
        {
         "name": "Strategy 1",
         "jazz": 0.3,
         "pop": 0,
         "raggae": 0,
         "rock": 0,
         "romance": 0,
         "techno": 0,
         "roadtrip": 0,
         "casual_run": 0,
         "_deepnote_index_column": 2
        },
        {
         "name": "Strategy 2",
         "jazz": 0.38,
         "pop": 0.05,
         "raggae": 0.02,
         "rock": 0,
         "romance": 0.12,
         "techno": 0.17,
         "roadtrip": 0.14,
         "casual_run": 0.030000000000000006,
         "_deepnote_index_column": 3
        },
        {
         "name": "Strategy 3",
         "jazz": 0.06000000000000001,
         "pop": 0.04489795918367347,
         "raggae": 0.055999999999999994,
         "rock": 0.00625,
         "romance": 0.012,
         "techno": 0.012,
         "roadtrip": 0.022,
         "casual_run": 0.004166666666666667,
         "_deepnote_index_column": 4
        },
        {
         "name": "Strategy 4",
         "jazz": 0.19999999999999998,
         "pop": 0.04,
         "raggae": 0.12000000000000002,
         "rock": 0,
         "romance": 0,
         "techno": 0.07999999999999999,
         "roadtrip": 0.06,
         "casual_run": 0,
         "_deepnote_index_column": 5
        },
        {
         "name": "Strategy 5",
         "jazz": 0.1,
         "pop": 0.06,
         "raggae": 0.06000000000000001,
         "rock": 0,
         "romance": 0.05,
         "techno": 0.09,
         "roadtrip": 0.06,
         "casual_run": 0.02,
         "_deepnote_index_column": 6
        },
        {
         "name": "Strategy 6 1.0",
         "jazz": 0.12000000000000002,
         "pop": 0.04,
         "raggae": 0.02,
         "rock": 0.02,
         "romance": 0.02,
         "techno": 0.13999999999999999,
         "roadtrip": 0.04,
         "casual_run": 0.02,
         "_deepnote_index_column": 7
        }
       ]
      },
      "text/plain": "              name  jazz       pop  raggae     rock  romance  techno  \\\n0             RAND  0.00  0.000000   0.020  0.00000    0.000   0.000   \n1  RAND from GENRE  0.08  0.120000   0.000  0.03000    0.030   0.000   \n2       Strategy 1  0.30  0.000000   0.000  0.00000    0.000   0.000   \n3       Strategy 2  0.38  0.050000   0.020  0.00000    0.120   0.170   \n4       Strategy 3  0.06  0.044898   0.056  0.00625    0.012   0.012   \n5       Strategy 4  0.20  0.040000   0.120  0.00000    0.000   0.080   \n6       Strategy 5  0.10  0.060000   0.060  0.00000    0.050   0.090   \n7   Strategy 6 1.0  0.12  0.040000   0.020  0.02000    0.020   0.140   \n\n   roadtrip  casual_run  \n0     0.000    0.000000  \n1     0.060    0.000000  \n2     0.000    0.000000  \n3     0.140    0.030000  \n4     0.022    0.004167  \n5     0.060    0.000000  \n6     0.060    0.020000  \n7     0.040    0.020000  ",
      "text/html": "<div>\n<style scoped>\n    .dataframe tbody tr th:only-of-type {\n        vertical-align: middle;\n    }\n\n    .dataframe tbody tr th {\n        vertical-align: top;\n    }\n\n    .dataframe thead th {\n        text-align: right;\n    }\n</style>\n<table border=\"1\" class=\"dataframe\">\n  <thead>\n    <tr style=\"text-align: right;\">\n      <th></th>\n      <th>name</th>\n      <th>jazz</th>\n      <th>pop</th>\n      <th>raggae</th>\n      <th>rock</th>\n      <th>romance</th>\n      <th>techno</th>\n      <th>roadtrip</th>\n      <th>casual_run</th>\n    </tr>\n  </thead>\n  <tbody>\n    <tr>\n      <th>0</th>\n      <td>RAND</td>\n      <td>0.00</td>\n      <td>0.000000</td>\n      <td>0.020</td>\n      <td>0.00000</td>\n      <td>0.000</td>\n      <td>0.000</td>\n      <td>0.000</td>\n      <td>0.000000</td>\n    </tr>\n    <tr>\n      <th>1</th>\n      <td>RAND from GENRE</td>\n      <td>0.08</td>\n      <td>0.120000</td>\n      <td>0.000</td>\n      <td>0.03000</td>\n      <td>0.030</td>\n      <td>0.000</td>\n      <td>0.060</td>\n      <td>0.000000</td>\n    </tr>\n    <tr>\n      <th>2</th>\n      <td>Strategy 1</td>\n      <td>0.30</td>\n      <td>0.000000</td>\n      <td>0.000</td>\n      <td>0.00000</td>\n      <td>0.000</td>\n      <td>0.000</td>\n      <td>0.000</td>\n      <td>0.000000</td>\n    </tr>\n    <tr>\n      <th>3</th>\n      <td>Strategy 2</td>\n      <td>0.38</td>\n      <td>0.050000</td>\n      <td>0.020</td>\n      <td>0.00000</td>\n      <td>0.120</td>\n      <td>0.170</td>\n      <td>0.140</td>\n      <td>0.030000</td>\n    </tr>\n    <tr>\n      <th>4</th>\n      <td>Strategy 3</td>\n      <td>0.06</td>\n      <td>0.044898</td>\n      <td>0.056</td>\n      <td>0.00625</td>\n      <td>0.012</td>\n      <td>0.012</td>\n      <td>0.022</td>\n      <td>0.004167</td>\n    </tr>\n    <tr>\n      <th>5</th>\n      <td>Strategy 4</td>\n      <td>0.20</td>\n      <td>0.040000</td>\n      <td>0.120</td>\n      <td>0.00000</td>\n      <td>0.000</td>\n      <td>0.080</td>\n      <td>0.060</td>\n      <td>0.000000</td>\n    </tr>\n    <tr>\n      <th>6</th>\n      <td>Strategy 5</td>\n      <td>0.10</td>\n      <td>0.060000</td>\n      <td>0.060</td>\n      <td>0.00000</td>\n      <td>0.050</td>\n      <td>0.090</td>\n      <td>0.060</td>\n      <td>0.020000</td>\n    </tr>\n    <tr>\n      <th>7</th>\n      <td>Strategy 6 1.0</td>\n      <td>0.12</td>\n      <td>0.040000</td>\n      <td>0.020</td>\n      <td>0.02000</td>\n      <td>0.020</td>\n      <td>0.140</td>\n      <td>0.040</td>\n      <td>0.020000</td>\n    </tr>\n  </tbody>\n</table>\n</div>"
     },
     "metadata": {}
    }
   ]
  },
  {
   "cell_type": "markdown",
   "source": "#### Strategy 6 2.0: Heat Diffusion after Deterministic clustering based on artist genres",
   "metadata": {
    "cell_id": "8ce3eaa3bea44bc88b56096306c60e4e",
    "tags": [],
    "deepnote_cell_type": "markdown",
    "deepnote_cell_height": 54
   }
  },
  {
   "cell_type": "code",
   "metadata": {
    "cell_id": "bc8b63831316417283e030c251be202c",
    "tags": [],
    "deepnote_to_be_reexecuted": false,
    "source_hash": "6d170392",
    "execution_start": 1655833838041,
    "execution_millis": 21734,
    "deepnote_cell_type": "code",
    "deepnote_cell_height": 1855
   },
   "source": "iterations = 10\n\nrow = {p:0 for p in playlist_names}\nrow['name'] = 'Strategy 6 2.0'\n\nfor i in range(iterations):\n    total_selected = 5\n    for p in playlist_names:\n        s = 0\n        idx_random_artists_in_playlist = np.random.choice(\n            playlist_dfs[p].shape[0],\n            min(total_selected, playlist_dfs[p].shape[0]),\n            replace=False\n        )\n        random_artists_in_playlist = playlist_dfs[p].iloc[idx_random_artists_in_playlist]\n\n        id_random_artists_in_playlist = random_artists_in_playlist['id']\n        id_random_artists_in_playlist = [artist_id_to_index[i] for i in id_random_artists_in_playlist]\n\n        art_genres = set()\n        for i in range(random_artists_in_playlist.shape[0]):\n            for j in range(len(random_artists_in_playlist.iloc[i]['genres'])):\n                art_genres.add(random_artists_in_playlist.iloc[i]['genres'][j])\n        \n        \n\n        dirichlet = DirichletClassifier()\n        seeds = {}\n        for art in id_random_artists_in_playlist:\n            seeds[art] = 1\n\n        cluster_other_art = all_genres - art_genres\n\n        count = 0\n        potential = np.random.choice(np.arange(len(artist_id_to_index)),min(4 * total_selected,len(artist_id_to_index)) ,replace=False)\n        for art in potential:\n            if count < total_selected:\n                if len(cluster_other_art) > 0:\n                    if len(set(artists.iloc[art]['genres']).intersection(cluster_other_art)) > 0:\n                        seeds[art] = 0\n                        count += 1\n                else:\n                    seeds[art] = 0\n            else:\n                break\n        \n        if count < total_selected:\n            for art in potential:\n                if count < total_selected:\n                    if art not in seeds.keys():\n                        seeds[art] = 0\n                        count += 1\n                else:\n                    break\n\n        dir_values = dirichlet.fit_transform(adjacency, seeds)\n\n        choices = []\n        for top in top_k(dir_values, min(5*total_selected, len(artist_id_to_index))):\n            if top not in seeds.keys():\n                choices.append(top)\n        choices = choices[:min(total_selected, playlist_dfs[p].shape[0])]\n\n        for c in choices:\n            s += 1 if artists.iloc[c][\"id\"] in list(playlist_dfs[p][\"id\"]) else 0\n        row[p] += s/len(choices)\n\n# Aggregate\nfor p in playlist_names:\n    row[p] = row[p] / iterations\n\nscores =  scores.append(row, ignore_index = True)\nscores",
   "execution_count": null,
   "outputs": [
    {
     "output_type": "execute_result",
     "execution_count": 19,
     "data": {
      "application/vnd.deepnote.dataframe.v3+json": {
       "column_count": 9,
       "row_count": 9,
       "columns": [
        {
         "name": "name",
         "dtype": "object",
         "stats": {
          "unique_count": 9,
          "nan_count": 0,
          "categories": [
           {
            "name": "RAND",
            "count": 1
           },
           {
            "name": "RAND from GENRE",
            "count": 1
           },
           {
            "name": "7 others",
            "count": 7
           }
          ]
         }
        },
        {
         "name": "jazz",
         "dtype": "float64",
         "stats": {
          "unique_count": 8,
          "nan_count": 0,
          "min": "0.0",
          "max": "0.38",
          "histogram": [
           {
            "bin_start": 0,
            "bin_end": 0.038,
            "count": 1
           },
           {
            "bin_start": 0.038,
            "bin_end": 0.076,
            "count": 1
           },
           {
            "bin_start": 0.076,
            "bin_end": 0.11399999999999999,
            "count": 3
           },
           {
            "bin_start": 0.11399999999999999,
            "bin_end": 0.152,
            "count": 1
           },
           {
            "bin_start": 0.152,
            "bin_end": 0.19,
            "count": 0
           },
           {
            "bin_start": 0.19,
            "bin_end": 0.22799999999999998,
            "count": 1
           },
           {
            "bin_start": 0.22799999999999998,
            "bin_end": 0.266,
            "count": 0
           },
           {
            "bin_start": 0.266,
            "bin_end": 0.304,
            "count": 1
           },
           {
            "bin_start": 0.304,
            "bin_end": 0.34199999999999997,
            "count": 0
           },
           {
            "bin_start": 0.34199999999999997,
            "bin_end": 0.38,
            "count": 1
           }
          ]
         }
        },
        {
         "name": "pop",
         "dtype": "float64",
         "stats": {
          "unique_count": 7,
          "nan_count": 0,
          "min": "0.0",
          "max": "0.12",
          "histogram": [
           {
            "bin_start": 0,
            "bin_end": 0.012,
            "count": 2
           },
           {
            "bin_start": 0.012,
            "bin_end": 0.024,
            "count": 0
           },
           {
            "bin_start": 0.024,
            "bin_end": 0.036000000000000004,
            "count": 0
           },
           {
            "bin_start": 0.036000000000000004,
            "bin_end": 0.048,
            "count": 3
           },
           {
            "bin_start": 0.048,
            "bin_end": 0.06,
            "count": 1
           },
           {
            "bin_start": 0.06,
            "bin_end": 0.07200000000000001,
            "count": 1
           },
           {
            "bin_start": 0.07200000000000001,
            "bin_end": 0.084,
            "count": 1
           },
           {
            "bin_start": 0.084,
            "bin_end": 0.096,
            "count": 0
           },
           {
            "bin_start": 0.096,
            "bin_end": 0.108,
            "count": 0
           },
           {
            "bin_start": 0.108,
            "bin_end": 0.12,
            "count": 1
           }
          ]
         }
        },
        {
         "name": "raggae",
         "dtype": "float64",
         "stats": {
          "unique_count": 5,
          "nan_count": 0,
          "min": "0.0",
          "max": "0.12000000000000002",
          "histogram": [
           {
            "bin_start": 0,
            "bin_end": 0.012000000000000002,
            "count": 2
           },
           {
            "bin_start": 0.012000000000000002,
            "bin_end": 0.024000000000000004,
            "count": 3
           },
           {
            "bin_start": 0.024000000000000004,
            "bin_end": 0.036000000000000004,
            "count": 0
           },
           {
            "bin_start": 0.036000000000000004,
            "bin_end": 0.04800000000000001,
            "count": 0
           },
           {
            "bin_start": 0.04800000000000001,
            "bin_end": 0.06000000000000001,
            "count": 1
           },
           {
            "bin_start": 0.06000000000000001,
            "bin_end": 0.07200000000000001,
            "count": 2
           },
           {
            "bin_start": 0.07200000000000001,
            "bin_end": 0.08400000000000002,
            "count": 0
           },
           {
            "bin_start": 0.08400000000000002,
            "bin_end": 0.09600000000000002,
            "count": 0
           },
           {
            "bin_start": 0.09600000000000002,
            "bin_end": 0.10800000000000001,
            "count": 0
           },
           {
            "bin_start": 0.10800000000000001,
            "bin_end": 0.12000000000000002,
            "count": 1
           }
          ]
         }
        },
        {
         "name": "rock",
         "dtype": "float64",
         "stats": {
          "unique_count": 4,
          "nan_count": 0,
          "min": "0.0",
          "max": "0.030000000000000006",
          "histogram": [
           {
            "bin_start": 0,
            "bin_end": 0.0030000000000000005,
            "count": 6
           },
           {
            "bin_start": 0.0030000000000000005,
            "bin_end": 0.006000000000000001,
            "count": 0
           },
           {
            "bin_start": 0.006000000000000001,
            "bin_end": 0.009000000000000001,
            "count": 1
           },
           {
            "bin_start": 0.009000000000000001,
            "bin_end": 0.012000000000000002,
            "count": 0
           },
           {
            "bin_start": 0.012000000000000002,
            "bin_end": 0.015000000000000003,
            "count": 0
           },
           {
            "bin_start": 0.015000000000000003,
            "bin_end": 0.018000000000000002,
            "count": 0
           },
           {
            "bin_start": 0.018000000000000002,
            "bin_end": 0.021000000000000005,
            "count": 1
           },
           {
            "bin_start": 0.021000000000000005,
            "bin_end": 0.024000000000000004,
            "count": 0
           },
           {
            "bin_start": 0.024000000000000004,
            "bin_end": 0.027000000000000003,
            "count": 0
           },
           {
            "bin_start": 0.027000000000000003,
            "bin_end": 0.030000000000000006,
            "count": 1
           }
          ]
         }
        },
        {
         "name": "romance",
         "dtype": "float64",
         "stats": {
          "unique_count": 7,
          "nan_count": 0,
          "min": "0.0",
          "max": "0.12",
          "histogram": [
           {
            "bin_start": 0,
            "bin_end": 0.012,
            "count": 3
           },
           {
            "bin_start": 0.012,
            "bin_end": 0.024,
            "count": 2
           },
           {
            "bin_start": 0.024,
            "bin_end": 0.036000000000000004,
            "count": 1
           },
           {
            "bin_start": 0.036000000000000004,
            "bin_end": 0.048,
            "count": 0
           },
           {
            "bin_start": 0.048,
            "bin_end": 0.06,
            "count": 1
           },
           {
            "bin_start": 0.06,
            "bin_end": 0.07200000000000001,
            "count": 1
           },
           {
            "bin_start": 0.07200000000000001,
            "bin_end": 0.084,
            "count": 0
           },
           {
            "bin_start": 0.084,
            "bin_end": 0.096,
            "count": 0
           },
           {
            "bin_start": 0.096,
            "bin_end": 0.108,
            "count": 0
           },
           {
            "bin_start": 0.108,
            "bin_end": 0.12,
            "count": 1
           }
          ]
         }
        },
        {
         "name": "techno",
         "dtype": "float64",
         "stats": {
          "unique_count": 6,
          "nan_count": 0,
          "min": "0.0",
          "max": "0.17",
          "histogram": [
           {
            "bin_start": 0,
            "bin_end": 0.017,
            "count": 4
           },
           {
            "bin_start": 0.017,
            "bin_end": 0.034,
            "count": 0
           },
           {
            "bin_start": 0.034,
            "bin_end": 0.051000000000000004,
            "count": 0
           },
           {
            "bin_start": 0.051000000000000004,
            "bin_end": 0.068,
            "count": 0
           },
           {
            "bin_start": 0.068,
            "bin_end": 0.085,
            "count": 1
           },
           {
            "bin_start": 0.085,
            "bin_end": 0.10200000000000001,
            "count": 1
           },
           {
            "bin_start": 0.10200000000000001,
            "bin_end": 0.11900000000000001,
            "count": 0
           },
           {
            "bin_start": 0.11900000000000001,
            "bin_end": 0.136,
            "count": 0
           },
           {
            "bin_start": 0.136,
            "bin_end": 0.15300000000000002,
            "count": 2
           },
           {
            "bin_start": 0.15300000000000002,
            "bin_end": 0.17,
            "count": 1
           }
          ]
         }
        },
        {
         "name": "roadtrip",
         "dtype": "float64",
         "stats": {
          "unique_count": 6,
          "nan_count": 0,
          "min": "0.0",
          "max": "0.14",
          "histogram": [
           {
            "bin_start": 0,
            "bin_end": 0.014000000000000002,
            "count": 2
           },
           {
            "bin_start": 0.014000000000000002,
            "bin_end": 0.028000000000000004,
            "count": 1
           },
           {
            "bin_start": 0.028000000000000004,
            "bin_end": 0.04200000000000001,
            "count": 1
           },
           {
            "bin_start": 0.04200000000000001,
            "bin_end": 0.05600000000000001,
            "count": 0
           },
           {
            "bin_start": 0.05600000000000001,
            "bin_end": 0.07,
            "count": 3
           },
           {
            "bin_start": 0.07,
            "bin_end": 0.08400000000000002,
            "count": 0
           },
           {
            "bin_start": 0.08400000000000002,
            "bin_end": 0.09800000000000002,
            "count": 0
           },
           {
            "bin_start": 0.09800000000000002,
            "bin_end": 0.11200000000000002,
            "count": 0
           },
           {
            "bin_start": 0.11200000000000002,
            "bin_end": 0.12600000000000003,
            "count": 1
           },
           {
            "bin_start": 0.12600000000000003,
            "bin_end": 0.14,
            "count": 1
           }
          ]
         }
        },
        {
         "name": "casual_run",
         "dtype": "float64",
         "stats": {
          "unique_count": 4,
          "nan_count": 0,
          "min": "0.0",
          "max": "0.030000000000000006",
          "histogram": [
           {
            "bin_start": 0,
            "bin_end": 0.0030000000000000005,
            "count": 5
           },
           {
            "bin_start": 0.0030000000000000005,
            "bin_end": 0.006000000000000001,
            "count": 1
           },
           {
            "bin_start": 0.006000000000000001,
            "bin_end": 0.009000000000000001,
            "count": 0
           },
           {
            "bin_start": 0.009000000000000001,
            "bin_end": 0.012000000000000002,
            "count": 0
           },
           {
            "bin_start": 0.012000000000000002,
            "bin_end": 0.015000000000000003,
            "count": 0
           },
           {
            "bin_start": 0.015000000000000003,
            "bin_end": 0.018000000000000002,
            "count": 0
           },
           {
            "bin_start": 0.018000000000000002,
            "bin_end": 0.021000000000000005,
            "count": 2
           },
           {
            "bin_start": 0.021000000000000005,
            "bin_end": 0.024000000000000004,
            "count": 0
           },
           {
            "bin_start": 0.024000000000000004,
            "bin_end": 0.027000000000000003,
            "count": 0
           },
           {
            "bin_start": 0.027000000000000003,
            "bin_end": 0.030000000000000006,
            "count": 1
           }
          ]
         }
        },
        {
         "name": "_deepnote_index_column",
         "dtype": "int64"
        }
       ],
       "rows": [
        {
         "name": "RAND",
         "jazz": 0,
         "pop": 0,
         "raggae": 0.02,
         "rock": 0,
         "romance": 0,
         "techno": 0,
         "roadtrip": 0,
         "casual_run": 0,
         "_deepnote_index_column": 0
        },
        {
         "name": "RAND from GENRE",
         "jazz": 0.07999999999999999,
         "pop": 0.12,
         "raggae": 0,
         "rock": 0.030000000000000006,
         "romance": 0.030000000000000006,
         "techno": 0,
         "roadtrip": 0.06,
         "casual_run": 0,
         "_deepnote_index_column": 1
        },
        {
         "name": "Strategy 1",
         "jazz": 0.3,
         "pop": 0,
         "raggae": 0,
         "rock": 0,
         "romance": 0,
         "techno": 0,
         "roadtrip": 0,
         "casual_run": 0,
         "_deepnote_index_column": 2
        },
        {
         "name": "Strategy 2",
         "jazz": 0.38,
         "pop": 0.05,
         "raggae": 0.02,
         "rock": 0,
         "romance": 0.12,
         "techno": 0.17,
         "roadtrip": 0.14,
         "casual_run": 0.030000000000000006,
         "_deepnote_index_column": 3
        },
        {
         "name": "Strategy 3",
         "jazz": 0.06000000000000001,
         "pop": 0.04489795918367347,
         "raggae": 0.055999999999999994,
         "rock": 0.00625,
         "romance": 0.012,
         "techno": 0.012,
         "roadtrip": 0.022,
         "casual_run": 0.004166666666666667,
         "_deepnote_index_column": 4
        },
        {
         "name": "Strategy 4",
         "jazz": 0.19999999999999998,
         "pop": 0.04,
         "raggae": 0.12000000000000002,
         "rock": 0,
         "romance": 0,
         "techno": 0.07999999999999999,
         "roadtrip": 0.06,
         "casual_run": 0,
         "_deepnote_index_column": 5
        },
        {
         "name": "Strategy 5",
         "jazz": 0.1,
         "pop": 0.06,
         "raggae": 0.06000000000000001,
         "rock": 0,
         "romance": 0.05,
         "techno": 0.09,
         "roadtrip": 0.06,
         "casual_run": 0.02,
         "_deepnote_index_column": 6
        },
        {
         "name": "Strategy 6 1.0",
         "jazz": 0.12000000000000002,
         "pop": 0.04,
         "raggae": 0.02,
         "rock": 0.02,
         "romance": 0.02,
         "techno": 0.13999999999999999,
         "roadtrip": 0.04,
         "casual_run": 0.02,
         "_deepnote_index_column": 7
        },
        {
         "name": "Strategy 6 2.0",
         "jazz": 0.1,
         "pop": 0.08,
         "raggae": 0.06000000000000001,
         "rock": 0,
         "romance": 0.06000000000000001,
         "techno": 0.13999999999999999,
         "roadtrip": 0.12,
         "casual_run": 0,
         "_deepnote_index_column": 8
        }
       ]
      },
      "text/plain": "              name  jazz       pop  raggae     rock  romance  techno  \\\n0             RAND  0.00  0.000000   0.020  0.00000    0.000   0.000   \n1  RAND from GENRE  0.08  0.120000   0.000  0.03000    0.030   0.000   \n2       Strategy 1  0.30  0.000000   0.000  0.00000    0.000   0.000   \n3       Strategy 2  0.38  0.050000   0.020  0.00000    0.120   0.170   \n4       Strategy 3  0.06  0.044898   0.056  0.00625    0.012   0.012   \n5       Strategy 4  0.20  0.040000   0.120  0.00000    0.000   0.080   \n6       Strategy 5  0.10  0.060000   0.060  0.00000    0.050   0.090   \n7   Strategy 6 1.0  0.12  0.040000   0.020  0.02000    0.020   0.140   \n8   Strategy 6 2.0  0.10  0.080000   0.060  0.00000    0.060   0.140   \n\n   roadtrip  casual_run  \n0     0.000    0.000000  \n1     0.060    0.000000  \n2     0.000    0.000000  \n3     0.140    0.030000  \n4     0.022    0.004167  \n5     0.060    0.000000  \n6     0.060    0.020000  \n7     0.040    0.020000  \n8     0.120    0.000000  ",
      "text/html": "<div>\n<style scoped>\n    .dataframe tbody tr th:only-of-type {\n        vertical-align: middle;\n    }\n\n    .dataframe tbody tr th {\n        vertical-align: top;\n    }\n\n    .dataframe thead th {\n        text-align: right;\n    }\n</style>\n<table border=\"1\" class=\"dataframe\">\n  <thead>\n    <tr style=\"text-align: right;\">\n      <th></th>\n      <th>name</th>\n      <th>jazz</th>\n      <th>pop</th>\n      <th>raggae</th>\n      <th>rock</th>\n      <th>romance</th>\n      <th>techno</th>\n      <th>roadtrip</th>\n      <th>casual_run</th>\n    </tr>\n  </thead>\n  <tbody>\n    <tr>\n      <th>0</th>\n      <td>RAND</td>\n      <td>0.00</td>\n      <td>0.000000</td>\n      <td>0.020</td>\n      <td>0.00000</td>\n      <td>0.000</td>\n      <td>0.000</td>\n      <td>0.000</td>\n      <td>0.000000</td>\n    </tr>\n    <tr>\n      <th>1</th>\n      <td>RAND from GENRE</td>\n      <td>0.08</td>\n      <td>0.120000</td>\n      <td>0.000</td>\n      <td>0.03000</td>\n      <td>0.030</td>\n      <td>0.000</td>\n      <td>0.060</td>\n      <td>0.000000</td>\n    </tr>\n    <tr>\n      <th>2</th>\n      <td>Strategy 1</td>\n      <td>0.30</td>\n      <td>0.000000</td>\n      <td>0.000</td>\n      <td>0.00000</td>\n      <td>0.000</td>\n      <td>0.000</td>\n      <td>0.000</td>\n      <td>0.000000</td>\n    </tr>\n    <tr>\n      <th>3</th>\n      <td>Strategy 2</td>\n      <td>0.38</td>\n      <td>0.050000</td>\n      <td>0.020</td>\n      <td>0.00000</td>\n      <td>0.120</td>\n      <td>0.170</td>\n      <td>0.140</td>\n      <td>0.030000</td>\n    </tr>\n    <tr>\n      <th>4</th>\n      <td>Strategy 3</td>\n      <td>0.06</td>\n      <td>0.044898</td>\n      <td>0.056</td>\n      <td>0.00625</td>\n      <td>0.012</td>\n      <td>0.012</td>\n      <td>0.022</td>\n      <td>0.004167</td>\n    </tr>\n    <tr>\n      <th>5</th>\n      <td>Strategy 4</td>\n      <td>0.20</td>\n      <td>0.040000</td>\n      <td>0.120</td>\n      <td>0.00000</td>\n      <td>0.000</td>\n      <td>0.080</td>\n      <td>0.060</td>\n      <td>0.000000</td>\n    </tr>\n    <tr>\n      <th>6</th>\n      <td>Strategy 5</td>\n      <td>0.10</td>\n      <td>0.060000</td>\n      <td>0.060</td>\n      <td>0.00000</td>\n      <td>0.050</td>\n      <td>0.090</td>\n      <td>0.060</td>\n      <td>0.020000</td>\n    </tr>\n    <tr>\n      <th>7</th>\n      <td>Strategy 6 1.0</td>\n      <td>0.12</td>\n      <td>0.040000</td>\n      <td>0.020</td>\n      <td>0.02000</td>\n      <td>0.020</td>\n      <td>0.140</td>\n      <td>0.040</td>\n      <td>0.020000</td>\n    </tr>\n    <tr>\n      <th>8</th>\n      <td>Strategy 6 2.0</td>\n      <td>0.10</td>\n      <td>0.080000</td>\n      <td>0.060</td>\n      <td>0.00000</td>\n      <td>0.060</td>\n      <td>0.140</td>\n      <td>0.120</td>\n      <td>0.000000</td>\n    </tr>\n  </tbody>\n</table>\n</div>"
     },
     "metadata": {}
    }
   ]
  },
  {
   "cell_type": "markdown",
   "source": "# Visualizing results and conclusion",
   "metadata": {
    "cell_id": "7a2191714a544a358b6b10d83eabf760",
    "tags": [],
    "deepnote_cell_type": "markdown",
    "deepnote_cell_height": 82
   }
  },
  {
   "cell_type": "code",
   "metadata": {
    "cell_id": "353d6f2250114e898c5eedf416439b69",
    "tags": [],
    "deepnote_to_be_reexecuted": false,
    "source_hash": "93350d07",
    "execution_start": 1655833859292,
    "execution_millis": 486,
    "deepnote_cell_type": "code",
    "deepnote_cell_height": 577
   },
   "source": "scores['mean'] = scores.mean(axis = 1) \nscores",
   "execution_count": null,
   "outputs": [
    {
     "output_type": "execute_result",
     "execution_count": 20,
     "data": {
      "application/vnd.deepnote.dataframe.v3+json": {
       "column_count": 10,
       "row_count": 9,
       "columns": [
        {
         "name": "name",
         "dtype": "object",
         "stats": {
          "unique_count": 9,
          "nan_count": 0,
          "categories": [
           {
            "name": "RAND",
            "count": 1
           },
           {
            "name": "RAND from GENRE",
            "count": 1
           },
           {
            "name": "7 others",
            "count": 7
           }
          ]
         }
        },
        {
         "name": "jazz",
         "dtype": "float64",
         "stats": {
          "unique_count": 8,
          "nan_count": 0,
          "min": "0.0",
          "max": "0.38",
          "histogram": [
           {
            "bin_start": 0,
            "bin_end": 0.038,
            "count": 1
           },
           {
            "bin_start": 0.038,
            "bin_end": 0.076,
            "count": 1
           },
           {
            "bin_start": 0.076,
            "bin_end": 0.11399999999999999,
            "count": 3
           },
           {
            "bin_start": 0.11399999999999999,
            "bin_end": 0.152,
            "count": 1
           },
           {
            "bin_start": 0.152,
            "bin_end": 0.19,
            "count": 0
           },
           {
            "bin_start": 0.19,
            "bin_end": 0.22799999999999998,
            "count": 1
           },
           {
            "bin_start": 0.22799999999999998,
            "bin_end": 0.266,
            "count": 0
           },
           {
            "bin_start": 0.266,
            "bin_end": 0.304,
            "count": 1
           },
           {
            "bin_start": 0.304,
            "bin_end": 0.34199999999999997,
            "count": 0
           },
           {
            "bin_start": 0.34199999999999997,
            "bin_end": 0.38,
            "count": 1
           }
          ]
         }
        },
        {
         "name": "pop",
         "dtype": "float64",
         "stats": {
          "unique_count": 7,
          "nan_count": 0,
          "min": "0.0",
          "max": "0.12",
          "histogram": [
           {
            "bin_start": 0,
            "bin_end": 0.012,
            "count": 2
           },
           {
            "bin_start": 0.012,
            "bin_end": 0.024,
            "count": 0
           },
           {
            "bin_start": 0.024,
            "bin_end": 0.036000000000000004,
            "count": 0
           },
           {
            "bin_start": 0.036000000000000004,
            "bin_end": 0.048,
            "count": 3
           },
           {
            "bin_start": 0.048,
            "bin_end": 0.06,
            "count": 1
           },
           {
            "bin_start": 0.06,
            "bin_end": 0.07200000000000001,
            "count": 1
           },
           {
            "bin_start": 0.07200000000000001,
            "bin_end": 0.084,
            "count": 1
           },
           {
            "bin_start": 0.084,
            "bin_end": 0.096,
            "count": 0
           },
           {
            "bin_start": 0.096,
            "bin_end": 0.108,
            "count": 0
           },
           {
            "bin_start": 0.108,
            "bin_end": 0.12,
            "count": 1
           }
          ]
         }
        },
        {
         "name": "raggae",
         "dtype": "float64",
         "stats": {
          "unique_count": 5,
          "nan_count": 0,
          "min": "0.0",
          "max": "0.12000000000000002",
          "histogram": [
           {
            "bin_start": 0,
            "bin_end": 0.012000000000000002,
            "count": 2
           },
           {
            "bin_start": 0.012000000000000002,
            "bin_end": 0.024000000000000004,
            "count": 3
           },
           {
            "bin_start": 0.024000000000000004,
            "bin_end": 0.036000000000000004,
            "count": 0
           },
           {
            "bin_start": 0.036000000000000004,
            "bin_end": 0.04800000000000001,
            "count": 0
           },
           {
            "bin_start": 0.04800000000000001,
            "bin_end": 0.06000000000000001,
            "count": 1
           },
           {
            "bin_start": 0.06000000000000001,
            "bin_end": 0.07200000000000001,
            "count": 2
           },
           {
            "bin_start": 0.07200000000000001,
            "bin_end": 0.08400000000000002,
            "count": 0
           },
           {
            "bin_start": 0.08400000000000002,
            "bin_end": 0.09600000000000002,
            "count": 0
           },
           {
            "bin_start": 0.09600000000000002,
            "bin_end": 0.10800000000000001,
            "count": 0
           },
           {
            "bin_start": 0.10800000000000001,
            "bin_end": 0.12000000000000002,
            "count": 1
           }
          ]
         }
        },
        {
         "name": "rock",
         "dtype": "float64",
         "stats": {
          "unique_count": 4,
          "nan_count": 0,
          "min": "0.0",
          "max": "0.030000000000000006",
          "histogram": [
           {
            "bin_start": 0,
            "bin_end": 0.0030000000000000005,
            "count": 6
           },
           {
            "bin_start": 0.0030000000000000005,
            "bin_end": 0.006000000000000001,
            "count": 0
           },
           {
            "bin_start": 0.006000000000000001,
            "bin_end": 0.009000000000000001,
            "count": 1
           },
           {
            "bin_start": 0.009000000000000001,
            "bin_end": 0.012000000000000002,
            "count": 0
           },
           {
            "bin_start": 0.012000000000000002,
            "bin_end": 0.015000000000000003,
            "count": 0
           },
           {
            "bin_start": 0.015000000000000003,
            "bin_end": 0.018000000000000002,
            "count": 0
           },
           {
            "bin_start": 0.018000000000000002,
            "bin_end": 0.021000000000000005,
            "count": 1
           },
           {
            "bin_start": 0.021000000000000005,
            "bin_end": 0.024000000000000004,
            "count": 0
           },
           {
            "bin_start": 0.024000000000000004,
            "bin_end": 0.027000000000000003,
            "count": 0
           },
           {
            "bin_start": 0.027000000000000003,
            "bin_end": 0.030000000000000006,
            "count": 1
           }
          ]
         }
        },
        {
         "name": "romance",
         "dtype": "float64",
         "stats": {
          "unique_count": 7,
          "nan_count": 0,
          "min": "0.0",
          "max": "0.12",
          "histogram": [
           {
            "bin_start": 0,
            "bin_end": 0.012,
            "count": 3
           },
           {
            "bin_start": 0.012,
            "bin_end": 0.024,
            "count": 2
           },
           {
            "bin_start": 0.024,
            "bin_end": 0.036000000000000004,
            "count": 1
           },
           {
            "bin_start": 0.036000000000000004,
            "bin_end": 0.048,
            "count": 0
           },
           {
            "bin_start": 0.048,
            "bin_end": 0.06,
            "count": 1
           },
           {
            "bin_start": 0.06,
            "bin_end": 0.07200000000000001,
            "count": 1
           },
           {
            "bin_start": 0.07200000000000001,
            "bin_end": 0.084,
            "count": 0
           },
           {
            "bin_start": 0.084,
            "bin_end": 0.096,
            "count": 0
           },
           {
            "bin_start": 0.096,
            "bin_end": 0.108,
            "count": 0
           },
           {
            "bin_start": 0.108,
            "bin_end": 0.12,
            "count": 1
           }
          ]
         }
        },
        {
         "name": "techno",
         "dtype": "float64",
         "stats": {
          "unique_count": 6,
          "nan_count": 0,
          "min": "0.0",
          "max": "0.17",
          "histogram": [
           {
            "bin_start": 0,
            "bin_end": 0.017,
            "count": 4
           },
           {
            "bin_start": 0.017,
            "bin_end": 0.034,
            "count": 0
           },
           {
            "bin_start": 0.034,
            "bin_end": 0.051000000000000004,
            "count": 0
           },
           {
            "bin_start": 0.051000000000000004,
            "bin_end": 0.068,
            "count": 0
           },
           {
            "bin_start": 0.068,
            "bin_end": 0.085,
            "count": 1
           },
           {
            "bin_start": 0.085,
            "bin_end": 0.10200000000000001,
            "count": 1
           },
           {
            "bin_start": 0.10200000000000001,
            "bin_end": 0.11900000000000001,
            "count": 0
           },
           {
            "bin_start": 0.11900000000000001,
            "bin_end": 0.136,
            "count": 0
           },
           {
            "bin_start": 0.136,
            "bin_end": 0.15300000000000002,
            "count": 2
           },
           {
            "bin_start": 0.15300000000000002,
            "bin_end": 0.17,
            "count": 1
           }
          ]
         }
        },
        {
         "name": "roadtrip",
         "dtype": "float64",
         "stats": {
          "unique_count": 6,
          "nan_count": 0,
          "min": "0.0",
          "max": "0.14",
          "histogram": [
           {
            "bin_start": 0,
            "bin_end": 0.014000000000000002,
            "count": 2
           },
           {
            "bin_start": 0.014000000000000002,
            "bin_end": 0.028000000000000004,
            "count": 1
           },
           {
            "bin_start": 0.028000000000000004,
            "bin_end": 0.04200000000000001,
            "count": 1
           },
           {
            "bin_start": 0.04200000000000001,
            "bin_end": 0.05600000000000001,
            "count": 0
           },
           {
            "bin_start": 0.05600000000000001,
            "bin_end": 0.07,
            "count": 3
           },
           {
            "bin_start": 0.07,
            "bin_end": 0.08400000000000002,
            "count": 0
           },
           {
            "bin_start": 0.08400000000000002,
            "bin_end": 0.09800000000000002,
            "count": 0
           },
           {
            "bin_start": 0.09800000000000002,
            "bin_end": 0.11200000000000002,
            "count": 0
           },
           {
            "bin_start": 0.11200000000000002,
            "bin_end": 0.12600000000000003,
            "count": 1
           },
           {
            "bin_start": 0.12600000000000003,
            "bin_end": 0.14,
            "count": 1
           }
          ]
         }
        },
        {
         "name": "casual_run",
         "dtype": "float64",
         "stats": {
          "unique_count": 4,
          "nan_count": 0,
          "min": "0.0",
          "max": "0.030000000000000006",
          "histogram": [
           {
            "bin_start": 0,
            "bin_end": 0.0030000000000000005,
            "count": 5
           },
           {
            "bin_start": 0.0030000000000000005,
            "bin_end": 0.006000000000000001,
            "count": 1
           },
           {
            "bin_start": 0.006000000000000001,
            "bin_end": 0.009000000000000001,
            "count": 0
           },
           {
            "bin_start": 0.009000000000000001,
            "bin_end": 0.012000000000000002,
            "count": 0
           },
           {
            "bin_start": 0.012000000000000002,
            "bin_end": 0.015000000000000003,
            "count": 0
           },
           {
            "bin_start": 0.015000000000000003,
            "bin_end": 0.018000000000000002,
            "count": 0
           },
           {
            "bin_start": 0.018000000000000002,
            "bin_end": 0.021000000000000005,
            "count": 2
           },
           {
            "bin_start": 0.021000000000000005,
            "bin_end": 0.024000000000000004,
            "count": 0
           },
           {
            "bin_start": 0.024000000000000004,
            "bin_end": 0.027000000000000003,
            "count": 0
           },
           {
            "bin_start": 0.027000000000000003,
            "bin_end": 0.030000000000000006,
            "count": 1
           }
          ]
         }
        },
        {
         "name": "mean",
         "dtype": "float64",
         "stats": {
          "unique_count": 9,
          "nan_count": 0,
          "min": "0.0025",
          "max": "0.11375000000000002",
          "histogram": [
           {
            "bin_start": 0.0025,
            "bin_end": 0.013625000000000002,
            "count": 1
           },
           {
            "bin_start": 0.013625000000000002,
            "bin_end": 0.02475,
            "count": 0
           },
           {
            "bin_start": 0.02475,
            "bin_end": 0.035875000000000004,
            "count": 1
           },
           {
            "bin_start": 0.035875000000000004,
            "bin_end": 0.04700000000000001,
            "count": 2
           },
           {
            "bin_start": 0.04700000000000001,
            "bin_end": 0.05812500000000001,
            "count": 2
           },
           {
            "bin_start": 0.05812500000000001,
            "bin_end": 0.06925,
            "count": 1
           },
           {
            "bin_start": 0.06925,
            "bin_end": 0.08037500000000002,
            "count": 1
           },
           {
            "bin_start": 0.08037500000000002,
            "bin_end": 0.09150000000000001,
            "count": 0
           },
           {
            "bin_start": 0.09150000000000001,
            "bin_end": 0.10262500000000001,
            "count": 0
           },
           {
            "bin_start": 0.10262500000000001,
            "bin_end": 0.11375000000000002,
            "count": 1
           }
          ]
         }
        },
        {
         "name": "_deepnote_index_column",
         "dtype": "int64"
        }
       ],
       "rows": [
        {
         "name": "RAND",
         "jazz": 0,
         "pop": 0,
         "raggae": 0.02,
         "rock": 0,
         "romance": 0,
         "techno": 0,
         "roadtrip": 0,
         "casual_run": 0,
         "mean": 0.0025,
         "_deepnote_index_column": 0
        },
        {
         "name": "RAND from GENRE",
         "jazz": 0.07999999999999999,
         "pop": 0.12,
         "raggae": 0,
         "rock": 0.030000000000000006,
         "romance": 0.030000000000000006,
         "techno": 0,
         "roadtrip": 0.06,
         "casual_run": 0,
         "mean": 0.04,
         "_deepnote_index_column": 1
        },
        {
         "name": "Strategy 1",
         "jazz": 0.3,
         "pop": 0,
         "raggae": 0,
         "rock": 0,
         "romance": 0,
         "techno": 0,
         "roadtrip": 0,
         "casual_run": 0,
         "mean": 0.0375,
         "_deepnote_index_column": 2
        },
        {
         "name": "Strategy 2",
         "jazz": 0.38,
         "pop": 0.05,
         "raggae": 0.02,
         "rock": 0,
         "romance": 0.12,
         "techno": 0.17,
         "roadtrip": 0.14,
         "casual_run": 0.030000000000000006,
         "mean": 0.11375000000000002,
         "_deepnote_index_column": 3
        },
        {
         "name": "Strategy 3",
         "jazz": 0.06000000000000001,
         "pop": 0.04489795918367347,
         "raggae": 0.055999999999999994,
         "rock": 0.00625,
         "romance": 0.012,
         "techno": 0.012,
         "roadtrip": 0.022,
         "casual_run": 0.004166666666666667,
         "mean": 0.02716432823129252,
         "_deepnote_index_column": 4
        },
        {
         "name": "Strategy 4",
         "jazz": 0.19999999999999998,
         "pop": 0.04,
         "raggae": 0.12000000000000002,
         "rock": 0,
         "romance": 0,
         "techno": 0.07999999999999999,
         "roadtrip": 0.06,
         "casual_run": 0,
         "mean": 0.06249999999999999,
         "_deepnote_index_column": 5
        },
        {
         "name": "Strategy 5",
         "jazz": 0.1,
         "pop": 0.06,
         "raggae": 0.06000000000000001,
         "rock": 0,
         "romance": 0.05,
         "techno": 0.09,
         "roadtrip": 0.06,
         "casual_run": 0.02,
         "mean": 0.055,
         "_deepnote_index_column": 6
        },
        {
         "name": "Strategy 6 1.0",
         "jazz": 0.12000000000000002,
         "pop": 0.04,
         "raggae": 0.02,
         "rock": 0.02,
         "romance": 0.02,
         "techno": 0.13999999999999999,
         "roadtrip": 0.04,
         "casual_run": 0.02,
         "mean": 0.0525,
         "_deepnote_index_column": 7
        },
        {
         "name": "Strategy 6 2.0",
         "jazz": 0.1,
         "pop": 0.08,
         "raggae": 0.06000000000000001,
         "rock": 0,
         "romance": 0.06000000000000001,
         "techno": 0.13999999999999999,
         "roadtrip": 0.12,
         "casual_run": 0,
         "mean": 0.06999999999999999,
         "_deepnote_index_column": 8
        }
       ]
      },
      "text/plain": "              name  jazz       pop  raggae     rock  romance  techno  \\\n0             RAND  0.00  0.000000   0.020  0.00000    0.000   0.000   \n1  RAND from GENRE  0.08  0.120000   0.000  0.03000    0.030   0.000   \n2       Strategy 1  0.30  0.000000   0.000  0.00000    0.000   0.000   \n3       Strategy 2  0.38  0.050000   0.020  0.00000    0.120   0.170   \n4       Strategy 3  0.06  0.044898   0.056  0.00625    0.012   0.012   \n5       Strategy 4  0.20  0.040000   0.120  0.00000    0.000   0.080   \n6       Strategy 5  0.10  0.060000   0.060  0.00000    0.050   0.090   \n7   Strategy 6 1.0  0.12  0.040000   0.020  0.02000    0.020   0.140   \n8   Strategy 6 2.0  0.10  0.080000   0.060  0.00000    0.060   0.140   \n\n   roadtrip  casual_run      mean  \n0     0.000    0.000000  0.002500  \n1     0.060    0.000000  0.040000  \n2     0.000    0.000000  0.037500  \n3     0.140    0.030000  0.113750  \n4     0.022    0.004167  0.027164  \n5     0.060    0.000000  0.062500  \n6     0.060    0.020000  0.055000  \n7     0.040    0.020000  0.052500  \n8     0.120    0.000000  0.070000  ",
      "text/html": "<div>\n<style scoped>\n    .dataframe tbody tr th:only-of-type {\n        vertical-align: middle;\n    }\n\n    .dataframe tbody tr th {\n        vertical-align: top;\n    }\n\n    .dataframe thead th {\n        text-align: right;\n    }\n</style>\n<table border=\"1\" class=\"dataframe\">\n  <thead>\n    <tr style=\"text-align: right;\">\n      <th></th>\n      <th>name</th>\n      <th>jazz</th>\n      <th>pop</th>\n      <th>raggae</th>\n      <th>rock</th>\n      <th>romance</th>\n      <th>techno</th>\n      <th>roadtrip</th>\n      <th>casual_run</th>\n      <th>mean</th>\n    </tr>\n  </thead>\n  <tbody>\n    <tr>\n      <th>0</th>\n      <td>RAND</td>\n      <td>0.00</td>\n      <td>0.000000</td>\n      <td>0.020</td>\n      <td>0.00000</td>\n      <td>0.000</td>\n      <td>0.000</td>\n      <td>0.000</td>\n      <td>0.000000</td>\n      <td>0.002500</td>\n    </tr>\n    <tr>\n      <th>1</th>\n      <td>RAND from GENRE</td>\n      <td>0.08</td>\n      <td>0.120000</td>\n      <td>0.000</td>\n      <td>0.03000</td>\n      <td>0.030</td>\n      <td>0.000</td>\n      <td>0.060</td>\n      <td>0.000000</td>\n      <td>0.040000</td>\n    </tr>\n    <tr>\n      <th>2</th>\n      <td>Strategy 1</td>\n      <td>0.30</td>\n      <td>0.000000</td>\n      <td>0.000</td>\n      <td>0.00000</td>\n      <td>0.000</td>\n      <td>0.000</td>\n      <td>0.000</td>\n      <td>0.000000</td>\n      <td>0.037500</td>\n    </tr>\n    <tr>\n      <th>3</th>\n      <td>Strategy 2</td>\n      <td>0.38</td>\n      <td>0.050000</td>\n      <td>0.020</td>\n      <td>0.00000</td>\n      <td>0.120</td>\n      <td>0.170</td>\n      <td>0.140</td>\n      <td>0.030000</td>\n      <td>0.113750</td>\n    </tr>\n    <tr>\n      <th>4</th>\n      <td>Strategy 3</td>\n      <td>0.06</td>\n      <td>0.044898</td>\n      <td>0.056</td>\n      <td>0.00625</td>\n      <td>0.012</td>\n      <td>0.012</td>\n      <td>0.022</td>\n      <td>0.004167</td>\n      <td>0.027164</td>\n    </tr>\n    <tr>\n      <th>5</th>\n      <td>Strategy 4</td>\n      <td>0.20</td>\n      <td>0.040000</td>\n      <td>0.120</td>\n      <td>0.00000</td>\n      <td>0.000</td>\n      <td>0.080</td>\n      <td>0.060</td>\n      <td>0.000000</td>\n      <td>0.062500</td>\n    </tr>\n    <tr>\n      <th>6</th>\n      <td>Strategy 5</td>\n      <td>0.10</td>\n      <td>0.060000</td>\n      <td>0.060</td>\n      <td>0.00000</td>\n      <td>0.050</td>\n      <td>0.090</td>\n      <td>0.060</td>\n      <td>0.020000</td>\n      <td>0.055000</td>\n    </tr>\n    <tr>\n      <th>7</th>\n      <td>Strategy 6 1.0</td>\n      <td>0.12</td>\n      <td>0.040000</td>\n      <td>0.020</td>\n      <td>0.02000</td>\n      <td>0.020</td>\n      <td>0.140</td>\n      <td>0.040</td>\n      <td>0.020000</td>\n      <td>0.052500</td>\n    </tr>\n    <tr>\n      <th>8</th>\n      <td>Strategy 6 2.0</td>\n      <td>0.10</td>\n      <td>0.080000</td>\n      <td>0.060</td>\n      <td>0.00000</td>\n      <td>0.060</td>\n      <td>0.140</td>\n      <td>0.120</td>\n      <td>0.000000</td>\n      <td>0.070000</td>\n    </tr>\n  </tbody>\n</table>\n</div>"
     },
     "metadata": {}
    }
   ]
  },
  {
   "cell_type": "code",
   "metadata": {
    "cell_id": "47c92a798c5643aaa520ab0bf0476b5d",
    "tags": [],
    "deepnote_to_be_reexecuted": false,
    "source_hash": "6dc7e275",
    "execution_start": 1655833859479,
    "execution_millis": 699,
    "deepnote_cell_type": "code",
    "deepnote_cell_height": 444,
    "deepnote_output_heights": [
     347
    ]
   },
   "source": "_ = scores.plot.bar(x = \"name\", y = \"mean\")",
   "execution_count": null,
   "outputs": [
    {
     "data": {
      "text/plain": "<Figure size 432x288 with 1 Axes>",
      "image/png": "[encoded data removed]"
     },
     "metadata": {
      "needs_background": "light",
      "image/png": {
       "width": 378,
       "height": 345
      }
     },
     "output_type": "display_data"
    }
   ]
  },
  {
   "cell_type": "code",
   "metadata": {
    "cell_id": "a3f93c5f7dde4b95b2e3656e8e85be8a",
    "tags": [],
    "deepnote_to_be_reexecuted": false,
    "source_hash": "13d81f7c",
    "execution_start": 1655833860322,
    "execution_millis": 30,
    "deepnote_cell_type": "code",
    "deepnote_cell_height": 613
   },
   "source": "scores['mean_genre'] = scores[[\"jazz\",\"pop\", \"raggae\", \"rock\", \"techno\", \"romance\"]].mean(axis = 1)\nscores['mean_mood'] = scores[[\"casual_run\",\"roadtrip\"]].mean(axis = 1)\n\nscores",
   "execution_count": null,
   "outputs": [
    {
     "output_type": "execute_result",
     "execution_count": 22,
     "data": {
      "application/vnd.deepnote.dataframe.v3+json": {
       "column_count": 12,
       "row_count": 9,
       "columns": [
        {
         "name": "name",
         "dtype": "object",
         "stats": {
          "unique_count": 9,
          "nan_count": 0,
          "categories": [
           {
            "name": "RAND",
            "count": 1
           },
           {
            "name": "RAND from GENRE",
            "count": 1
           },
           {
            "name": "7 others",
            "count": 7
           }
          ]
         }
        },
        {
         "name": "jazz",
         "dtype": "float64",
         "stats": {
          "unique_count": 8,
          "nan_count": 0,
          "min": "0.0",
          "max": "0.38",
          "histogram": [
           {
            "bin_start": 0,
            "bin_end": 0.038,
            "count": 1
           },
           {
            "bin_start": 0.038,
            "bin_end": 0.076,
            "count": 1
           },
           {
            "bin_start": 0.076,
            "bin_end": 0.11399999999999999,
            "count": 3
           },
           {
            "bin_start": 0.11399999999999999,
            "bin_end": 0.152,
            "count": 1
           },
           {
            "bin_start": 0.152,
            "bin_end": 0.19,
            "count": 0
           },
           {
            "bin_start": 0.19,
            "bin_end": 0.22799999999999998,
            "count": 1
           },
           {
            "bin_start": 0.22799999999999998,
            "bin_end": 0.266,
            "count": 0
           },
           {
            "bin_start": 0.266,
            "bin_end": 0.304,
            "count": 1
           },
           {
            "bin_start": 0.304,
            "bin_end": 0.34199999999999997,
            "count": 0
           },
           {
            "bin_start": 0.34199999999999997,
            "bin_end": 0.38,
            "count": 1
           }
          ]
         }
        },
        {
         "name": "pop",
         "dtype": "float64",
         "stats": {
          "unique_count": 7,
          "nan_count": 0,
          "min": "0.0",
          "max": "0.12",
          "histogram": [
           {
            "bin_start": 0,
            "bin_end": 0.012,
            "count": 2
           },
           {
            "bin_start": 0.012,
            "bin_end": 0.024,
            "count": 0
           },
           {
            "bin_start": 0.024,
            "bin_end": 0.036000000000000004,
            "count": 0
           },
           {
            "bin_start": 0.036000000000000004,
            "bin_end": 0.048,
            "count": 3
           },
           {
            "bin_start": 0.048,
            "bin_end": 0.06,
            "count": 1
           },
           {
            "bin_start": 0.06,
            "bin_end": 0.07200000000000001,
            "count": 1
           },
           {
            "bin_start": 0.07200000000000001,
            "bin_end": 0.084,
            "count": 1
           },
           {
            "bin_start": 0.084,
            "bin_end": 0.096,
            "count": 0
           },
           {
            "bin_start": 0.096,
            "bin_end": 0.108,
            "count": 0
           },
           {
            "bin_start": 0.108,
            "bin_end": 0.12,
            "count": 1
           }
          ]
         }
        },
        {
         "name": "raggae",
         "dtype": "float64",
         "stats": {
          "unique_count": 5,
          "nan_count": 0,
          "min": "0.0",
          "max": "0.12000000000000002",
          "histogram": [
           {
            "bin_start": 0,
            "bin_end": 0.012000000000000002,
            "count": 2
           },
           {
            "bin_start": 0.012000000000000002,
            "bin_end": 0.024000000000000004,
            "count": 3
           },
           {
            "bin_start": 0.024000000000000004,
            "bin_end": 0.036000000000000004,
            "count": 0
           },
           {
            "bin_start": 0.036000000000000004,
            "bin_end": 0.04800000000000001,
            "count": 0
           },
           {
            "bin_start": 0.04800000000000001,
            "bin_end": 0.06000000000000001,
            "count": 1
           },
           {
            "bin_start": 0.06000000000000001,
            "bin_end": 0.07200000000000001,
            "count": 2
           },
           {
            "bin_start": 0.07200000000000001,
            "bin_end": 0.08400000000000002,
            "count": 0
           },
           {
            "bin_start": 0.08400000000000002,
            "bin_end": 0.09600000000000002,
            "count": 0
           },
           {
            "bin_start": 0.09600000000000002,
            "bin_end": 0.10800000000000001,
            "count": 0
           },
           {
            "bin_start": 0.10800000000000001,
            "bin_end": 0.12000000000000002,
            "count": 1
           }
          ]
         }
        },
        {
         "name": "rock",
         "dtype": "float64",
         "stats": {
          "unique_count": 4,
          "nan_count": 0,
          "min": "0.0",
          "max": "0.030000000000000006",
          "histogram": [
           {
            "bin_start": 0,
            "bin_end": 0.0030000000000000005,
            "count": 6
           },
           {
            "bin_start": 0.0030000000000000005,
            "bin_end": 0.006000000000000001,
            "count": 0
           },
           {
            "bin_start": 0.006000000000000001,
            "bin_end": 0.009000000000000001,
            "count": 1
           },
           {
            "bin_start": 0.009000000000000001,
            "bin_end": 0.012000000000000002,
            "count": 0
           },
           {
            "bin_start": 0.012000000000000002,
            "bin_end": 0.015000000000000003,
            "count": 0
           },
           {
            "bin_start": 0.015000000000000003,
            "bin_end": 0.018000000000000002,
            "count": 0
           },
           {
            "bin_start": 0.018000000000000002,
            "bin_end": 0.021000000000000005,
            "count": 1
           },
           {
            "bin_start": 0.021000000000000005,
            "bin_end": 0.024000000000000004,
            "count": 0
           },
           {
            "bin_start": 0.024000000000000004,
            "bin_end": 0.027000000000000003,
            "count": 0
           },
           {
            "bin_start": 0.027000000000000003,
            "bin_end": 0.030000000000000006,
            "count": 1
           }
          ]
         }
        },
        {
         "name": "romance",
         "dtype": "float64",
         "stats": {
          "unique_count": 7,
          "nan_count": 0,
          "min": "0.0",
          "max": "0.12",
          "histogram": [
           {
            "bin_start": 0,
            "bin_end": 0.012,
            "count": 3
           },
           {
            "bin_start": 0.012,
            "bin_end": 0.024,
            "count": 2
           },
           {
            "bin_start": 0.024,
            "bin_end": 0.036000000000000004,
            "count": 1
           },
           {
            "bin_start": 0.036000000000000004,
            "bin_end": 0.048,
            "count": 0
           },
           {
            "bin_start": 0.048,
            "bin_end": 0.06,
            "count": 1
           },
           {
            "bin_start": 0.06,
            "bin_end": 0.07200000000000001,
            "count": 1
           },
           {
            "bin_start": 0.07200000000000001,
            "bin_end": 0.084,
            "count": 0
           },
           {
            "bin_start": 0.084,
            "bin_end": 0.096,
            "count": 0
           },
           {
            "bin_start": 0.096,
            "bin_end": 0.108,
            "count": 0
           },
           {
            "bin_start": 0.108,
            "bin_end": 0.12,
            "count": 1
           }
          ]
         }
        },
        {
         "name": "techno",
         "dtype": "float64",
         "stats": {
          "unique_count": 6,
          "nan_count": 0,
          "min": "0.0",
          "max": "0.17",
          "histogram": [
           {
            "bin_start": 0,
            "bin_end": 0.017,
            "count": 4
           },
           {
            "bin_start": 0.017,
            "bin_end": 0.034,
            "count": 0
           },
           {
            "bin_start": 0.034,
            "bin_end": 0.051000000000000004,
            "count": 0
           },
           {
            "bin_start": 0.051000000000000004,
            "bin_end": 0.068,
            "count": 0
           },
           {
            "bin_start": 0.068,
            "bin_end": 0.085,
            "count": 1
           },
           {
            "bin_start": 0.085,
            "bin_end": 0.10200000000000001,
            "count": 1
           },
           {
            "bin_start": 0.10200000000000001,
            "bin_end": 0.11900000000000001,
            "count": 0
           },
           {
            "bin_start": 0.11900000000000001,
            "bin_end": 0.136,
            "count": 0
           },
           {
            "bin_start": 0.136,
            "bin_end": 0.15300000000000002,
            "count": 2
           },
           {
            "bin_start": 0.15300000000000002,
            "bin_end": 0.17,
            "count": 1
           }
          ]
         }
        },
        {
         "name": "roadtrip",
         "dtype": "float64",
         "stats": {
          "unique_count": 6,
          "nan_count": 0,
          "min": "0.0",
          "max": "0.14",
          "histogram": [
           {
            "bin_start": 0,
            "bin_end": 0.014000000000000002,
            "count": 2
           },
           {
            "bin_start": 0.014000000000000002,
            "bin_end": 0.028000000000000004,
            "count": 1
           },
           {
            "bin_start": 0.028000000000000004,
            "bin_end": 0.04200000000000001,
            "count": 1
           },
           {
            "bin_start": 0.04200000000000001,
            "bin_end": 0.05600000000000001,
            "count": 0
           },
           {
            "bin_start": 0.05600000000000001,
            "bin_end": 0.07,
            "count": 3
           },
           {
            "bin_start": 0.07,
            "bin_end": 0.08400000000000002,
            "count": 0
           },
           {
            "bin_start": 0.08400000000000002,
            "bin_end": 0.09800000000000002,
            "count": 0
           },
           {
            "bin_start": 0.09800000000000002,
            "bin_end": 0.11200000000000002,
            "count": 0
           },
           {
            "bin_start": 0.11200000000000002,
            "bin_end": 0.12600000000000003,
            "count": 1
           },
           {
            "bin_start": 0.12600000000000003,
            "bin_end": 0.14,
            "count": 1
           }
          ]
         }
        },
        {
         "name": "casual_run",
         "dtype": "float64",
         "stats": {
          "unique_count": 4,
          "nan_count": 0,
          "min": "0.0",
          "max": "0.030000000000000006",
          "histogram": [
           {
            "bin_start": 0,
            "bin_end": 0.0030000000000000005,
            "count": 5
           },
           {
            "bin_start": 0.0030000000000000005,
            "bin_end": 0.006000000000000001,
            "count": 1
           },
           {
            "bin_start": 0.006000000000000001,
            "bin_end": 0.009000000000000001,
            "count": 0
           },
           {
            "bin_start": 0.009000000000000001,
            "bin_end": 0.012000000000000002,
            "count": 0
           },
           {
            "bin_start": 0.012000000000000002,
            "bin_end": 0.015000000000000003,
            "count": 0
           },
           {
            "bin_start": 0.015000000000000003,
            "bin_end": 0.018000000000000002,
            "count": 0
           },
           {
            "bin_start": 0.018000000000000002,
            "bin_end": 0.021000000000000005,
            "count": 2
           },
           {
            "bin_start": 0.021000000000000005,
            "bin_end": 0.024000000000000004,
            "count": 0
           },
           {
            "bin_start": 0.024000000000000004,
            "bin_end": 0.027000000000000003,
            "count": 0
           },
           {
            "bin_start": 0.027000000000000003,
            "bin_end": 0.030000000000000006,
            "count": 1
           }
          ]
         }
        },
        {
         "name": "mean",
         "dtype": "float64",
         "stats": {
          "unique_count": 9,
          "nan_count": 0,
          "min": "0.0025",
          "max": "0.11375000000000002",
          "histogram": [
           {
            "bin_start": 0.0025,
            "bin_end": 0.013625000000000002,
            "count": 1
           },
           {
            "bin_start": 0.013625000000000002,
            "bin_end": 0.02475,
            "count": 0
           },
           {
            "bin_start": 0.02475,
            "bin_end": 0.035875000000000004,
            "count": 1
           },
           {
            "bin_start": 0.035875000000000004,
            "bin_end": 0.04700000000000001,
            "count": 2
           },
           {
            "bin_start": 0.04700000000000001,
            "bin_end": 0.05812500000000001,
            "count": 2
           },
           {
            "bin_start": 0.05812500000000001,
            "bin_end": 0.06925,
            "count": 1
           },
           {
            "bin_start": 0.06925,
            "bin_end": 0.08037500000000002,
            "count": 1
           },
           {
            "bin_start": 0.08037500000000002,
            "bin_end": 0.09150000000000001,
            "count": 0
           },
           {
            "bin_start": 0.09150000000000001,
            "bin_end": 0.10262500000000001,
            "count": 0
           },
           {
            "bin_start": 0.10262500000000001,
            "bin_end": 0.11375000000000002,
            "count": 1
           }
          ]
         }
        },
        {
         "name": "mean_genre",
         "dtype": "float64",
         "stats": {
          "unique_count": 9,
          "nan_count": 0,
          "min": "0.0033333333333333335",
          "max": "0.12333333333333334",
          "histogram": [
           {
            "bin_start": 0.0033333333333333335,
            "bin_end": 0.015333333333333334,
            "count": 1
           },
           {
            "bin_start": 0.015333333333333334,
            "bin_end": 0.027333333333333334,
            "count": 0
           },
           {
            "bin_start": 0.027333333333333334,
            "bin_end": 0.03933333333333334,
            "count": 1
           },
           {
            "bin_start": 0.03933333333333334,
            "bin_end": 0.051333333333333335,
            "count": 2
           },
           {
            "bin_start": 0.051333333333333335,
            "bin_end": 0.06333333333333332,
            "count": 2
           },
           {
            "bin_start": 0.06333333333333332,
            "bin_end": 0.07533333333333334,
            "count": 2
           },
           {
            "bin_start": 0.07533333333333334,
            "bin_end": 0.08733333333333333,
            "count": 0
           },
           {
            "bin_start": 0.08733333333333333,
            "bin_end": 0.09933333333333333,
            "count": 0
           },
           {
            "bin_start": 0.09933333333333333,
            "bin_end": 0.11133333333333333,
            "count": 0
           },
           {
            "bin_start": 0.11133333333333333,
            "bin_end": 0.12333333333333334,
            "count": 1
           }
          ]
         }
        },
        {
         "name": "mean_mood",
         "dtype": "float64",
         "stats": {
          "unique_count": 6,
          "nan_count": 0,
          "min": "0.0",
          "max": "0.085",
          "histogram": [
           {
            "bin_start": 0,
            "bin_end": 0.0085,
            "count": 2
           },
           {
            "bin_start": 0.0085,
            "bin_end": 0.017,
            "count": 1
           },
           {
            "bin_start": 0.017,
            "bin_end": 0.025500000000000002,
            "count": 0
           },
           {
            "bin_start": 0.025500000000000002,
            "bin_end": 0.034,
            "count": 3
           },
           {
            "bin_start": 0.034,
            "bin_end": 0.0425,
            "count": 1
           },
           {
            "bin_start": 0.0425,
            "bin_end": 0.051000000000000004,
            "count": 0
           },
           {
            "bin_start": 0.051000000000000004,
            "bin_end": 0.059500000000000004,
            "count": 0
           },
           {
            "bin_start": 0.059500000000000004,
            "bin_end": 0.068,
            "count": 1
           },
           {
            "bin_start": 0.068,
            "bin_end": 0.07650000000000001,
            "count": 0
           },
           {
            "bin_start": 0.07650000000000001,
            "bin_end": 0.085,
            "count": 1
           }
          ]
         }
        },
        {
         "name": "_deepnote_index_column",
         "dtype": "int64"
        }
       ],
       "rows": [
        {
         "name": "RAND",
         "jazz": 0,
         "pop": 0,
         "raggae": 0.02,
         "rock": 0,
         "romance": 0,
         "techno": 0,
         "roadtrip": 0,
         "casual_run": 0,
         "mean": 0.0025,
         "mean_genre": 0.0033333333333333335,
         "mean_mood": 0,
         "_deepnote_index_column": 0
        },
        {
         "name": "RAND from GENRE",
         "jazz": 0.07999999999999999,
         "pop": 0.12,
         "raggae": 0,
         "rock": 0.030000000000000006,
         "romance": 0.030000000000000006,
         "techno": 0,
         "roadtrip": 0.06,
         "casual_run": 0,
         "mean": 0.04,
         "mean_genre": 0.043333333333333335,
         "mean_mood": 0.03,
         "_deepnote_index_column": 1
        },
        {
         "name": "Strategy 1",
         "jazz": 0.3,
         "pop": 0,
         "raggae": 0,
         "rock": 0,
         "romance": 0,
         "techno": 0,
         "roadtrip": 0,
         "casual_run": 0,
         "mean": 0.0375,
         "mean_genre": 0.049999999999999996,
         "mean_mood": 0,
         "_deepnote_index_column": 2
        },
        {
         "name": "Strategy 2",
         "jazz": 0.38,
         "pop": 0.05,
         "raggae": 0.02,
         "rock": 0,
         "romance": 0.12,
         "techno": 0.17,
         "roadtrip": 0.14,
         "casual_run": 0.030000000000000006,
         "mean": 0.11375000000000002,
         "mean_genre": 0.12333333333333334,
         "mean_mood": 0.085,
         "_deepnote_index_column": 3
        },
        {
         "name": "Strategy 3",
         "jazz": 0.06000000000000001,
         "pop": 0.04489795918367347,
         "raggae": 0.055999999999999994,
         "rock": 0.00625,
         "romance": 0.012,
         "techno": 0.012,
         "roadtrip": 0.022,
         "casual_run": 0.004166666666666667,
         "mean": 0.02716432823129252,
         "mean_genre": 0.03185799319727892,
         "mean_mood": 0.013083333333333332,
         "_deepnote_index_column": 4
        },
        {
         "name": "Strategy 4",
         "jazz": 0.19999999999999998,
         "pop": 0.04,
         "raggae": 0.12000000000000002,
         "rock": 0,
         "romance": 0,
         "techno": 0.07999999999999999,
         "roadtrip": 0.06,
         "casual_run": 0,
         "mean": 0.06249999999999999,
         "mean_genre": 0.07333333333333332,
         "mean_mood": 0.03,
         "_deepnote_index_column": 5
        },
        {
         "name": "Strategy 5",
         "jazz": 0.1,
         "pop": 0.06,
         "raggae": 0.06000000000000001,
         "rock": 0,
         "romance": 0.05,
         "techno": 0.09,
         "roadtrip": 0.06,
         "casual_run": 0.02,
         "mean": 0.055,
         "mean_genre": 0.060000000000000005,
         "mean_mood": 0.04,
         "_deepnote_index_column": 6
        },
        {
         "name": "Strategy 6 1.0",
         "jazz": 0.12000000000000002,
         "pop": 0.04,
         "raggae": 0.02,
         "rock": 0.02,
         "romance": 0.02,
         "techno": 0.13999999999999999,
         "roadtrip": 0.04,
         "casual_run": 0.02,
         "mean": 0.0525,
         "mean_genre": 0.06,
         "mean_mood": 0.03,
         "_deepnote_index_column": 7
        },
        {
         "name": "Strategy 6 2.0",
         "jazz": 0.1,
         "pop": 0.08,
         "raggae": 0.06000000000000001,
         "rock": 0,
         "romance": 0.06000000000000001,
         "techno": 0.13999999999999999,
         "roadtrip": 0.12,
         "casual_run": 0,
         "mean": 0.06999999999999999,
         "mean_genre": 0.07333333333333333,
         "mean_mood": 0.06,
         "_deepnote_index_column": 8
        }
       ]
      },
      "text/plain": "              name  jazz       pop  raggae     rock  romance  techno  \\\n0             RAND  0.00  0.000000   0.020  0.00000    0.000   0.000   \n1  RAND from GENRE  0.08  0.120000   0.000  0.03000    0.030   0.000   \n2       Strategy 1  0.30  0.000000   0.000  0.00000    0.000   0.000   \n3       Strategy 2  0.38  0.050000   0.020  0.00000    0.120   0.170   \n4       Strategy 3  0.06  0.044898   0.056  0.00625    0.012   0.012   \n5       Strategy 4  0.20  0.040000   0.120  0.00000    0.000   0.080   \n6       Strategy 5  0.10  0.060000   0.060  0.00000    0.050   0.090   \n7   Strategy 6 1.0  0.12  0.040000   0.020  0.02000    0.020   0.140   \n8   Strategy 6 2.0  0.10  0.080000   0.060  0.00000    0.060   0.140   \n\n   roadtrip  casual_run      mean  mean_genre  mean_mood  \n0     0.000    0.000000  0.002500    0.003333   0.000000  \n1     0.060    0.000000  0.040000    0.043333   0.030000  \n2     0.000    0.000000  0.037500    0.050000   0.000000  \n3     0.140    0.030000  0.113750    0.123333   0.085000  \n4     0.022    0.004167  0.027164    0.031858   0.013083  \n5     0.060    0.000000  0.062500    0.073333   0.030000  \n6     0.060    0.020000  0.055000    0.060000   0.040000  \n7     0.040    0.020000  0.052500    0.060000   0.030000  \n8     0.120    0.000000  0.070000    0.073333   0.060000  ",
      "text/html": "<div>\n<style scoped>\n    .dataframe tbody tr th:only-of-type {\n        vertical-align: middle;\n    }\n\n    .dataframe tbody tr th {\n        vertical-align: top;\n    }\n\n    .dataframe thead th {\n        text-align: right;\n    }\n</style>\n<table border=\"1\" class=\"dataframe\">\n  <thead>\n    <tr style=\"text-align: right;\">\n      <th></th>\n      <th>name</th>\n      <th>jazz</th>\n      <th>pop</th>\n      <th>raggae</th>\n      <th>rock</th>\n      <th>romance</th>\n      <th>techno</th>\n      <th>roadtrip</th>\n      <th>casual_run</th>\n      <th>mean</th>\n      <th>mean_genre</th>\n      <th>mean_mood</th>\n    </tr>\n  </thead>\n  <tbody>\n    <tr>\n      <th>0</th>\n      <td>RAND</td>\n      <td>0.00</td>\n      <td>0.000000</td>\n      <td>0.020</td>\n      <td>0.00000</td>\n      <td>0.000</td>\n      <td>0.000</td>\n      <td>0.000</td>\n      <td>0.000000</td>\n      <td>0.002500</td>\n      <td>0.003333</td>\n      <td>0.000000</td>\n    </tr>\n    <tr>\n      <th>1</th>\n      <td>RAND from GENRE</td>\n      <td>0.08</td>\n      <td>0.120000</td>\n      <td>0.000</td>\n      <td>0.03000</td>\n      <td>0.030</td>\n      <td>0.000</td>\n      <td>0.060</td>\n      <td>0.000000</td>\n      <td>0.040000</td>\n      <td>0.043333</td>\n      <td>0.030000</td>\n    </tr>\n    <tr>\n      <th>2</th>\n      <td>Strategy 1</td>\n      <td>0.30</td>\n      <td>0.000000</td>\n      <td>0.000</td>\n      <td>0.00000</td>\n      <td>0.000</td>\n      <td>0.000</td>\n      <td>0.000</td>\n      <td>0.000000</td>\n      <td>0.037500</td>\n      <td>0.050000</td>\n      <td>0.000000</td>\n    </tr>\n    <tr>\n      <th>3</th>\n      <td>Strategy 2</td>\n      <td>0.38</td>\n      <td>0.050000</td>\n      <td>0.020</td>\n      <td>0.00000</td>\n      <td>0.120</td>\n      <td>0.170</td>\n      <td>0.140</td>\n      <td>0.030000</td>\n      <td>0.113750</td>\n      <td>0.123333</td>\n      <td>0.085000</td>\n    </tr>\n    <tr>\n      <th>4</th>\n      <td>Strategy 3</td>\n      <td>0.06</td>\n      <td>0.044898</td>\n      <td>0.056</td>\n      <td>0.00625</td>\n      <td>0.012</td>\n      <td>0.012</td>\n      <td>0.022</td>\n      <td>0.004167</td>\n      <td>0.027164</td>\n      <td>0.031858</td>\n      <td>0.013083</td>\n    </tr>\n    <tr>\n      <th>5</th>\n      <td>Strategy 4</td>\n      <td>0.20</td>\n      <td>0.040000</td>\n      <td>0.120</td>\n      <td>0.00000</td>\n      <td>0.000</td>\n      <td>0.080</td>\n      <td>0.060</td>\n      <td>0.000000</td>\n      <td>0.062500</td>\n      <td>0.073333</td>\n      <td>0.030000</td>\n    </tr>\n    <tr>\n      <th>6</th>\n      <td>Strategy 5</td>\n      <td>0.10</td>\n      <td>0.060000</td>\n      <td>0.060</td>\n      <td>0.00000</td>\n      <td>0.050</td>\n      <td>0.090</td>\n      <td>0.060</td>\n      <td>0.020000</td>\n      <td>0.055000</td>\n      <td>0.060000</td>\n      <td>0.040000</td>\n    </tr>\n    <tr>\n      <th>7</th>\n      <td>Strategy 6 1.0</td>\n      <td>0.12</td>\n      <td>0.040000</td>\n      <td>0.020</td>\n      <td>0.02000</td>\n      <td>0.020</td>\n      <td>0.140</td>\n      <td>0.040</td>\n      <td>0.020000</td>\n      <td>0.052500</td>\n      <td>0.060000</td>\n      <td>0.030000</td>\n    </tr>\n    <tr>\n      <th>8</th>\n      <td>Strategy 6 2.0</td>\n      <td>0.10</td>\n      <td>0.080000</td>\n      <td>0.060</td>\n      <td>0.00000</td>\n      <td>0.060</td>\n      <td>0.140</td>\n      <td>0.120</td>\n      <td>0.000000</td>\n      <td>0.070000</td>\n      <td>0.073333</td>\n      <td>0.060000</td>\n    </tr>\n  </tbody>\n</table>\n</div>"
     },
     "metadata": {}
    }
   ]
  },
  {
   "cell_type": "code",
   "metadata": {
    "cell_id": "eccc71bb2a6541068152478a46ac337f",
    "tags": [],
    "deepnote_to_be_reexecuted": false,
    "source_hash": "54a542e1",
    "execution_start": 1655833860558,
    "execution_millis": 285,
    "deepnote_cell_type": "code",
    "deepnote_cell_height": 444,
    "deepnote_output_heights": [
     347
    ]
   },
   "source": "_ = scores.plot.bar(x = \"name\", y = [\"mean_mood\", \"mean_genre\"])",
   "execution_count": null,
   "outputs": [
    {
     "data": {
      "text/plain": "<Figure size 432x288 with 1 Axes>",
      "image/png": "[encoded data removed]"
     },
     "metadata": {
      "needs_background": "light",
      "image/png": {
       "width": 378,
       "height": 345
      }
     },
     "output_type": "display_data"
    }
   ]
  },
  {
   "cell_type": "markdown",
   "source": "## Conclusion\n\nWe've applied many strategies that were mostly based on artist similarity and their clustering, being deterministic by clustering them by genre or clustering similar artists together based on Spotify's definition of similarity (mostly being that the two artists share a large portition of their fanbase). \n\n### Baseline models\nThe first two strategies are baselines that we would compare our models to. They solely represent methods that would be applied to the dataset of connected data from Spotify and don't require graphs. The first baseline model consists of choosing an artist at random and, as expected, it behaves poorly, mostly due to the fact that our dataset contains at least 22,472 artists, we're picking 10 artists and checking if they are in a playlist that have a maximum of 100 songs. It is obvious to note that having a match is unlikely. \n\nThe second model picks an artist at random from the playlist and then predicts 10 artists that share the same genre based on Spotify's dataset. This model however has better predictions. That could be mostly related to the fact that some playlist are playlists build around specific genres. However, playlist that revolve around mood are still poorly predicted.\n\n### Graph Mining Algorithms\n5 strategies and 2 additional hybrid ones were applied to leverage the graph's information and recommend songs to the playlist. All of these models outperform the first baseline models, however, 2 of them were challenged by the second baseline model. \n\nWe've noticed that personnalized pagerank was the best strategy to follow for both genre and mood playlist. It made sense that recommending the most important artists doesn't outperform the personnalized version of pagerank and that is due to the fact that we're not recommending artists in viral or trendy playlist but in playlists that are focused on a topic being a genre or a mood. That being said, the most similar artists to ones that are already in the playlist would be the best way to go about solving this problem. \n\nClustering the graph and using it to predict artists has been challenging and that might mostly be due to the fact that we weren't sure how many clusters to expect and that we poorly controlled the resolution of the model. Also, we didn't control the size of the clusters and they may have been very disproportionate, and that could also affect the quality of the prediction since we're randomly choosing artists from clusters. In order to solve some of these issues, another strategy consisted on building a hierarchical clustering of the graph and choose some artists from the same cluster and others from adjacent clusters (clusters that are in the same hierarchy). The hierarchical model was able to outperform our baselines for both genre and mood playlists.\n\nHeat diffusion showed promising results but the challenge when using this method was to choose the nodes that would have an opposite temperature. We applied heat diffusion by choosing nodes who had opposite temperature on random and that model still outperformed both baseline models and the first clustering model. In an attempt to improve its results, we tried to choose these nodes more wisely by combining clustering and heat diffusion. First, we clustered the graph using the Louvain algorithm and then made sure to choose opposite temperature nodes from cluster who didn't contain the playlist's artists. Second, we used the artists' genres indicated by Spotify to choose artists that didn't share the same genre as the ones that were in the playlist. Since the second model is more factual, it outperformed the one in which we used Louvain.",
   "metadata": {
    "cell_id": "0099a64cbbe64aff955b20356fd7750d",
    "tags": [],
    "deepnote_cell_type": "markdown",
    "deepnote_cell_height": 1020
   }
  },
  {
   "cell_type": "markdown",
   "source": "<a style='text-decoration:none;line-height:16px;display:flex;color:#5B5B62;padding:10px;justify-content:end;' href='https://deepnote.com?utm_source=created-in-deepnote-cell&projectId=f097cab7-1c10-4895-8bcd-a2dad10333ae' target=\"_blank\">\n<img alt='Created in deepnote.com' style='display:inline;max-height:16px;margin:0px;margin-right:7.5px;' src='data:image/svg+xml;base64,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' > </img>\nCreated in <span style='font-weight:600;margin-left:4px;'>Deepnote</span></a>",
   "metadata": {
    "tags": [],
    "created_in_deepnote_cell": true,
    "deepnote_cell_type": "markdown"
   }
  }
 ],
 "nbformat": 4,
 "nbformat_minor": 2,
 "metadata": {
  "orig_nbformat": 2,
  "deepnote": {},
  "deepnote_notebook_id": "8251f7da-d09f-43d2-bd3e-d60d4eab5496",
  "deepnote_execution_queue": []
 }
}