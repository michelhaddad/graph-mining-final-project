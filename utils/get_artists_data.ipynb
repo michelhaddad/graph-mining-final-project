{
 "cells": [
  {
   "cell_type": "code",
   "execution_count": 1,
   "outputs": [],
   "source": [
    "import pandas as pd\n",
    "import numpy as np\n",
    "from ast import literal_eval\n",
    "from collections import defaultdict\n",
    "from spotipy import SpotifyClientCredentials, Spotify\n",
    "from queue import Queue\n",
    "import string\n",
    "import pickle\n",
    "import os"
   ],
   "metadata": {
    "collapsed": false,
    "pycharm": {
     "name": "#%%\n"
    }
   }
  },
  {
   "cell_type": "markdown",
   "source": [
    "## Collecting artists ids from daily charts and playlists"
   ],
   "metadata": {
    "collapsed": false,
    "pycharm": {
     "name": "#%% md\n"
    }
   }
  },
  {
   "cell_type": "code",
   "execution_count": 2,
   "outputs": [
    {
     "data": {
      "text/plain": "                       id             name  \\\n0  73rPcaYEhBd0UuVZBqqyQJ   The Happy Fits   \n1  2garjIdgTW5i89s4Z3UT72  Andrew Garfield   \n2  6RKS67sIPOW16NcGWkgdzF  Alexandra Shipp   \n3  0HthCchcL0kVLHTr113Vk1          mxmtoon   \n4  4ZeB1hzT2mSZrf7wszOqHs    Mating Ritual   \n\n                                          neighbours  out_degree  \\\n0  ['6wnSPJpmVKFcn1TpRl5Uli', '1MIe1z4RdqLqHSJsb7...          20   \n1  ['6mXcTwoata1hkaDMbkzw32', '6RKS67sIPOW16NcGWk...          20   \n2  ['6mXcTwoata1hkaDMbkzw32', '7i3os1iEWOn5UpaylR...          20   \n3  ['21TinSsF5ytwsfdyz5VSVS', '2hR4h1Cao2ueuI7Cx9...          20   \n4  ['3cohAS2UQTaOo80kCn8qjT', '7FhRUp59cBzPaxobsR...          20   \n\n                                              genres  \n0  ['indie pop', 'modern folk rock', 'modern rock...  \n1                               ['hollywood', 'pop']  \n2                               ['hollywood', 'pop']  \n3        ['lo-fi beats', 'lo-fi chill', 'sad lo-fi']  \n4  ['indie poptimism', 'modern alternative rock',...  ",
      "text/html": "<div>\n<style scoped>\n    .dataframe tbody tr th:only-of-type {\n        vertical-align: middle;\n    }\n\n    .dataframe tbody tr th {\n        vertical-align: top;\n    }\n\n    .dataframe thead th {\n        text-align: right;\n    }\n</style>\n<table border=\"1\" class=\"dataframe\">\n  <thead>\n    <tr style=\"text-align: right;\">\n      <th></th>\n      <th>id</th>\n      <th>name</th>\n      <th>neighbours</th>\n      <th>out_degree</th>\n      <th>genres</th>\n    </tr>\n  </thead>\n  <tbody>\n    <tr>\n      <th>0</th>\n      <td>73rPcaYEhBd0UuVZBqqyQJ</td>\n      <td>The Happy Fits</td>\n      <td>['6wnSPJpmVKFcn1TpRl5Uli', '1MIe1z4RdqLqHSJsb7...</td>\n      <td>20</td>\n      <td>['indie pop', 'modern folk rock', 'modern rock...</td>\n    </tr>\n    <tr>\n      <th>1</th>\n      <td>2garjIdgTW5i89s4Z3UT72</td>\n      <td>Andrew Garfield</td>\n      <td>['6mXcTwoata1hkaDMbkzw32', '6RKS67sIPOW16NcGWk...</td>\n      <td>20</td>\n      <td>['hollywood', 'pop']</td>\n    </tr>\n    <tr>\n      <th>2</th>\n      <td>6RKS67sIPOW16NcGWkgdzF</td>\n      <td>Alexandra Shipp</td>\n      <td>['6mXcTwoata1hkaDMbkzw32', '7i3os1iEWOn5UpaylR...</td>\n      <td>20</td>\n      <td>['hollywood', 'pop']</td>\n    </tr>\n    <tr>\n      <th>3</th>\n      <td>0HthCchcL0kVLHTr113Vk1</td>\n      <td>mxmtoon</td>\n      <td>['21TinSsF5ytwsfdyz5VSVS', '2hR4h1Cao2ueuI7Cx9...</td>\n      <td>20</td>\n      <td>['lo-fi beats', 'lo-fi chill', 'sad lo-fi']</td>\n    </tr>\n    <tr>\n      <th>4</th>\n      <td>4ZeB1hzT2mSZrf7wszOqHs</td>\n      <td>Mating Ritual</td>\n      <td>['3cohAS2UQTaOo80kCn8qjT', '7FhRUp59cBzPaxobsR...</td>\n      <td>20</td>\n      <td>['indie poptimism', 'modern alternative rock',...</td>\n    </tr>\n  </tbody>\n</table>\n</div>"
     },
     "execution_count": 2,
     "metadata": {},
     "output_type": "execute_result"
    }
   ],
   "source": [
    "# Get daily charts\n",
    "streams = pd.read_csv('../data/daily_charts.csv')\n",
    "\n",
    "# iterate over files in playlist folder\n",
    "playlists_data = pd.DataFrame()\n",
    "for filename in os.scandir('../data/playlists'):\n",
    "    if filename.is_file():\n",
    "        playlists_data = pd.concat([playlists_data, pd.read_csv(filename)], ignore_index=True)\n",
    "\n",
    "playlists_data.head()"
   ],
   "metadata": {
    "collapsed": false,
    "pycharm": {
     "name": "#%%\n"
    }
   }
  },
  {
   "cell_type": "code",
   "execution_count": 3,
   "outputs": [
    {
     "name": "stdout",
     "output_type": "stream",
     "text": [
      "Unique artists: 4755\n"
     ]
    }
   ],
   "source": [
    "from functools import reduce\n",
    "import operator\n",
    "\n",
    "# Get unique artist ids\n",
    "\n",
    "artists_from_streams = streams['artists'].apply(lambda x: literal_eval(x)['id']).tolist()\n",
    "main_artists_from_playlists = playlists_data['id'].tolist()\n",
    "neighbors_artists = playlists_data['neighbours'].apply(lambda x: literal_eval(x)).tolist()\n",
    "neighbors_artists = reduce(operator.concat, neighbors_artists)\n",
    "\n",
    "# artists_ids = set(artists_from_streams) | set(main_artists_from_playlists) | set(neighbors_artists)\n",
    "artists_ids = set(neighbors_artists)\n",
    "print('Unique artists: %d' % len(artists_ids))"
   ],
   "metadata": {
    "collapsed": false,
    "pycharm": {
     "name": "#%%\n"
    }
   }
  },
  {
   "cell_type": "code",
   "execution_count": 4,
   "outputs": [],
   "source": [
    "def __extract_info_from_artist_entity(artist_entity: dict):\n",
    "    return {\n",
    "        'id': artist_entity['id'],\n",
    "        'name': artist_entity['name'],\n",
    "        'followers': artist_entity['followers']['total'],\n",
    "        'genres': artist_entity['genres'],\n",
    "        'popularity': artist_entity['popularity']\n",
    "    }\n",
    "\n",
    "\n",
    "def spotify_client(client_id, client_secret):\n",
    "    client_credentials_manager = SpotifyClientCredentials(client_id, client_secret)\n",
    "    return Spotify(client_credentials_manager=client_credentials_manager, requests_timeout=3, retries=2)\n",
    "\n",
    "\n",
    "def related_artists(spotify_client: Spotify, artist_id: string):\n",
    "    rel_artists = list(\n",
    "        map(__extract_info_from_artist_entity, spotify_client.artist_related_artists(artist_id)['artists']))\n",
    "    return rel_artists\n",
    "\n",
    "\n",
    "def artist_features(spotify_client: Spotify, artist_id: string):\n",
    "    artist = spotify_client.artist(artist_id)\n",
    "    rel_artists = related_artists(spotify_client, artist_id)\n",
    "\n",
    "    features = __extract_info_from_artist_entity(artist)\n",
    "    features['related_artists'] = rel_artists\n",
    "\n",
    "    return features"
   ],
   "metadata": {
    "collapsed": false,
    "pycharm": {
     "name": "#%%\n"
    }
   }
  },
  {
   "cell_type": "code",
   "execution_count": 5,
   "outputs": [
    {
     "name": "stdout",
     "output_type": "stream",
     "text": [
      "[{'id': '5Qi4Bb7a8C0a00NZcA77L0', 'name': 'D12', 'followers': 2371682, 'genres': ['detroit hip hop', 'gangster rap', 'hip hop', 'pop rap', 'rap'], 'popularity': 64}, {'id': '77IURH5NC56Jn09QHi76is', 'name': 'Bad Meets Evil', 'followers': 1425465, 'genres': ['detroit hip hop', 'gangster rap', 'hip hop', 'pop rap', 'rap'], 'popularity': 59}, {'id': '0NbfKEOTQCcwd6o7wSDOHI', 'name': 'The Game', 'followers': 4010884, 'genres': ['gangster rap', 'hip hop', 'pop rap', 'rap', 'southern hip hop', 'trap'], 'popularity': 71}, {'id': '2XnnxQzxFZG8qEPjakokPM', 'name': 'Obie Trice', 'followers': 787578, 'genres': ['detroit hip hop', 'gangster rap', 'hardcore hip hop', 'hip hop', 'pop rap', 'rap', 'southern hip hop'], 'popularity': 60}, {'id': '1HwM5zlC5qNWhJtM00yXzG', 'name': 'DMX', 'followers': 3473369, 'genres': ['east coast hip hop', 'gangster rap', 'hardcore hip hop', 'hip hop', 'pop rap', 'rap', 'southern hip hop'], 'popularity': 69}, {'id': '6DPYiyq5kWVQS4RGwxzPC7', 'name': 'Dr. Dre', 'followers': 7363108, 'genres': ['g funk', 'gangster rap', 'hip hop', 'rap', 'west coast rap'], 'popularity': 78}, {'id': '7EWU4FhUJM1sZQgQKdENeT', 'name': 'Hopsin', 'followers': 2307377, 'genres': ['conscious hip hop', 'hip hop', 'pop rap', 'rap'], 'popularity': 62}, {'id': '3q7HBObVc0L8jNeTe5Gofh', 'name': '50 Cent', 'followers': 9029090, 'genres': ['east coast hip hop', 'gangster rap', 'hip hop', 'pop rap', 'queens hip hop', 'rap'], 'popularity': 81}, {'id': '6UBA15slIuadJ8h2lPRPos', 'name': 'Tech N9ne', 'followers': 2471758, 'genres': ['hip hop', 'kansas city hip hop', 'pop rap'], 'popularity': 70}, {'id': '4tujQJicOnuZRLiBFdp3Ou', 'name': 'Xzibit', 'followers': 1535366, 'genres': ['detroit hip hop', 'g funk', 'gangster rap', 'hardcore hip hop', 'hip hop', 'pop rap', 'rap', 'west coast rap'], 'popularity': 65}, {'id': '68DWke2VjdDmA75aJX5C57', 'name': 'Yelawolf', 'followers': 2017211, 'genres': ['alabama rap', 'hip hop', 'pop rap', 'rap', 'southern hip hop'], 'popularity': 65}, {'id': '7hJcb9fa4alzcOq3EaNPoG', 'name': 'Snoop Dogg', 'followers': 8340053, 'genres': ['g funk', 'gangster rap', 'hip hop', 'rap', 'west coast rap'], 'popularity': 81}, {'id': '3Mcii5XWf6E0lrY3Uky4cA', 'name': 'Ice Cube', 'followers': 5699245, 'genres': ['conscious hip hop', 'g funk', 'gangster rap', 'hip hop', 'rap', 'west coast rap'], 'popularity': 73}, {'id': '4EnEZVjo3w1cwcQYePccay', 'name': 'N.W.A.', 'followers': 4210498, 'genres': ['conscious hip hop', 'gangster rap', 'golden age hip hop', 'hardcore hip hop', 'hip hop', 'old school hip hop', 'rap', 'west coast rap'], 'popularity': 64}, {'id': '4OBJLual30L7gRl5UkeRcT', 'name': 'T.I.', 'followers': 4230933, 'genres': ['atl hip hop', 'dance pop', 'dirty south rap', 'gangster rap', 'hip hop', 'pop rap', 'rap', 'southern hip hop', 'trap'], 'popularity': 73}, {'id': '5me0Irg2ANcsgc93uaYrpb', 'name': 'The Notorious B.I.G.', 'followers': 7719314, 'genres': ['east coast hip hop', 'gangster rap', 'hardcore hip hop', 'hip hop', 'rap'], 'popularity': 76}, {'id': '6evKD5JWJON3qPBJtUEmtY', 'name': 'G-Unit', 'followers': 1879323, 'genres': ['gangster rap', 'hardcore hip hop', 'hip hop', 'pop rap', 'queens hip hop', 'rap', 'southern hip hop', 'trap'], 'popularity': 61}, {'id': '5ndkK3dpZLKtBklKjxNQwT', 'name': 'B.o.B', 'followers': 1977968, 'genres': ['atl hip hop', 'dance pop', 'hip hop', 'pop', 'pop rap', 'rap', 'southern hip hop'], 'popularity': 71}, {'id': '3ipn9JLAPI5GUEo4y4jcoi', 'name': 'Ludacris', 'followers': 2398711, 'genres': ['atl hip hop', 'dance pop', 'dirty south rap', 'hip hop', 'old school atlanta hip hop', 'pop rap', 'rap', 'southern hip hop', 'trap'], 'popularity': 75}, {'id': '7B4hKK0S9QYnaoqa9OuwgX', 'name': 'Eazy-E', 'followers': 4020233, 'genres': ['g funk', 'gangster rap', 'hardcore hip hop', 'hip hop', 'rap', 'west coast rap'], 'popularity': 64}]\n"
     ]
    }
   ],
   "source": [
    "client_id = '7dad625f745d4275bdf2da9b116c764c'\n",
    "client_secret = '96597c6e00db4d3895abfe9487b64272'\n",
    "sp = spotify_client(client_id, client_secret)\n",
    "print(related_artists(sp, '7dGJo4pcD2V6oG8kP0tJRR'))"
   ],
   "metadata": {
    "collapsed": false,
    "pycharm": {
     "name": "#%%\n"
    }
   }
  },
  {
   "cell_type": "code",
   "execution_count": 11,
   "outputs": [
    {
     "name": "stdout",
     "output_type": "stream",
     "text": [
      "Dequeued artist 100\n",
      "Dequeued artist 200\n",
      "Dequeued artist 300\n",
      "Dequeued artist 400\n",
      "Dequeued artist 500\n",
      "Dequeued artist 600\n",
      "Dequeued artist 700\n",
      "Dequeued artist 800\n",
      "Dequeued artist 900\n",
      "Dequeued artist 1000\n",
      "Dequeued artist 1100\n",
      "Dequeued artist 1200\n",
      "Dequeued artist 1300\n",
      "Dequeued artist 1400\n",
      "Dequeued artist 1500\n",
      "Dequeued artist 1600\n",
      "Dequeued artist 1700\n",
      "Dequeued artist 1800\n",
      "Dequeued artist 1900\n",
      "Dequeued artist 2000\n",
      "Dequeued artist 2100\n",
      "Dequeued artist 2200\n",
      "Dequeued artist 2300\n",
      "Dequeued artist 2400\n",
      "Dequeued artist 2500\n",
      "Dequeued artist 2600\n",
      "Dequeued artist 2700\n",
      "Dequeued artist 2800\n",
      "Dequeued artist 2900\n",
      "Dequeued artist 3000\n",
      "Dequeued artist 3100\n",
      "Dequeued artist 3200\n",
      "Dequeued artist 3300\n",
      "Dequeued artist 3400\n",
      "Dequeued artist 3500\n",
      "Dequeued artist 3600\n",
      "Dequeued artist 3700\n",
      "Dequeued artist 3800\n",
      "Dequeued artist 3900\n",
      "Dequeued artist 4000\n",
      "Dequeued artist 4100\n",
      "Dequeued artist 4200\n",
      "Dequeued artist 4300\n",
      "Dequeued artist 4400\n",
      "Dequeued artist 4500\n",
      "Dequeued artist 4600\n",
      "Dequeued artist 4700\n",
      "Dequeued artist 4800\n",
      "Dequeued artist 4900\n",
      "Dequeued artist 5000\n",
      "Dequeued artist 5100\n",
      "Dequeued artist 5200\n",
      "Dequeued artist 5300\n",
      "Dequeued artist 5400\n",
      "Dequeued artist 5500\n",
      "Dequeued artist 5600\n",
      "Dequeued artist 5700\n",
      "Dequeued artist 5800\n",
      "Dequeued artist 5900\n",
      "Dequeued artist 6000\n",
      "Dequeued artist 6100\n",
      "Dequeued artist 6200\n",
      "Dequeued artist 6300\n",
      "Dequeued artist 6400\n",
      "Dequeued artist 6500\n",
      "Dequeued artist 6600\n",
      "Dequeued artist 6700\n",
      "Dequeued artist 6800\n",
      "Dequeued artist 6900\n",
      "Dequeued artist 7000\n",
      "Dequeued artist 7100\n",
      "Dequeued artist 7200\n",
      "Dequeued artist 7300\n",
      "Dequeued artist 7400\n",
      "Dequeued artist 7500\n",
      "Dequeued artist 7600\n",
      "Dequeued artist 7700\n",
      "Dequeued artist 7800\n",
      "Dequeued artist 7900\n",
      "Dequeued artist 8000\n",
      "Dequeued artist 8100\n",
      "Dequeued artist 8200\n",
      "Dequeued artist 8300\n",
      "Dequeued artist 8400\n",
      "Dequeued artist 8500\n",
      "Dequeued artist 8600\n",
      "Dequeued artist 8700\n",
      "Dequeued artist 8800\n",
      "Dequeued artist 8900\n",
      "Dequeued artist 9000\n",
      "Dequeued artist 9100\n",
      "Dequeued artist 9200\n",
      "Dequeued artist 9300\n",
      "Dequeued artist 9400\n",
      "Dequeued artist 9500\n",
      "Dequeued artist 9600\n",
      "Dequeued artist 9700\n",
      "Total number of artists: 26005\n"
     ]
    }
   ],
   "source": [
    "def dict_to_df(dictionary):\n",
    "    return pd.DataFrame([list(dictionary.values())], columns=list(dictionary.keys()))\n",
    "\n",
    "\n",
    "client_id = '7641b1dcfa894b9e97d9419d50e29c45'\n",
    "client_secret = 'a7a93ef6f8354a349374896772bf752b'\n",
    "sp = spotify_client(client_id, client_secret)\n",
    "\n",
    "# We need to set apart the artists we haven't encountered before to fetch their data\n",
    "artists_with_data = set()\n",
    "\n",
    "# Store the links between artists\n",
    "artist_links = defaultdict(set)\n",
    "\n",
    "# TODO change to 10k\n",
    "# We want to gather the related artists for a maximum of 10k artists (to reduce calls to the Spotify API)\n",
    "artist_queue_limit = 10000\n",
    "artist_count = len(artists_ids)\n",
    "artist_queue = Queue()\n",
    "\n",
    "# Keep dictionaries to save progress\n",
    "af = open('../data/tmp/af.pickle', 'wb')\n",
    "ar = open('../data/tmp/ar.pickle', 'wb')\n",
    "artists_features = pickle.load(af)\n",
    "artists_related_artists = pickle.load(ar)\n",
    "\n",
    "# Filling the queue with artists that appeared in the 2020 charts\n",
    "for id in artists_ids:\n",
    "    artist_queue.put(id)\n",
    "\n",
    "count = 0\n",
    "artists_info = pd.DataFrame()\n",
    "\n",
    "\n",
    "while not artist_queue.empty():\n",
    "    count += 1\n",
    "    if count % 100 == 0:\n",
    "        print('Dequeued artist %d' % count)\n",
    "        pickle.dump(artists_features, af)\n",
    "        pickle.dump(artists_related_artists, ar)\n",
    "\n",
    "    artist_id = artist_queue.get()\n",
    "\n",
    "    # Save information for current artist\n",
    "    if artist_id not in artists_features:\n",
    "        artist_data = artist_features(sp, artist_id)\n",
    "        artists_features[artist_id] = artist_data\n",
    "    else:\n",
    "        artist_data = artists_features[artist_id]\n",
    "\n",
    "    if artist_id not in artists_with_data:\n",
    "        artists_info = pd.concat([artists_info, dict_to_df(artist_data)], ignore_index=True)\n",
    "        artists_with_data.add(artist_id)\n",
    "\n",
    "    # Go through related artists\n",
    "    if artist_id not in artists_related_artists:\n",
    "        rel_artists = related_artists(sp, artist_id)\n",
    "        artists_related_artists[artist_id] = rel_artists\n",
    "    else:\n",
    "        rel_artists = artists_related_artists[artist_id]\n",
    "\n",
    "    for related_artist in rel_artists:\n",
    "        # Add the related artist in the links of the current artist\n",
    "        artist_links[artist_id].add(related_artist['id'])\n",
    "\n",
    "        if related_artist['id'] in artists_with_data:\n",
    "            continue\n",
    "\n",
    "        # Save information for related artist\n",
    "        artists_info = pd.concat([artists_info, dict_to_df(related_artist)], ignore_index=True)\n",
    "        artists_with_data.add(related_artist['id'])\n",
    "\n",
    "        if artist_count < artist_queue_limit:\n",
    "            artist_queue.put(related_artist['id'])\n",
    "        artist_count += 1\n",
    "\n",
    "artists_info['followers'] = artists_info['followers'].astype(int)\n",
    "artists_info['popularity'] = artists_info['popularity'].astype(int)\n",
    "artists_info.to_csv('../data/artist_info.csv', index=False)\n",
    "\n",
    "artist_links_file = open(\"../data/artist_links.pickle\", \"wb\")\n",
    "pickle.dump(artist_links, artist_links_file)\n",
    "artist_links_file.close()\n",
    "\n",
    "ar.close()\n",
    "af.close()\n",
    "\n",
    "print('Total number of artists: %d' % len(artists_with_data))"
   ],
   "metadata": {
    "collapsed": false,
    "pycharm": {
     "name": "#%%\n"
    }
   }
  }
 ],
 "metadata": {
  "kernelspec": {
   "display_name": "Python 3",
   "language": "python",
   "name": "python3"
  },
  "language_info": {
   "codemirror_mode": {
    "name": "ipython",
    "version": 2
   },
   "file_extension": ".py",
   "mimetype": "text/x-python",
   "name": "python",
   "nbconvert_exporter": "python",
   "pygments_lexer": "ipython2",
   "version": "2.7.6"
  }
 },
 "nbformat": 4,
 "nbformat_minor": 0
}