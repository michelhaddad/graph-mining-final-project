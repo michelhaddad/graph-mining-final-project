{
 "cells": [
  {
   "cell_type": "code",
   "metadata": {
    "collapsed": false,
    "pycharm": {
     "name": "#%%\n"
    },
    "cell_id": "a5f519c4-6f11-4576-b251-9ea301f2bc32",
    "deepnote_to_be_reexecuted": false,
    "source_hash": "ca198ea1",
    "execution_start": 1655744816634,
    "execution_millis": 9,
    "deepnote_cell_type": "code",
    "deepnote_cell_height": 225
   },
   "source": "import pandas as pd\nimport numpy as np\nfrom ast import literal_eval\nfrom collections import defaultdict\nfrom spotipy import SpotifyClientCredentials, Spotify\nfrom queue import Queue\nimport string\nimport pickle\nimport os",
   "execution_count": null,
   "outputs": []
  },
  {
   "cell_type": "markdown",
   "source": "## Collecting artists ids from daily charts and playlists",
   "metadata": {
    "collapsed": false,
    "pycharm": {
     "name": "#%% md\n"
    },
    "cell_id": "00001-4aff4a29-3da5-48c7-b067-f41841d39faf",
    "deepnote_cell_type": "markdown",
    "deepnote_cell_height": 70
   }
  },
  {
   "cell_type": "code",
   "metadata": {
    "collapsed": false,
    "pycharm": {
     "name": "#%%\n"
    },
    "cell_id": "00002-26c2e031-8b28-4467-a2c4-3fff4ab71b51",
    "deepnote_to_be_reexecuted": false,
    "source_hash": "12007574",
    "execution_start": 1655744817444,
    "execution_millis": 2062,
    "deepnote_cell_type": "code",
    "deepnote_cell_height": 557,
    "deepnote_output_heights": [
     177
    ]
   },
   "source": "# Get daily charts\nstreams = pd.read_csv('../data/daily_charts.csv')\n\n# iterate over files in playlist folder\nplaylists_data = pd.DataFrame()\nfor filename in os.scandir('../data/playlists'):\n    if filename.is_file():\n        playlists_data = pd.concat([playlists_data, pd.read_csv(filename)], ignore_index=True)\n\nplaylists_data.head()",
   "execution_count": null,
   "outputs": [
    {
     "output_type": "execute_result",
     "execution_count": 11,
     "data": {
      "application/vnd.deepnote.dataframe.v3+json": {
       "column_count": 5,
       "row_count": 5,
       "columns": [
        {
         "name": "id",
         "dtype": "object",
         "stats": {
          "unique_count": 5,
          "nan_count": 0,
          "categories": [
           {
            "name": "6GpcBKNmZDIrRzYkPJu7Wd",
            "count": 1
           },
           {
            "name": "6zlR5ttMfMNmwf2lecU9Cc",
            "count": 1
           },
           {
            "name": "3 others",
            "count": 3
           }
          ]
         }
        },
        {
         "name": "name",
         "dtype": "object",
         "stats": {
          "unique_count": 5,
          "nan_count": 0,
          "categories": [
           {
            "name": "flora cash",
            "count": 1
           },
           {
            "name": "Sam Fender",
            "count": 1
           },
           {
            "name": "3 others",
            "count": 3
           }
          ]
         }
        },
        {
         "name": "neighbours",
         "dtype": "object",
         "stats": {
          "unique_count": 5,
          "nan_count": 0,
          "categories": [
           {
            "name": "['5Smb3KB29epOb92Btsxulb', '5Ld19xtpAR80G2boTcHaVx', '7IAFAOtc9kTYNTizhLSWM6', '0z9hynUsIjf0ddI4uHqPWX', '26GHRG8x1F4AzbCKzUaIbw', '0MmnmsAuQKRFpo6vJElcaU', '0A3HlWZGV8WrCcqxKM2neg', '78CiW0UJbHspFaVuVexOK6', '3Jy7XwrGPgOEq4OxRODWbf', '02YLJJnWC7YQVixkjEBRn7', '6vUNwmljZAcn7tNtUoxG45', '1AgxgADPuRIW1wyaA4OKcB', '79hrYiudVcFyyxyJW0ipTy', '5gw5ANPCVcxU0maLiGRzzP', '77BznF1Dr1k5KyEZ6Nn3jB', '4S3VOqqGguEZu3vbJMig4t', '4qWnlmXWuGv2TtuxtIWlJX', '6AyATGg7mDgBlZ4N5uNog0', '2KjAo6wVc9d2WcxdxSArpV', '7iPH2BRBF9wKa6ljxvdext']",
            "count": 1
           },
           {
            "name": "['7DruTvBV7owt1aSAZHsU58', '22RISwgVJyZu9lpqAcv1F5', '1ShwUjKIwQRaUJij7jgRhp', '5YA1c6yVkPnflTLMfOgjzc', '4fgXfJCQnK6c44u4KzAtQP', '7jZycSvTyx0W9poD4PjEIG', '45FqwUG4hTT6d39r2HUsUe', '52pNByiBWx6SVMMqqcCA74', '4hfrzKkUsrb3Cz209SKxbo', '7cpCnhhBIU1gA7EhTFApN1', '4AzAfQNuAyKOFG4DZMsdAo', '7243txmysJ4KbRmH8UAMKO', '6hl5k4gLl1p3sjhHcb57t2', '04JIxSs2P0iteVWtaskfeh', '5SHxzwjek1Pipl1Yk11UHv', '6lyMYewq2SuTFIXgiv7OxH', '4SrofCfzlhtiKRAsMfBxV4', '1eIoJGCu3rShrRm2wfOhN8', '2xaAOVImG2O6lURwqperlD', '3btzEQD6sugImIHPMRgkwV']",
            "count": 1
           },
           {
            "name": "3 others",
            "count": 3
           }
          ]
         }
        },
        {
         "name": "out_degree",
         "dtype": "int64",
         "stats": {
          "unique_count": 1,
          "nan_count": 0,
          "min": "20",
          "max": "20",
          "histogram": [
           {
            "bin_start": 19.5,
            "bin_end": 19.6,
            "count": 0
           },
           {
            "bin_start": 19.6,
            "bin_end": 19.7,
            "count": 0
           },
           {
            "bin_start": 19.7,
            "bin_end": 19.8,
            "count": 0
           },
           {
            "bin_start": 19.8,
            "bin_end": 19.9,
            "count": 0
           },
           {
            "bin_start": 19.9,
            "bin_end": 20,
            "count": 0
           },
           {
            "bin_start": 20,
            "bin_end": 20.1,
            "count": 5
           },
           {
            "bin_start": 20.1,
            "bin_end": 20.2,
            "count": 0
           },
           {
            "bin_start": 20.2,
            "bin_end": 20.3,
            "count": 0
           },
           {
            "bin_start": 20.3,
            "bin_end": 20.4,
            "count": 0
           },
           {
            "bin_start": 20.4,
            "bin_end": 20.5,
            "count": 0
           }
          ]
         }
        },
        {
         "name": "genres",
         "dtype": "object",
         "stats": {
          "unique_count": 5,
          "nan_count": 0,
          "categories": [
           {
            "name": "['indie pop', 'scandipop', 'swedish indie folk']",
            "count": 1
           },
           {
            "name": "['modern rock', 'north east england indie']",
            "count": 1
           },
           {
            "name": "3 others",
            "count": 3
           }
          ]
         }
        },
        {
         "name": "_deepnote_index_column",
         "dtype": "int64"
        }
       ],
       "rows": [
        {
         "id": "6GpcBKNmZDIrRzYkPJu7Wd",
         "name": "flora cash",
         "neighbours": "['5Smb3KB29epOb92Btsxulb', '5Ld19xtpAR80G2boTcHaVx', '7IAFAOtc9kTYNTizhLSWM6', '0z9hynUsIjf0ddI4uHqPWX', '26GHRG8x1F4AzbCKzUaIbw', '0MmnmsAuQKRFpo6vJElcaU', '0A3HlWZGV8WrCcqxKM2neg', '78CiW0UJbHspFaVuVexOK6', '3Jy7XwrGPgOEq4OxRODWbf', '02YLJJnWC7YQVixkjEBRn7', '6vUNwmljZAcn7tNtUoxG45', '1AgxgADPuRIW1wyaA4OKcB', '79hrYiudVcFyyxyJW0ipTy', '5gw5ANPCVcxU0maLiGRzzP', '77BznF1Dr1k5KyEZ6Nn3jB', '4S3VOqqGguEZu3vbJMig4t', '4qWnlmXWuGv2TtuxtIWlJX', '6AyATGg7mDgBlZ4N5uNog0', '2KjAo6wVc9d2WcxdxSArpV', '7iPH2BRBF9wKa6ljxvdext']",
         "out_degree": 20,
         "genres": "['indie pop', 'scandipop', 'swedish indie folk']",
         "_deepnote_index_column": 0
        },
        {
         "id": "6zlR5ttMfMNmwf2lecU9Cc",
         "name": "Sam Fender",
         "neighbours": "['7DruTvBV7owt1aSAZHsU58', '22RISwgVJyZu9lpqAcv1F5', '1ShwUjKIwQRaUJij7jgRhp', '5YA1c6yVkPnflTLMfOgjzc', '4fgXfJCQnK6c44u4KzAtQP', '7jZycSvTyx0W9poD4PjEIG', '45FqwUG4hTT6d39r2HUsUe', '52pNByiBWx6SVMMqqcCA74', '4hfrzKkUsrb3Cz209SKxbo', '7cpCnhhBIU1gA7EhTFApN1', '4AzAfQNuAyKOFG4DZMsdAo', '7243txmysJ4KbRmH8UAMKO', '6hl5k4gLl1p3sjhHcb57t2', '04JIxSs2P0iteVWtaskfeh', '5SHxzwjek1Pipl1Yk11UHv', '6lyMYewq2SuTFIXgiv7OxH', '4SrofCfzlhtiKRAsMfBxV4', '1eIoJGCu3rShrRm2wfOhN8', '2xaAOVImG2O6lURwqperlD', '3btzEQD6sugImIHPMRgkwV']",
         "out_degree": 20,
         "genres": "['modern rock', 'north east england indie']",
         "_deepnote_index_column": 1
        },
        {
         "id": "0MmnmsAuQKRFpo6vJElcaU",
         "name": "Amber Run",
         "neighbours": "['26GHRG8x1F4AzbCKzUaIbw', '4Ly0KABsxlx4fNj63zJTrF', '4qWnlmXWuGv2TtuxtIWlJX', '02YLJJnWC7YQVixkjEBRn7', '6AyATGg7mDgBlZ4N5uNog0', '7Il2FrLyoQt0JlyhJRDL1c', '6DchmKCVOKK707FCrLFFDW', '5Ld19xtpAR80G2boTcHaVx', '77BznF1Dr1k5KyEZ6Nn3jB', '3GKdEPHUSBp3iNT4SG2Med', '5pdzKTGQAcRcxDOfN4mXSc', '5cIc3SBFuBLVxJz58W2tU9', '56NSAhpJRoeaGi5uyUdYlI', '6GpcBKNmZDIrRzYkPJu7Wd', '15S89CUJtshT2P7WIa2M5l', '1eIoJGCu3rShrRm2wfOhN8', '09Z3wZ88af1pfyJxziESQF', '5Smb3KB29epOb92Btsxulb', '0rZp7G3gIH6WkyeXbrZnGi', '6QrQ7OrISRYIfS5mtacaw2']",
         "out_degree": 20,
         "genres": "['modern rock']",
         "_deepnote_index_column": 2
        },
        {
         "id": "37w38cCSGgKLdayTRjna4W",
         "name": "Mazzy Star",
         "neighbours": "['38u18VoGaIwVeSyVoA0eU5', '4jSYHcSo85heWskYvAULio', '5Wabl1lPdNOeIn0SQ5A1mp', '3ysp8GwsheDcBxP9q65lBg', '6guTJsgPymDUVfqDJyz5UG', '72X6FHxaShda0XeQw3vbeF', '4nlqDmbzFzbNITaqjJv7D7', '3G3Gdm0ZRAOxLrbyjfhii5', '0WY2ddzQUF9eh16GiqrElA', '0WtTGUjbur1R1cNzBvbsMU', '5hAhrnb0Ch4ODwWu4tsbpi', '1s5mUpjVtK0XAScRqlErSE', '2GATzeg62cr6sH29wSOVWe', '4rjlerN21ygkIhmUv55irs', '5q2ehaRqAFmM6tLl4vaVwP', '1xgFexIwrf2QjbU0buCNnp', '5NtMqQLCzdVvL7F8vFp3zM', '5OK8j1JnhoBlivN32G7yOO', '2feOOr1Yjovo67byuxvjZv', '2ApaG60P4r0yhBoDCGD8YG']",
         "out_degree": 20,
         "genres": "['alternative rock', 'art pop', 'dream pop', 'melancholia', 'shoegaze', 'slowcore']",
         "_deepnote_index_column": 3
        },
        {
         "id": "4j56EQDQu5XnL7R3E9iFJT",
         "name": "Young the Giant",
         "neighbours": "['3kVUvbeRdcrqQ3oHk5hPdx', '75dQReiBOHN37fQgWQrIAJ', '6VDdCwrBM4qQaGxoAyxyJC', '6DIS6PRrLS3wbnZsf7vYic', '4AcHt3JxKy59IX7JNNlZn4', '7gjAu1qr5C2grXeQFFOGeh', '42vg2T0Xg9yPaAgogJzoQH', '0RpddSzUHfncUWNJXKOsjy', '3ViZST9PgFoieuOHY2GZMp', '6FIrstf3kHEg3zBOyLpvxD', '5DK8eK7fjvRsziXzyr3sFA', '0YhUSm86okLWldQVwJkLlP', '1dWEYMPtNmvSVaDNLgB6NV', '1btWGBz4Uu1HozTwb2Lm8A', '4dwdTW1Lfiq0cM8nBAqIIz', '6AGUQK1EWK6nvN4pLIDQDQ', '1UfzhwcOR4yfX7yHTPfC9m', '7gP3bB2nilZXLfPHJhMdvc', '3DFoVPonoAAt4EZ1FEI8ue', '3RbyaF3Pq6iDUKNp04AIcU']",
         "out_degree": 20,
         "genres": "['modern alternative rock', 'modern rock', 'pop rock', 'rock', 'stomp and holler']",
         "_deepnote_index_column": 4
        }
       ]
      },
      "text/plain": "                       id             name  \\\n0  6GpcBKNmZDIrRzYkPJu7Wd       flora cash   \n1  6zlR5ttMfMNmwf2lecU9Cc       Sam Fender   \n2  0MmnmsAuQKRFpo6vJElcaU        Amber Run   \n3  37w38cCSGgKLdayTRjna4W       Mazzy Star   \n4  4j56EQDQu5XnL7R3E9iFJT  Young the Giant   \n\n                                          neighbours  out_degree  \\\n0  ['5Smb3KB29epOb92Btsxulb', '5Ld19xtpAR80G2boTc...          20   \n1  ['7DruTvBV7owt1aSAZHsU58', '22RISwgVJyZu9lpqAc...          20   \n2  ['26GHRG8x1F4AzbCKzUaIbw', '4Ly0KABsxlx4fNj63z...          20   \n3  ['38u18VoGaIwVeSyVoA0eU5', '4jSYHcSo85heWskYvA...          20   \n4  ['3kVUvbeRdcrqQ3oHk5hPdx', '75dQReiBOHN37fQgWQ...          20   \n\n                                              genres  \n0   ['indie pop', 'scandipop', 'swedish indie folk']  \n1        ['modern rock', 'north east england indie']  \n2                                    ['modern rock']  \n3  ['alternative rock', 'art pop', 'dream pop', '...  \n4  ['modern alternative rock', 'modern rock', 'po...  ",
      "text/html": "<div>\n<style scoped>\n    .dataframe tbody tr th:only-of-type {\n        vertical-align: middle;\n    }\n\n    .dataframe tbody tr th {\n        vertical-align: top;\n    }\n\n    .dataframe thead th {\n        text-align: right;\n    }\n</style>\n<table border=\"1\" class=\"dataframe\">\n  <thead>\n    <tr style=\"text-align: right;\">\n      <th></th>\n      <th>id</th>\n      <th>name</th>\n      <th>neighbours</th>\n      <th>out_degree</th>\n      <th>genres</th>\n    </tr>\n  </thead>\n  <tbody>\n    <tr>\n      <th>0</th>\n      <td>6GpcBKNmZDIrRzYkPJu7Wd</td>\n      <td>flora cash</td>\n      <td>['5Smb3KB29epOb92Btsxulb', '5Ld19xtpAR80G2boTc...</td>\n      <td>20</td>\n      <td>['indie pop', 'scandipop', 'swedish indie folk']</td>\n    </tr>\n    <tr>\n      <th>1</th>\n      <td>6zlR5ttMfMNmwf2lecU9Cc</td>\n      <td>Sam Fender</td>\n      <td>['7DruTvBV7owt1aSAZHsU58', '22RISwgVJyZu9lpqAc...</td>\n      <td>20</td>\n      <td>['modern rock', 'north east england indie']</td>\n    </tr>\n    <tr>\n      <th>2</th>\n      <td>0MmnmsAuQKRFpo6vJElcaU</td>\n      <td>Amber Run</td>\n      <td>['26GHRG8x1F4AzbCKzUaIbw', '4Ly0KABsxlx4fNj63z...</td>\n      <td>20</td>\n      <td>['modern rock']</td>\n    </tr>\n    <tr>\n      <th>3</th>\n      <td>37w38cCSGgKLdayTRjna4W</td>\n      <td>Mazzy Star</td>\n      <td>['38u18VoGaIwVeSyVoA0eU5', '4jSYHcSo85heWskYvA...</td>\n      <td>20</td>\n      <td>['alternative rock', 'art pop', 'dream pop', '...</td>\n    </tr>\n    <tr>\n      <th>4</th>\n      <td>4j56EQDQu5XnL7R3E9iFJT</td>\n      <td>Young the Giant</td>\n      <td>['3kVUvbeRdcrqQ3oHk5hPdx', '75dQReiBOHN37fQgWQ...</td>\n      <td>20</td>\n      <td>['modern alternative rock', 'modern rock', 'po...</td>\n    </tr>\n  </tbody>\n</table>\n</div>"
     },
     "metadata": {}
    }
   ]
  },
  {
   "cell_type": "code",
   "metadata": {
    "collapsed": false,
    "pycharm": {
     "name": "#%%\n"
    },
    "cell_id": "00003-ac3fc73c-e10a-4f69-949a-71d54a2e10d7",
    "deepnote_to_be_reexecuted": false,
    "source_hash": "dda09ea0",
    "execution_start": 1655744820579,
    "execution_millis": 24451,
    "deepnote_cell_type": "code",
    "deepnote_cell_height": 328
   },
   "source": "from functools import reduce\nimport operator\n\n# Get unique artist ids\n\nartists_from_streams = streams['artists'].apply(lambda x: literal_eval(x)['id']).tolist()\nmain_artists_from_playlists = playlists_data['id'].tolist()\nneighbors_artists = playlists_data['neighbours'].apply(lambda x: literal_eval(x)).tolist()\nneighbors_artists = reduce(operator.concat, neighbors_artists)\n\n# artists_ids = set(artists_from_streams) | set(main_artists_from_playlists) | set(neighbors_artists)\nartists_ids = set(neighbors_artists) | set(main_artists_from_playlists)\nprint('Unique artists: %d' % len(artists_ids))",
   "execution_count": null,
   "outputs": [
    {
     "name": "stdout",
     "text": "Unique artists: 4936\n",
     "output_type": "stream"
    }
   ]
  },
  {
   "cell_type": "code",
   "metadata": {
    "collapsed": false,
    "pycharm": {
     "name": "#%%\n"
    },
    "cell_id": "00004-254d35cd-48d8-4a22-baaf-60ddcbe69835",
    "deepnote_to_be_reexecuted": false,
    "source_hash": "92c2798a",
    "execution_start": 1655744849195,
    "execution_millis": 19,
    "deepnote_cell_type": "code",
    "deepnote_cell_height": 585
   },
   "source": "def __extract_info_from_artist_entity(artist_entity: dict):\n    return {\n        'id': artist_entity['id'],\n        'name': artist_entity['name'],\n        'followers': artist_entity['followers']['total'],\n        'genres': artist_entity['genres'],\n        'popularity': artist_entity['popularity']\n    }\n\n\ndef spotify_client(client_id, client_secret):\n    client_credentials_manager = SpotifyClientCredentials(client_id, client_secret)\n    return Spotify(client_credentials_manager=client_credentials_manager, requests_timeout=3, retries=2)\n\n\ndef related_artists(spotify_client: Spotify, artist_id: string):\n    rel_artists = list(\n        map(__extract_info_from_artist_entity, spotify_client.artist_related_artists(artist_id)['artists']))\n    return rel_artists\n\n\ndef artist_features(spotify_client: Spotify, artist_id: string):\n    artist = spotify_client.artist(artist_id)\n    rel_artists = related_artists(spotify_client, artist_id)\n\n    features = __extract_info_from_artist_entity(artist)\n    features['related_artists'] = rel_artists\n\n    return features",
   "execution_count": null,
   "outputs": []
  },
  {
   "cell_type": "code",
   "metadata": {
    "collapsed": false,
    "pycharm": {
     "name": "#%%\n"
    },
    "cell_id": "00005-e497a988-7ca6-4197-b07d-c4d495bc4dc1",
    "deepnote_to_be_reexecuted": false,
    "source_hash": "348c8b",
    "execution_start": 1655744852990,
    "execution_millis": 153,
    "deepnote_cell_type": "code",
    "deepnote_cell_height": 170.796875
   },
   "source": "client_id = '7dad625f745d4275bdf2da9b116c764c'\nclient_secret = '96597c6e00db4d3895abfe9487b64272'\nsp = spotify_client(client_id, client_secret)\nprint(related_artists(sp, '5Qi4Bb7a8C0a00NZcA77L0'))",
   "execution_count": null,
   "outputs": [
    {
     "name": "stdout",
     "text": "[{'id': '2TSvMFHlguDI495vujOAys', 'name': 'Bizarre', 'followers': 218496, 'genres': ['detroit hip hop'], 'popularity': 42}, {'id': '2XnnxQzxFZG8qEPjakokPM', 'name': 'Obie Trice', 'followers': 789669, 'genres': ['detroit hip hop', 'gangster rap', 'hardcore hip hop', 'hip hop', 'pop rap', 'rap', 'southern hip hop'], 'popularity': 60}, {'id': '7tT5h21rKj9yFfQuqBYLqT', 'name': 'Trick Trick', 'followers': 190520, 'genres': ['detroit hip hop'], 'popularity': 49}, {'id': '6evKD5JWJON3qPBJtUEmtY', 'name': 'G-Unit', 'followers': 1883174, 'genres': ['gangster rap', 'hardcore hip hop', 'hip hop', 'pop rap', 'queens hip hop', 'rap', 'southern hip hop', 'trap'], 'popularity': 61}, {'id': '77IURH5NC56Jn09QHi76is', 'name': 'Bad Meets Evil', 'followers': 1427878, 'genres': ['detroit hip hop', 'gangster rap', 'hip hop', 'pop rap', 'rap'], 'popularity': 59}, {'id': '0NbfKEOTQCcwd6o7wSDOHI', 'name': 'The Game', 'followers': 4017595, 'genres': ['gangster rap', 'hip hop', 'pop rap', 'rap', 'southern hip hop', 'trap'], 'popularity': 71}, {'id': '6Oesi698iJRUaBeT82zckf', 'name': 'Stat Quo', 'followers': 90859, 'genres': ['atl hip hop', 'southern hip hop'], 'popularity': 41}, {'id': '6vdMPayKk8YJxxeNP5oMCb', 'name': 'Chamillionaire', 'followers': 727674, 'genres': ['dirty south rap', 'gangster rap', 'houston rap', 'pop rap', 'rap', 'southern hip hop', 'trap'], 'popularity': 59}, {'id': '5rVbcJv0JRfhWLA3mgM73r', 'name': 'Slaughterhouse', 'followers': 350464, 'genres': ['hip hop', 'pop rap', 'southern hip hop'], 'popularity': 46}, {'id': '4tujQJicOnuZRLiBFdp3Ou', 'name': 'Xzibit', 'followers': 1538607, 'genres': ['detroit hip hop', 'g funk', 'gangster rap', 'hardcore hip hop', 'hip hop', 'pop rap', 'rap', 'west coast rap'], 'popularity': 65}, {'id': '4pmNqFu71wEmFXSsYAiWK8', 'name': 'Makaveli', 'followers': 1919466, 'genres': ['gangster rap', 'hardcore hip hop', 'hip hop', 'rap', 'southern hip hop'], 'popularity': 56}, {'id': '6DVipHzYsPlIoA0DW8Gmns', 'name': 'Royce Da 5\\'9\"', 'followers': 690639, 'genres': ['alternative hip hop', 'detroit hip hop', 'gangster rap', 'hardcore hip hop', 'hip hop', 'pop rap', 'southern hip hop'], 'popularity': 60}, {'id': '3vDUJHQtqT3jFRZ2ECXDTi', 'name': 'Lloyd Banks', 'followers': 1127907, 'genres': ['gangster rap', 'hardcore hip hop', 'hip hop', 'pop rap', 'queens hip hop', 'rap', 'trap'], 'popularity': 63}, {'id': '4pr7J7wzgObkE3DD3Izi7q', 'name': 'Young Buck', 'followers': 867855, 'genres': ['crunk', 'dirty south rap', 'gangster rap', 'hardcore hip hop', 'hip hop', 'nashville hip hop', 'pop rap', 'rap', 'southern hip hop', 'trap'], 'popularity': 59}, {'id': '68DWke2VjdDmA75aJX5C57', 'name': 'Yelawolf', 'followers': 2019566, 'genres': ['alabama rap', 'hip hop', 'pop rap', 'rap', 'southern hip hop'], 'popularity': 65}, {'id': '6UBA15slIuadJ8h2lPRPos', 'name': 'Tech N9ne', 'followers': 2474784, 'genres': ['hip hop', 'kansas city hip hop', 'pop rap'], 'popularity': 69}, {'id': '3zNM2tRfTX6LI1lN2PlrTt', 'name': 'Westside Connection', 'followers': 1115392, 'genres': ['g funk', 'gangster rap', 'hardcore hip hop', 'hip hop', 'pop rap', 'rap', 'west coast rap'], 'popularity': 58}, {'id': '7EWU4FhUJM1sZQgQKdENeT', 'name': 'Hopsin', 'followers': 2309121, 'genres': ['conscious hip hop', 'hip hop', 'pop rap', 'rap'], 'popularity': 62}, {'id': '1YfEcTuGvBQ8xSD1f53UnK', 'name': 'Busta Rhymes', 'followers': 2112722, 'genres': ['east coast hip hop', 'hardcore hip hop', 'hip hop', 'hip pop', 'pop rap', 'rap'], 'popularity': 70}, {'id': '50UMTib697JJ44le8DO2Va', 'name': 'Tony Yayo', 'followers': 280097, 'genres': ['hip hop', 'queens hip hop', 'southern hip hop'], 'popularity': 53}]\n",
     "output_type": "stream"
    }
   ]
  },
  {
   "cell_type": "code",
   "metadata": {
    "collapsed": false,
    "pycharm": {
     "name": "#%%\n"
    },
    "cell_id": "00006-f77839b1-3a6e-4436-bb77-10db05313bff",
    "owner_user_id": "f01e99f7-c77c-49a7-aa88-620dac1102dd",
    "deepnote_to_be_reexecuted": false,
    "source_hash": "d09e14a1",
    "execution_start": 1655744983902,
    "execution_millis": 1668166,
    "deepnote_cell_type": "code",
    "deepnote_cell_height": 2303
   },
   "source": "def dict_to_df(dictionary):\n    return pd.DataFrame([list(dictionary.values())], columns=list(dictionary.keys()))\n\n\nclient_id = '7641b1dcfa894b9e97d9419d50e29c45'\nclient_secret = 'a7a93ef6f8354a349374896772bf752b'\nsp = spotify_client(\"b3bee58ca11e42f2a117ad4b8b418f13\", \"36a6431b92cb415cb27b97d196234330\")\n\n# We need to set apart the artists we haven't encountered before to fetch their data\nartists_with_data = set()\n\n# Store the links between artists\nartist_links = defaultdict(set)\n\n# TODO change to 10k\n# We want to gather the related artists for a maximum of 10k artists (to reduce calls to the Spotify API)\nartist_queue_limit = 7000\nartist_count = len(artists_ids)\nartist_queue = Queue()\n\n# Keep dictionaries to save progress\n\nartists_features = {}\nartists_related_artists = {}\n\naf = open('../data/tmp/af.pickle', 'wb')\nar = open('../data/tmp/ar.pickle', 'wb')\n\n# Filling the queue with artists that appeared in the 2020 charts\nfor id in artists_ids:\n    artist_queue.put(id)\n\ncount = 0\nartists_info = pd.DataFrame()\n\n\nwhile not artist_queue.empty():\n    count += 1\n    if count % 100 == 0:\n        print('Dequeued artist %d' % count)\n        pickle.dump(artists_features, af)\n        pickle.dump(artists_related_artists, ar)\n\n    artist_id = artist_queue.get()\n\n    # Save information for current artist\n    if artist_id not in artists_features:\n        artist_data = artist_features(sp, artist_id)\n        artists_features[artist_id] = artist_data\n    else:\n        artist_data = artists_features[artist_id]\n\n    if artist_id not in artists_with_data:\n        artists_info = pd.concat([artists_info, dict_to_df(artist_data)], ignore_index=True)\n        artists_with_data.add(artist_id)\n\n    # Go through related artists\n    if artist_id not in artists_related_artists:\n        rel_artists = related_artists(sp, artist_id)\n        artists_related_artists[artist_id] = rel_artists\n    else:\n        rel_artists = artists_related_artists[artist_id]\n\n    for related_artist in rel_artists:\n        # Add the related artist in the links of the current artist\n        artist_links[artist_id].add(related_artist['id'])\n\n        if related_artist['id'] in artists_with_data:\n            continue\n\n        # Save information for related artist\n        artists_info = pd.concat([artists_info, dict_to_df(related_artist)], ignore_index=True)\n        artists_with_data.add(related_artist['id'])\n\n        if artist_count < artist_queue_limit:\n            artist_queue.put(related_artist['id'])\n        artist_count += 1\n\nartists_info['followers'] = artists_info['followers'].astype(int)\nartists_info['popularity'] = artists_info['popularity'].astype(int)\nartists_info.to_csv('../data/artist_info.csv', index=False)\n\nartist_links_file = open(\"../data/artist_links.pickle\", \"wb\")\npickle.dump(artist_links, artist_links_file)\nartist_links_file.close()\n\nar.close()\naf.close()\n\nprint('Total number of artists: %d' % len(artists_with_data))",
   "execution_count": null,
   "outputs": [
    {
     "name": "stdout",
     "text": "Dequeued artist 100\nDequeued artist 200\nDequeued artist 300\nDequeued artist 400\nDequeued artist 500\nDequeued artist 600\nDequeued artist 700\nDequeued artist 800\nDequeued artist 900\nDequeued artist 1000\nDequeued artist 1100\nDequeued artist 1200\nDequeued artist 1300\nDequeued artist 1400\nDequeued artist 1500\nDequeued artist 1600\nDequeued artist 1700\nDequeued artist 1800\nDequeued artist 1900\nDequeued artist 2000\nDequeued artist 2100\nDequeued artist 2200\nDequeued artist 2300\nDequeued artist 2400\nDequeued artist 2500\nDequeued artist 2600\nDequeued artist 2700\nDequeued artist 2800\nDequeued artist 2900\nDequeued artist 3000\nDequeued artist 3100\nDequeued artist 3200\nDequeued artist 3300\nDequeued artist 3400\nDequeued artist 3500\nDequeued artist 3600\nDequeued artist 3700\nDequeued artist 3800\nDequeued artist 3900\nDequeued artist 4000\nDequeued artist 4100\nDequeued artist 4200\nDequeued artist 4300\nDequeued artist 4400\nDequeued artist 4500\nDequeued artist 4600\nDequeued artist 4700\nDequeued artist 4800\nDequeued artist 4900\nDequeued artist 5000\nDequeued artist 5100\nDequeued artist 5200\nDequeued artist 5300\nDequeued artist 5400\nDequeued artist 5500\nDequeued artist 5600\nDequeued artist 5700\nDequeued artist 5800\nDequeued artist 5900\nDequeued artist 6000\nDequeued artist 6100\nDequeued artist 6200\nDequeued artist 6300\nDequeued artist 6400\nDequeued artist 6500\nDequeued artist 6600\nDequeued artist 6700\nDequeued artist 6800\nDequeued artist 6900\nDequeued artist 7000\nTotal number of artists: 22472\n",
     "output_type": "stream"
    }
   ]
  },
  {
   "cell_type": "markdown",
   "source": "<a style='text-decoration:none;line-height:16px;display:flex;color:#5B5B62;padding:10px;justify-content:end;' href='https://deepnote.com?utm_source=created-in-deepnote-cell&projectId=f097cab7-1c10-4895-8bcd-a2dad10333ae' target=\"_blank\">\n<img alt='Created in deepnote.com' style='display:inline;max-height:16px;margin:0px;margin-right:7.5px;' src='data:image/svg+xml;base64,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' > </img>\nCreated in <span style='font-weight:600;margin-left:4px;'>Deepnote</span></a>",
   "metadata": {
    "tags": [],
    "created_in_deepnote_cell": true,
    "deepnote_cell_type": "markdown"
   }
  }
 ],
 "nbformat": 4,
 "nbformat_minor": 0,
 "metadata": {
  "kernelspec": {
   "display_name": "Python 3",
   "language": "python",
   "name": "python3"
  },
  "language_info": {
   "codemirror_mode": {
    "name": "ipython",
    "version": 2
   },
   "file_extension": ".py",
   "mimetype": "text/x-python",
   "name": "python",
   "nbconvert_exporter": "python",
   "pygments_lexer": "ipython2",
   "version": "2.7.6"
  },
  "deepnote_notebook_id": "a129bf5a-f571-475d-a44b-492c755ff733",
  "deepnote": {},
  "deepnote_execution_queue": []
 }
}