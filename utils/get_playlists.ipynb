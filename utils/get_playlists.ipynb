{
 "cells": [
  {
   "cell_type": "code",
   "metadata": {
    "tags": [],
    "cell_id": "b719d7b2-ac84-41e5-84fe-ac6ba9658dcd",
    "deepnote_to_be_reexecuted": false,
    "source_hash": "de0ffdaa",
    "execution_start": 1655281383635,
    "execution_millis": 11,
    "pycharm": {
     "name": "#%%\n"
    },
    "deepnote_cell_type": "code",
    "deepnote_cell_height": 135
   },
   "source": "import spotipy\nfrom spotipy.oauth2 import SpotifyClientCredentials\nimport pandas as pd\nimport numpy as np",
   "execution_count": null,
   "outputs": []
  },
  {
   "cell_type": "code",
   "metadata": {
    "cell_id": "1b2d55e1e83f4db081a546a9337d7300",
    "tags": [],
    "deepnote_to_be_reexecuted": false,
    "source_hash": "5aff5b07",
    "execution_start": 1655281386203,
    "execution_millis": 2,
    "pycharm": {
     "name": "#%%\n"
    },
    "owner_user_id": "f01e99f7-c77c-49a7-aa88-620dac1102dd",
    "deepnote_cell_type": "code",
    "deepnote_cell_height": 81
   },
   "source": "spotify = spotipy.Spotify(client_credentials_manager=SpotifyClientCredentials(\"b3bee58ca11e42f2a117ad4b8b418f13\", \"36a6431b92cb415cb27b97d196234330\"))",
   "execution_count": null,
   "outputs": []
  },
  {
   "cell_type": "markdown",
   "source": "## Playlists\nhttps://open.spotify.com/playlist/37i9dQZF1DXbITWG1ZJKYt Jazz \"Genre\"\nhttps://open.spotify.com/playlist/37i9dQZF1DX6J5NfMJS675 Techno \"Genre\"\nhttps://open.spotify.com/playlist/37i9dQZF1DX69CtfiQ1kOa Rock \"Genre\"\nhttps://open.spotify.com/playlist/37i9dQZF1DWYVURwQHUqnN Pop \"Genre\"\nhttps://open.spotify.com/playlist/37i9dQZF1DX6mvEU1S6INL Romance \"Genre\"\nhttps://open.spotify.com/playlist/37i9dQZF1DXbwoaqxaoAVr Reggae \"Genre\"\nhttps://open.spotify.com/playlist/37i9dQZF1EBvHevxw4um7T Casual run \"Mood\"\nhttps://open.spotify.com/playlist/37i9dQZF1DX9wC1KY45plY Roadtrip \"Mood\"\n",
   "metadata": {
    "cell_id": "9cdf80da51fd48f3943995d563e652ca",
    "tags": [],
    "deepnote_to_be_reexecuted": false,
    "source_hash": "744dc6e6",
    "execution_start": 1655214074159,
    "execution_millis": 6,
    "pycharm": {
     "name": "#%% md\n"
    },
    "deepnote_cell_type": "markdown",
    "deepnote_cell_height": 265.1875
   }
  },
  {
   "cell_type": "code",
   "metadata": {
    "cell_id": "4e434ba702814234837ca6d50c3c13c0",
    "tags": [],
    "deepnote_to_be_reexecuted": false,
    "source_hash": "59c40add",
    "execution_start": 1655281388813,
    "execution_millis": 4,
    "pycharm": {
     "name": "#%%\n"
    },
    "deepnote_cell_type": "code",
    "deepnote_cell_height": 567
   },
   "source": "def get_playlist_artists(playlist_id):\n    playlist = spotify.playlist(playlist_id)\n    df = [x[\"track\"][\"artists\"] for x in playlist[\"tracks\"][\"items\"]]\n\n    df = pd.DataFrame([{\"id\" : x[\"id\"],\"name\" : x[\"name\"]} for xs in df for x in xs])\n\n    df.drop_duplicates(subset =\"id\", keep = False, inplace = True)\n\n    df.reset_index(inplace=True)\n    df.drop(\"index\", inplace=True, axis = 1)\n\n    neighbours = []\n    genres = []\n    for i in range(df.shape[0]):\n        neighbours.append([x[\"id\"] for x in spotify.artist_related_artists(df.id[i])['artists']])\n        result = spotify.search(df.name[i])\n        track = result['tracks']['items']\n\n        genres.append(\\\n        spotify.artist(track[0][\"artists\"][0][\"external_urls\"][\"spotify\"])[\"genres\"]\\\n        if len(track) > 0 else [])\n        \n    df[\"neighbours\"] = neighbours\n    df[\"out_degree\"] = [len(x) for x in neighbours]\n    df[\"genres\"] = genres\n\n    return df\n",
   "execution_count": null,
   "outputs": []
  },
  {
   "cell_type": "code",
   "metadata": {
    "cell_id": "4522d81afa774bac99bca2d8ed44afae",
    "tags": [],
    "deepnote_to_be_reexecuted": false,
    "source_hash": "9cc472e",
    "execution_start": 1655282110958,
    "execution_millis": 102060,
    "owner_user_id": "ef1d4df5-936d-41ea-b2cd-882df54cf4f6",
    "pycharm": {
     "name": "#%%\n"
    },
    "deepnote_cell_type": "code",
    "deepnote_cell_height": 279
   },
   "source": "playlists = [{\"id\": \"37i9dQZF1DXbITWG1ZJKYt\", \"name\": \"jazz\"},\n            {\"id\": \"37i9dQZF1DX6J5NfMJS675\", \"name\": \"techno\"},\n            {\"id\": \"37i9dQZF1DX69CtfiQ1kOa\", \"name\": \"rock\"},\n            {\"id\": \"37i9dQZF1DWYVURwQHUqnN\", \"name\": \"pop\"},\n            {\"id\": \"37i9dQZF1DX6mvEU1S6INL\", \"name\": \"romance\"},\n            {\"id\": \"37i9dQZF1DXbwoaqxaoAVr\", \"name\": \"raggae\"},\n            {\"id\": \"37i9dQZF1EBvHevxw4um7T\", \"name\": \"casual_run\"},\n            {\"id\": \"37i9dQZF1DX9wC1KY45plY\", \"name\": \"roadtrip\"},\n            ]\n\nfor p in playlists:\n    get_playlist_artists(p[\"id\"]).to_csv(\"./playlists/\" + p[\"name\"] + \".csv\", index = False)",
   "execution_count": null,
   "outputs": []
  },
  {
   "cell_type": "markdown",
   "source": "<a style='text-decoration:none;line-height:16px;display:flex;color:#5B5B62;padding:10px;justify-content:end;' href='https://deepnote.com?utm_source=created-in-deepnote-cell&projectId=f097cab7-1c10-4895-8bcd-a2dad10333ae' target=\"_blank\">\n<img alt='Created in deepnote.com' style='display:inline;max-height:16px;margin:0px;margin-right:7.5px;' src='data:image/svg+xml;base64,PD94bWwgdmVyc2lvbj0iMS4wIiBlbmNvZGluZz0iVVRGLTgiPz4KPHN2ZyB3aWR0aD0iODBweCIgaGVpZ2h0PSI4MHB4IiB2aWV3Qm94PSIwIDAgODAgODAiIHZlcnNpb249IjEuMSIgeG1sbnM9Imh0dHA6Ly93d3cudzMub3JnLzIwMDAvc3ZnIiB4bWxuczp4bGluaz0iaHR0cDovL3d3dy53My5vcmcvMTk5OS94bGluayI+CiAgICA8IS0tIEdlbmVyYXRvcjogU2tldGNoIDU0LjEgKDc2NDkwKSAtIGh0dHBzOi8vc2tldGNoYXBwLmNvbSAtLT4KICAgIDx0aXRsZT5Hcm91cCAzPC90aXRsZT4KICAgIDxkZXNjPkNyZWF0ZWQgd2l0aCBTa2V0Y2guPC9kZXNjPgogICAgPGcgaWQ9IkxhbmRpbmciIHN0cm9rZT0ibm9uZSIgc3Ryb2tlLXdpZHRoPSIxIiBmaWxsPSJub25lIiBmaWxsLXJ1bGU9ImV2ZW5vZGQiPgogICAgICAgIDxnIGlkPSJBcnRib2FyZCIgdHJhbnNmb3JtPSJ0cmFuc2xhdGUoLTEyMzUuMDAwMDAwLCAtNzkuMDAwMDAwKSI+CiAgICAgICAgICAgIDxnIGlkPSJHcm91cC0zIiB0cmFuc2Zvcm09InRyYW5zbGF0ZSgxMjM1LjAwMDAwMCwgNzkuMDAwMDAwKSI+CiAgICAgICAgICAgICAgICA8cG9seWdvbiBpZD0iUGF0aC0yMCIgZmlsbD0iIzAyNjVCNCIgcG9pbnRzPSIyLjM3NjIzNzYyIDgwIDM4LjA0NzY2NjcgODAgNTcuODIxNzgyMiA3My44MDU3NTkyIDU3LjgyMTc4MjIgMzIuNzU5MjczOSAzOS4xNDAyMjc4IDMxLjY4MzE2ODMiPjwvcG9seWdvbj4KICAgICAgICAgICAgICAgIDxwYXRoIGQ9Ik0zNS4wMDc3MTgsODAgQzQyLjkwNjIwMDcsNzYuNDU0OTM1OCA0Ny41NjQ5MTY3LDcxLjU0MjI2NzEgNDguOTgzODY2LDY1LjI2MTk5MzkgQzUxLjExMjI4OTksNTUuODQxNTg0MiA0MS42NzcxNzk1LDQ5LjIxMjIyODQgMjUuNjIzOTg0Niw0OS4yMTIyMjg0IEMyNS40ODQ5Mjg5LDQ5LjEyNjg0NDggMjkuODI2MTI5Niw0My4yODM4MjQ4IDM4LjY0NzU4NjksMzEuNjgzMTY4MyBMNzIuODcxMjg3MSwzMi41NTQ0MjUgTDY1LjI4MDk3Myw2Ny42NzYzNDIxIEw1MS4xMTIyODk5LDc3LjM3NjE0NCBMMzUuMDA3NzE4LDgwIFoiIGlkPSJQYXRoLTIyIiBmaWxsPSIjMDAyODY4Ij48L3BhdGg+CiAgICAgICAgICAgICAgICA8cGF0aCBkPSJNMCwzNy43MzA0NDA1IEwyNy4xMTQ1MzcsMC4yNTcxMTE0MzYgQzYyLjM3MTUxMjMsLTEuOTkwNzE3MDEgODAsMTAuNTAwMzkyNyA4MCwzNy43MzA0NDA1IEM4MCw2NC45NjA0ODgyIDY0Ljc3NjUwMzgsNzkuMDUwMzQxNCAzNC4zMjk1MTEzLDgwIEM0Ny4wNTUzNDg5LDc3LjU2NzA4MDggNTMuNDE4MjY3Nyw3MC4zMTM2MTAzIDUzLjQxODI2NzcsNTguMjM5NTg4NSBDNTMuNDE4MjY3Nyw0MC4xMjg1NTU3IDM2LjMwMzk1NDQsMzcuNzMwNDQwNSAyNS4yMjc0MTcsMzcuNzMwNDQwNSBDMTcuODQzMDU4NiwzNy43MzA0NDA1IDkuNDMzOTE5NjYsMzcuNzMwNDQwNSAwLDM3LjczMDQ0MDUgWiIgaWQ9IlBhdGgtMTkiIGZpbGw9IiMzNzkzRUYiPjwvcGF0aD4KICAgICAgICAgICAgPC9nPgogICAgICAgIDwvZz4KICAgIDwvZz4KPC9zdmc+' > </img>\nCreated in <span style='font-weight:600;margin-left:4px;'>Deepnote</span></a>",
   "metadata": {
    "tags": [],
    "created_in_deepnote_cell": true,
    "deepnote_cell_type": "markdown"
   }
  }
 ],
 "nbformat": 4,
 "nbformat_minor": 2,
 "metadata": {
  "orig_nbformat": 2,
  "deepnote": {},
  "deepnote_notebook_id": "705af023-567f-47af-adf2-63b9efbde70b",
  "deepnote_execution_queue": []
 }
}