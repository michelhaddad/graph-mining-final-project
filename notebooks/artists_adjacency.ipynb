{
 "cells": [
  {
   "cell_type": "code",
   "metadata": {
    "collapsed": false,
    "pycharm": {
     "name": "#%%\n"
    },
    "cell_id": "10190983-ddbd-49e6-93cd-04d5b3455e3e",
    "deepnote_to_be_reexecuted": false,
    "source_hash": "3ffb5800",
    "execution_start": 1655746774562,
    "execution_millis": 1,
    "deepnote_cell_type": "code",
    "deepnote_cell_height": 135
   },
   "source": "import pandas as pd\nimport numpy as np\nimport pickle\nimport scipy.sparse as sparse",
   "execution_count": null,
   "outputs": []
  },
  {
   "cell_type": "code",
   "metadata": {
    "collapsed": false,
    "pycharm": {
     "name": "#%%\n"
    },
    "cell_id": "00001-eb17013a-97a8-41f1-85f0-25865422198d",
    "deepnote_to_be_reexecuted": false,
    "source_hash": "f5d443ea",
    "execution_start": 1655746777661,
    "execution_millis": 4806,
    "deepnote_cell_type": "code",
    "deepnote_cell_height": 774
   },
   "source": "# Load artist links\nartist_links_file = open(\"../data/artists/artist_links.pickle\", \"rb\")\nartist_links = pickle.load(artist_links_file)\nartist_links_file.close()\n\n# Combine all artists\nartists = pd.read_csv('../data/artists/artist_info.csv')\n\nadjacency = np.zeros((artists.shape[0], artists.shape[0]))\nidToIndexMap = {}\n\n# Since the artist links actually use the Spotify ID and not the index in the adjacency matrix,\n# we need to map the spotify id to the index\nfor index, row in artists.iterrows():\n    idToIndexMap[row['id']] = index\n\n# Loop through all artists fill adjacency matrix with one in case of a relation\nfor artist_id, rel_artists in artist_links.items():\n    artist_index = idToIndexMap[artist_id]\n    for related_artist in rel_artists:\n        related_artist_index = idToIndexMap[related_artist]\n        adjacency[artist_index, related_artist_index] = 1\n\n# Save id to index map for later\nid_to_index_file = open(\"../data/artists/id_to_index.pickle\", \"wb\")\npickle.dump(idToIndexMap, id_to_index_file)\nid_to_index_file.close()\n\nprint('Size of adjacency matrix: %d x %d' % adjacency.shape)\nprint(adjacency)",
   "execution_count": null,
   "outputs": [
    {
     "name": "stdout",
     "text": "Size of adjacency matrix: 22472 x 22472\n[[0. 1. 1. ... 0. 0. 0.]\n [1. 0. 0. ... 0. 0. 0.]\n [1. 0. 0. ... 0. 0. 0.]\n ...\n [0. 0. 0. ... 0. 0. 0.]\n [0. 0. 0. ... 0. 0. 0.]\n [0. 0. 0. ... 0. 0. 0.]]\n",
     "output_type": "stream"
    }
   ]
  },
  {
   "cell_type": "code",
   "metadata": {
    "collapsed": false,
    "pycharm": {
     "name": "#%%\n"
    },
    "cell_id": "00002-25c05b30-50c5-47b8-8655-492278dddb9e",
    "deepnote_to_be_reexecuted": false,
    "source_hash": "e91a6622",
    "execution_start": 1655746788862,
    "execution_millis": 9936,
    "deepnote_cell_type": "code",
    "deepnote_cell_height": 130
   },
   "source": "sparse_adj = sparse.csr_matrix(adjacency)\nprint('The adjacency matrix has %d non-zero elements, this is equivalent to the number of edges' % sparse_adj.nnz)",
   "execution_count": null,
   "outputs": [
    {
     "name": "stdout",
     "text": "The adjacency matrix has 117407 non-zero elements, this is equivalent to the number of edges\n",
     "output_type": "stream"
    }
   ]
  },
  {
   "cell_type": "code",
   "metadata": {
    "cell_id": "5b16d4416303401892e09e48824aeaf0",
    "tags": [],
    "deepnote_to_be_reexecuted": false,
    "source_hash": "c7e3bdb5",
    "execution_start": 1655746803894,
    "execution_millis": 12,
    "deepnote_cell_type": "code",
    "deepnote_cell_height": 135
   },
   "source": "# Save adjacency matrix\n\nwith open('../data/artists/artist_adjacency.dat', 'wb') as outfile:\n    pickle.dump(sparse_adj, outfile, pickle.HIGHEST_PROTOCOL)",
   "execution_count": null,
   "outputs": []
  },
  {
   "cell_type": "code",
   "metadata": {
    "collapsed": false,
    "pycharm": {
     "name": "#%%\n"
    },
    "cell_id": "00003-bae707e0-ab87-433e-92ae-124f63121e9c",
    "deepnote_to_be_reexecuted": false,
    "source_hash": "f51e7b0d",
    "execution_start": 1655746804943,
    "execution_millis": 401,
    "deepnote_cell_type": "code",
    "deepnote_cell_height": 280
   },
   "source": "# Add indegree and outdegree\ndegrees = adjacency @ np.ones(adjacency.shape[0]) + np.ones(adjacency.shape[0]).T @ adjacency\n\nprint('Minimum degree %d' % min(degrees))\nprint('Maximum degree %d' % max(degrees))\nprint('Average degree: %f' % np.mean(degrees))\nprint('Std of degree: %f. This number is quite high!' % np.std(degrees))",
   "execution_count": null,
   "outputs": [
    {
     "name": "stdout",
     "text": "Minimum degree 0\nMaximum degree 121\nAverage degree: 10.449181\nStd of degree: 14.036553. This number is quite high!\n",
     "output_type": "stream"
    }
   ]
  },
  {
   "cell_type": "code",
   "metadata": {
    "collapsed": false,
    "pycharm": {
     "name": "#%%\n"
    },
    "cell_id": "00004-b50132a5-8a02-4446-ab75-60cccebbbecd",
    "deepnote_to_be_reexecuted": false,
    "source_hash": "2c40f060",
    "execution_start": 1655746807667,
    "execution_millis": 4516,
    "deepnote_cell_type": "code",
    "deepnote_cell_height": 737.1875,
    "deepnote_output_heights": [
     null,
     264
    ]
   },
   "source": "from itertools import groupby\nimport matplotlib.pyplot as plt\n\n\n# Util function to return the distribution of values\ndef dist(values):\n    values = sorted(values)\n\n    # First make dist\n    distribution = [(key, len(list(group))) for key, group in groupby(values)]\n\n    return [x[0] for x in distribution], [x[1] for x in distribution]\n\n\ndegree_dist_x, degree_dist_y = dist(degrees)\n\nplt.plot(degree_dist_x, degree_dist_y)\nplt.xlabel(\"k\")\nplt.ylabel(\"#artists having degree = k\")",
   "execution_count": null,
   "outputs": [
    {
     "output_type": "execute_result",
     "execution_count": 10,
     "data": {
      "text/plain": "Text(0, 0.5, '#artists having degree = k')"
     },
     "metadata": {}
    },
    {
     "data": {
      "text/plain": "<Figure size 432x288 with 1 Axes>",
      "image/png": "[encoded data removed]"
     },
     "metadata": {
      "needs_background": "light",
      "image/png": {
       "width": 395,
       "height": 262
      }
     },
     "output_type": "display_data"
    }
   ]
  },
  {
   "cell_type": "code",
   "metadata": {
    "collapsed": false,
    "pycharm": {
     "name": "#%%\n"
    },
    "cell_id": "00005-4ec26699-8175-4125-bbc3-d13fd3685780",
    "deepnote_to_be_reexecuted": false,
    "source_hash": "a9a570f1",
    "execution_start": 1655746811433,
    "execution_millis": 773,
    "deepnote_cell_type": "code",
    "deepnote_cell_height": 449.1875,
    "deepnote_output_heights": [
     21.1875,
     264
    ]
   },
   "source": "plt.plot(degree_dist_x, np.log(degree_dist_y))\nplt.xlabel(\"k\")\nplt.ylabel(\"log(#artists) having degree = k\")",
   "execution_count": null,
   "outputs": [
    {
     "output_type": "execute_result",
     "execution_count": 11,
     "data": {
      "text/plain": "Text(0, 0.5, 'log(#artists) having degree = k')"
     },
     "metadata": {}
    },
    {
     "data": {
      "text/plain": "<Figure size 432x288 with 1 Axes>",
      "image/png": "[encoded data removed]"
     },
     "metadata": {
      "needs_background": "light",
      "image/png": {
       "width": 376,
       "height": 262
      }
     },
     "output_type": "display_data"
    }
   ]
  },
  {
   "cell_type": "code",
   "metadata": {
    "collapsed": false,
    "pycharm": {
     "name": "#%%\n"
    },
    "cell_id": "00006-da41dd27-eb92-48ec-b9bf-cfb4850cb654",
    "deepnote_to_be_reexecuted": false,
    "source_hash": "9b650f96",
    "execution_start": 1655746812890,
    "execution_millis": 382,
    "deepnote_cell_type": "code",
    "deepnote_cell_height": 433.1875,
    "deepnote_output_heights": [
     21.1875,
     266
    ]
   },
   "source": "plt.hist(degrees, cumulative=True, density=True, bins='auto', histtype='step')\nplt.title('Cumulative distribution of degrees')",
   "execution_count": null,
   "outputs": [
    {
     "output_type": "execute_result",
     "execution_count": 12,
     "data": {
      "text/plain": "Text(0.5, 1.0, 'Cumulative distribution of degrees')"
     },
     "metadata": {}
    },
    {
     "data": {
      "text/plain": "<Figure size 432x288 with 1 Axes>",
      "image/png": "[encoded data removed]"
     },
     "metadata": {
      "needs_background": "light",
      "image/png": {
       "width": 372,
       "height": 264
      }
     },
     "output_type": "display_data"
    }
   ]
  },
  {
   "cell_type": "code",
   "metadata": {
    "collapsed": false,
    "pycharm": {
     "name": "#%%\n"
    },
    "cell_id": "00007-e6fd9440-81c7-4df8-a8b6-0a9277f15c22",
    "deepnote_to_be_reexecuted": false,
    "source_hash": "c5a5c6d2",
    "execution_start": 1655746815902,
    "execution_millis": 1,
    "owner_user_id": "f01e99f7-c77c-49a7-aa88-620dac1102dd",
    "deepnote_cell_type": "code",
    "deepnote_cell_height": 148
   },
   "source": "density_adj = sparse_adj.nnz / (sparse_adj.shape[0] * (sparse_adj.shape[0] - 1))\n\nprint('The density is equal to %f' % density_adj)",
   "execution_count": null,
   "outputs": [
    {
     "name": "stdout",
     "text": "The density is equal to 0.000233\n",
     "output_type": "stream"
    }
   ]
  },
  {
   "cell_type": "markdown",
   "source": "<a style='text-decoration:none;line-height:16px;display:flex;color:#5B5B62;padding:10px;justify-content:end;' href='https://deepnote.com?utm_source=created-in-deepnote-cell&projectId=f097cab7-1c10-4895-8bcd-a2dad10333ae' target=\"_blank\">\n<img alt='Created in deepnote.com' style='display:inline;max-height:16px;margin:0px;margin-right:7.5px;' src='data:image/svg+xml;base64,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' > </img>\nCreated in <span style='font-weight:600;margin-left:4px;'>Deepnote</span></a>",
   "metadata": {
    "tags": [],
    "created_in_deepnote_cell": true,
    "deepnote_cell_type": "markdown"
   }
  }
 ],
 "nbformat": 4,
 "nbformat_minor": 0,
 "metadata": {
  "kernelspec": {
   "display_name": "Python 3",
   "language": "python",
   "name": "python3"
  },
  "language_info": {
   "codemirror_mode": {
    "name": "ipython",
    "version": 2
   },
   "file_extension": ".py",
   "mimetype": "text/x-python",
   "name": "python",
   "nbconvert_exporter": "python",
   "pygments_lexer": "ipython2",
   "version": "2.7.6"
  },
  "deepnote_notebook_id": "0f037d4f-a8bd-482b-a64f-f99c7a4eaebc",
  "deepnote": {},
  "deepnote_execution_queue": []
 }
}