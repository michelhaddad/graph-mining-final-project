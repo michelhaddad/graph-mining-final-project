{
 "cells": [
  {
   "cell_type": "code",
   "execution_count": null,
   "outputs": [
    {
     "ename": "KeyboardInterrupt",
     "evalue": "",
     "output_type": "error",
     "traceback": [
      "\u001B[1;31m---------------------------------------------------------------------------\u001B[0m",
      "\u001B[1;31mKeyboardInterrupt\u001B[0m                         Traceback (most recent call last)",
      "Input \u001B[1;32mIn [1]\u001B[0m, in \u001B[0;36m<module>\u001B[1;34m\u001B[0m\n\u001B[0;32m      2\u001B[0m \u001B[38;5;28;01mimport\u001B[39;00m \u001B[38;5;21;01mnumpy\u001B[39;00m \u001B[38;5;28;01mas\u001B[39;00m \u001B[38;5;21;01mnp\u001B[39;00m\n\u001B[0;32m      3\u001B[0m \u001B[38;5;28;01mfrom\u001B[39;00m \u001B[38;5;21;01mast\u001B[39;00m \u001B[38;5;28;01mimport\u001B[39;00m literal_eval\n\u001B[1;32m----> 4\u001B[0m \u001B[38;5;28;01mfrom\u001B[39;00m \u001B[38;5;21;01mutils\u001B[39;00m\u001B[38;5;21;01m.\u001B[39;00m\u001B[38;5;21;01martist_features\u001B[39;00m \u001B[38;5;28;01mimport\u001B[39;00m spotify_client, artist_features, related_artists\n\u001B[0;32m      5\u001B[0m \u001B[38;5;28;01mfrom\u001B[39;00m \u001B[38;5;21;01mcollections\u001B[39;00m \u001B[38;5;28;01mimport\u001B[39;00m defaultdict\n\u001B[0;32m      6\u001B[0m \u001B[38;5;28;01mfrom\u001B[39;00m \u001B[38;5;21;01mqueue\u001B[39;00m \u001B[38;5;28;01mimport\u001B[39;00m Queue\n",
      "File \u001B[1;32m~\\Desktop\\Télécom Paris\\2A\\SD\\212 - Graph Mining\\graph-mining-final-project\\utils\\artist_features.py:41\u001B[0m, in \u001B[0;36m<module>\u001B[1;34m\u001B[0m\n\u001B[0;32m     38\u001B[0m hornet_id \u001B[38;5;241m=\u001B[39m \u001B[38;5;124m'\u001B[39m\u001B[38;5;124m1kwzW1IszUiq4Gs9BFesvW\u001B[39m\u001B[38;5;124m'\u001B[39m\n\u001B[0;32m     39\u001B[0m sp \u001B[38;5;241m=\u001B[39m spotify_client(client_id, client_secret)\n\u001B[1;32m---> 41\u001B[0m hornet_la_frappe \u001B[38;5;241m=\u001B[39m \u001B[43martist_features\u001B[49m\u001B[43m(\u001B[49m\u001B[43msp\u001B[49m\u001B[43m,\u001B[49m\u001B[43m \u001B[49m\u001B[43mhornet_id\u001B[49m\u001B[43m)\u001B[49m\n\u001B[0;32m     42\u001B[0m \u001B[38;5;28mprint\u001B[39m(related_artists(sp, hornet_id))\n",
      "File \u001B[1;32m~\\Desktop\\Télécom Paris\\2A\\SD\\212 - Graph Mining\\graph-mining-final-project\\utils\\artist_features.py:25\u001B[0m, in \u001B[0;36martist_features\u001B[1;34m(spotify_client, artist_id)\u001B[0m\n\u001B[0;32m     24\u001B[0m \u001B[38;5;28;01mdef\u001B[39;00m \u001B[38;5;21martist_features\u001B[39m(spotify_client: Spotify, artist_id: string):\n\u001B[1;32m---> 25\u001B[0m     artist \u001B[38;5;241m=\u001B[39m \u001B[43mspotify_client\u001B[49m\u001B[38;5;241;43m.\u001B[39;49m\u001B[43martist\u001B[49m\u001B[43m(\u001B[49m\u001B[43martist_id\u001B[49m\u001B[43m)\u001B[49m\n\u001B[0;32m     26\u001B[0m     rel_artists \u001B[38;5;241m=\u001B[39m related_artists(spotify_client, artist_id)\n\u001B[0;32m     28\u001B[0m     features \u001B[38;5;241m=\u001B[39m __extract_info_from_artist_entity(artist)\n",
      "File \u001B[1;32m~\\AppData\\Local\\Programs\\Python\\Python310\\lib\\site-packages\\spotipy\\client.py:366\u001B[0m, in \u001B[0;36mSpotify.artist\u001B[1;34m(self, artist_id)\u001B[0m\n\u001B[0;32m    359\u001B[0m \u001B[38;5;124;03m\"\"\" returns a single artist given the artist's ID, URI or URL\u001B[39;00m\n\u001B[0;32m    360\u001B[0m \n\u001B[0;32m    361\u001B[0m \u001B[38;5;124;03m    Parameters:\u001B[39;00m\n\u001B[0;32m    362\u001B[0m \u001B[38;5;124;03m        - artist_id - an artist ID, URI or URL\u001B[39;00m\n\u001B[0;32m    363\u001B[0m \u001B[38;5;124;03m\"\"\"\u001B[39;00m\n\u001B[0;32m    365\u001B[0m trid \u001B[38;5;241m=\u001B[39m \u001B[38;5;28mself\u001B[39m\u001B[38;5;241m.\u001B[39m_get_id(\u001B[38;5;124m\"\u001B[39m\u001B[38;5;124martist\u001B[39m\u001B[38;5;124m\"\u001B[39m, artist_id)\n\u001B[1;32m--> 366\u001B[0m \u001B[38;5;28;01mreturn\u001B[39;00m \u001B[38;5;28;43mself\u001B[39;49m\u001B[38;5;241;43m.\u001B[39;49m\u001B[43m_get\u001B[49m\u001B[43m(\u001B[49m\u001B[38;5;124;43m\"\u001B[39;49m\u001B[38;5;124;43martists/\u001B[39;49m\u001B[38;5;124;43m\"\u001B[39;49m\u001B[43m \u001B[49m\u001B[38;5;241;43m+\u001B[39;49m\u001B[43m \u001B[49m\u001B[43mtrid\u001B[49m\u001B[43m)\u001B[49m\n",
      "File \u001B[1;32m~\\AppData\\Local\\Programs\\Python\\Python310\\lib\\site-packages\\spotipy\\client.py:297\u001B[0m, in \u001B[0;36mSpotify._get\u001B[1;34m(self, url, args, payload, **kwargs)\u001B[0m\n\u001B[0;32m    294\u001B[0m \u001B[38;5;28;01mif\u001B[39;00m args:\n\u001B[0;32m    295\u001B[0m     kwargs\u001B[38;5;241m.\u001B[39mupdate(args)\n\u001B[1;32m--> 297\u001B[0m \u001B[38;5;28;01mreturn\u001B[39;00m \u001B[38;5;28;43mself\u001B[39;49m\u001B[38;5;241;43m.\u001B[39;49m\u001B[43m_internal_call\u001B[49m\u001B[43m(\u001B[49m\u001B[38;5;124;43m\"\u001B[39;49m\u001B[38;5;124;43mGET\u001B[39;49m\u001B[38;5;124;43m\"\u001B[39;49m\u001B[43m,\u001B[49m\u001B[43m \u001B[49m\u001B[43murl\u001B[49m\u001B[43m,\u001B[49m\u001B[43m \u001B[49m\u001B[43mpayload\u001B[49m\u001B[43m,\u001B[49m\u001B[43m \u001B[49m\u001B[43mkwargs\u001B[49m\u001B[43m)\u001B[49m\n",
      "File \u001B[1;32m~\\AppData\\Local\\Programs\\Python\\Python310\\lib\\site-packages\\spotipy\\client.py:240\u001B[0m, in \u001B[0;36mSpotify._internal_call\u001B[1;34m(self, method, url, payload, params)\u001B[0m\n\u001B[0;32m    236\u001B[0m logger\u001B[38;5;241m.\u001B[39mdebug(\u001B[38;5;124m'\u001B[39m\u001B[38;5;124mSending \u001B[39m\u001B[38;5;132;01m%s\u001B[39;00m\u001B[38;5;124m to \u001B[39m\u001B[38;5;132;01m%s\u001B[39;00m\u001B[38;5;124m with Params: \u001B[39m\u001B[38;5;132;01m%s\u001B[39;00m\u001B[38;5;124m Headers: \u001B[39m\u001B[38;5;132;01m%s\u001B[39;00m\u001B[38;5;124m and Body: \u001B[39m\u001B[38;5;132;01m%r\u001B[39;00m\u001B[38;5;124m \u001B[39m\u001B[38;5;124m'\u001B[39m,\n\u001B[0;32m    237\u001B[0m              method, url, args\u001B[38;5;241m.\u001B[39mget(\u001B[38;5;124m\"\u001B[39m\u001B[38;5;124mparams\u001B[39m\u001B[38;5;124m\"\u001B[39m), headers, args\u001B[38;5;241m.\u001B[39mget(\u001B[38;5;124m'\u001B[39m\u001B[38;5;124mdata\u001B[39m\u001B[38;5;124m'\u001B[39m))\n\u001B[0;32m    239\u001B[0m \u001B[38;5;28;01mtry\u001B[39;00m:\n\u001B[1;32m--> 240\u001B[0m     response \u001B[38;5;241m=\u001B[39m \u001B[38;5;28mself\u001B[39m\u001B[38;5;241m.\u001B[39m_session\u001B[38;5;241m.\u001B[39mrequest(\n\u001B[0;32m    241\u001B[0m         method, url, headers\u001B[38;5;241m=\u001B[39mheaders, proxies\u001B[38;5;241m=\u001B[39m\u001B[38;5;28mself\u001B[39m\u001B[38;5;241m.\u001B[39mproxies,\n\u001B[0;32m    242\u001B[0m         timeout\u001B[38;5;241m=\u001B[39m\u001B[38;5;28mself\u001B[39m\u001B[38;5;241m.\u001B[39mrequests_timeout, \u001B[38;5;241m*\u001B[39m\u001B[38;5;241m*\u001B[39margs\n\u001B[0;32m    243\u001B[0m     )\n\u001B[0;32m    245\u001B[0m     response\u001B[38;5;241m.\u001B[39mraise_for_status()\n\u001B[0;32m    246\u001B[0m     results \u001B[38;5;241m=\u001B[39m response\u001B[38;5;241m.\u001B[39mjson()\n",
      "File \u001B[1;32m~\\AppData\\Local\\Programs\\Python\\Python310\\lib\\site-packages\\requests\\sessions.py:529\u001B[0m, in \u001B[0;36mSession.request\u001B[1;34m(self, method, url, params, data, headers, cookies, files, auth, timeout, allow_redirects, proxies, hooks, stream, verify, cert, json)\u001B[0m\n\u001B[0;32m    524\u001B[0m send_kwargs \u001B[38;5;241m=\u001B[39m {\n\u001B[0;32m    525\u001B[0m     \u001B[38;5;124m'\u001B[39m\u001B[38;5;124mtimeout\u001B[39m\u001B[38;5;124m'\u001B[39m: timeout,\n\u001B[0;32m    526\u001B[0m     \u001B[38;5;124m'\u001B[39m\u001B[38;5;124mallow_redirects\u001B[39m\u001B[38;5;124m'\u001B[39m: allow_redirects,\n\u001B[0;32m    527\u001B[0m }\n\u001B[0;32m    528\u001B[0m send_kwargs\u001B[38;5;241m.\u001B[39mupdate(settings)\n\u001B[1;32m--> 529\u001B[0m resp \u001B[38;5;241m=\u001B[39m \u001B[38;5;28mself\u001B[39m\u001B[38;5;241m.\u001B[39msend(prep, \u001B[38;5;241m*\u001B[39m\u001B[38;5;241m*\u001B[39msend_kwargs)\n\u001B[0;32m    531\u001B[0m \u001B[38;5;28;01mreturn\u001B[39;00m resp\n",
      "File \u001B[1;32m~\\AppData\\Local\\Programs\\Python\\Python310\\lib\\site-packages\\requests\\sessions.py:645\u001B[0m, in \u001B[0;36mSession.send\u001B[1;34m(self, request, **kwargs)\u001B[0m\n\u001B[0;32m    642\u001B[0m start \u001B[38;5;241m=\u001B[39m preferred_clock()\n\u001B[0;32m    644\u001B[0m \u001B[38;5;66;03m# Send the request\u001B[39;00m\n\u001B[1;32m--> 645\u001B[0m r \u001B[38;5;241m=\u001B[39m adapter\u001B[38;5;241m.\u001B[39msend(request, \u001B[38;5;241m*\u001B[39m\u001B[38;5;241m*\u001B[39mkwargs)\n\u001B[0;32m    647\u001B[0m \u001B[38;5;66;03m# Total elapsed time of the request (approximately)\u001B[39;00m\n\u001B[0;32m    648\u001B[0m elapsed \u001B[38;5;241m=\u001B[39m preferred_clock() \u001B[38;5;241m-\u001B[39m start\n",
      "File \u001B[1;32m~\\AppData\\Local\\Programs\\Python\\Python310\\lib\\site-packages\\requests\\adapters.py:440\u001B[0m, in \u001B[0;36mHTTPAdapter.send\u001B[1;34m(self, request, stream, timeout, verify, cert, proxies)\u001B[0m\n\u001B[0;32m    438\u001B[0m \u001B[38;5;28;01mtry\u001B[39;00m:\n\u001B[0;32m    439\u001B[0m     \u001B[38;5;28;01mif\u001B[39;00m \u001B[38;5;129;01mnot\u001B[39;00m chunked:\n\u001B[1;32m--> 440\u001B[0m         resp \u001B[38;5;241m=\u001B[39m \u001B[43mconn\u001B[49m\u001B[38;5;241;43m.\u001B[39;49m\u001B[43murlopen\u001B[49m\u001B[43m(\u001B[49m\n\u001B[0;32m    441\u001B[0m \u001B[43m            \u001B[49m\u001B[43mmethod\u001B[49m\u001B[38;5;241;43m=\u001B[39;49m\u001B[43mrequest\u001B[49m\u001B[38;5;241;43m.\u001B[39;49m\u001B[43mmethod\u001B[49m\u001B[43m,\u001B[49m\n\u001B[0;32m    442\u001B[0m \u001B[43m            \u001B[49m\u001B[43murl\u001B[49m\u001B[38;5;241;43m=\u001B[39;49m\u001B[43murl\u001B[49m\u001B[43m,\u001B[49m\n\u001B[0;32m    443\u001B[0m \u001B[43m            \u001B[49m\u001B[43mbody\u001B[49m\u001B[38;5;241;43m=\u001B[39;49m\u001B[43mrequest\u001B[49m\u001B[38;5;241;43m.\u001B[39;49m\u001B[43mbody\u001B[49m\u001B[43m,\u001B[49m\n\u001B[0;32m    444\u001B[0m \u001B[43m            \u001B[49m\u001B[43mheaders\u001B[49m\u001B[38;5;241;43m=\u001B[39;49m\u001B[43mrequest\u001B[49m\u001B[38;5;241;43m.\u001B[39;49m\u001B[43mheaders\u001B[49m\u001B[43m,\u001B[49m\n\u001B[0;32m    445\u001B[0m \u001B[43m            \u001B[49m\u001B[43mredirect\u001B[49m\u001B[38;5;241;43m=\u001B[39;49m\u001B[38;5;28;43;01mFalse\u001B[39;49;00m\u001B[43m,\u001B[49m\n\u001B[0;32m    446\u001B[0m \u001B[43m            \u001B[49m\u001B[43massert_same_host\u001B[49m\u001B[38;5;241;43m=\u001B[39;49m\u001B[38;5;28;43;01mFalse\u001B[39;49;00m\u001B[43m,\u001B[49m\n\u001B[0;32m    447\u001B[0m \u001B[43m            \u001B[49m\u001B[43mpreload_content\u001B[49m\u001B[38;5;241;43m=\u001B[39;49m\u001B[38;5;28;43;01mFalse\u001B[39;49;00m\u001B[43m,\u001B[49m\n\u001B[0;32m    448\u001B[0m \u001B[43m            \u001B[49m\u001B[43mdecode_content\u001B[49m\u001B[38;5;241;43m=\u001B[39;49m\u001B[38;5;28;43;01mFalse\u001B[39;49;00m\u001B[43m,\u001B[49m\n\u001B[0;32m    449\u001B[0m \u001B[43m            \u001B[49m\u001B[43mretries\u001B[49m\u001B[38;5;241;43m=\u001B[39;49m\u001B[38;5;28;43mself\u001B[39;49m\u001B[38;5;241;43m.\u001B[39;49m\u001B[43mmax_retries\u001B[49m\u001B[43m,\u001B[49m\n\u001B[0;32m    450\u001B[0m \u001B[43m            \u001B[49m\u001B[43mtimeout\u001B[49m\u001B[38;5;241;43m=\u001B[39;49m\u001B[43mtimeout\u001B[49m\n\u001B[0;32m    451\u001B[0m \u001B[43m        \u001B[49m\u001B[43m)\u001B[49m\n\u001B[0;32m    453\u001B[0m     \u001B[38;5;66;03m# Send the request.\u001B[39;00m\n\u001B[0;32m    454\u001B[0m     \u001B[38;5;28;01melse\u001B[39;00m:\n\u001B[0;32m    455\u001B[0m         \u001B[38;5;28;01mif\u001B[39;00m \u001B[38;5;28mhasattr\u001B[39m(conn, \u001B[38;5;124m'\u001B[39m\u001B[38;5;124mproxy_pool\u001B[39m\u001B[38;5;124m'\u001B[39m):\n",
      "File \u001B[1;32m~\\AppData\\Local\\Programs\\Python\\Python310\\lib\\site-packages\\urllib3\\connectionpool.py:874\u001B[0m, in \u001B[0;36mHTTPConnectionPool.urlopen\u001B[1;34m(self, method, url, body, headers, retries, redirect, assert_same_host, timeout, pool_timeout, release_conn, chunked, body_pos, **response_kw)\u001B[0m\n\u001B[0;32m    871\u001B[0m     \u001B[38;5;28;01mreturn\u001B[39;00m response\n\u001B[0;32m    873\u001B[0m response\u001B[38;5;241m.\u001B[39mdrain_conn()\n\u001B[1;32m--> 874\u001B[0m \u001B[43mretries\u001B[49m\u001B[38;5;241;43m.\u001B[39;49m\u001B[43msleep\u001B[49m\u001B[43m(\u001B[49m\u001B[43mresponse\u001B[49m\u001B[43m)\u001B[49m\n\u001B[0;32m    875\u001B[0m log\u001B[38;5;241m.\u001B[39mdebug(\u001B[38;5;124m\"\u001B[39m\u001B[38;5;124mRetry: \u001B[39m\u001B[38;5;132;01m%s\u001B[39;00m\u001B[38;5;124m\"\u001B[39m, url)\n\u001B[0;32m    876\u001B[0m \u001B[38;5;28;01mreturn\u001B[39;00m \u001B[38;5;28mself\u001B[39m\u001B[38;5;241m.\u001B[39murlopen(\n\u001B[0;32m    877\u001B[0m     method,\n\u001B[0;32m    878\u001B[0m     url,\n\u001B[1;32m   (...)\u001B[0m\n\u001B[0;32m    889\u001B[0m     \u001B[38;5;241m*\u001B[39m\u001B[38;5;241m*\u001B[39mresponse_kw\n\u001B[0;32m    890\u001B[0m )\n",
      "File \u001B[1;32m~\\AppData\\Local\\Programs\\Python\\Python310\\lib\\site-packages\\urllib3\\util\\retry.py:428\u001B[0m, in \u001B[0;36mRetry.sleep\u001B[1;34m(self, response)\u001B[0m\n\u001B[0;32m    419\u001B[0m \u001B[38;5;124;03m\"\"\"Sleep between retry attempts.\u001B[39;00m\n\u001B[0;32m    420\u001B[0m \n\u001B[0;32m    421\u001B[0m \u001B[38;5;124;03mThis method will respect a server's ``Retry-After`` response header\u001B[39;00m\n\u001B[1;32m   (...)\u001B[0m\n\u001B[0;32m    424\u001B[0m \u001B[38;5;124;03mthis method will return immediately.\u001B[39;00m\n\u001B[0;32m    425\u001B[0m \u001B[38;5;124;03m\"\"\"\u001B[39;00m\n\u001B[0;32m    427\u001B[0m \u001B[38;5;28;01mif\u001B[39;00m \u001B[38;5;28mself\u001B[39m\u001B[38;5;241m.\u001B[39mrespect_retry_after_header \u001B[38;5;129;01mand\u001B[39;00m response:\n\u001B[1;32m--> 428\u001B[0m     slept \u001B[38;5;241m=\u001B[39m \u001B[38;5;28;43mself\u001B[39;49m\u001B[38;5;241;43m.\u001B[39;49m\u001B[43msleep_for_retry\u001B[49m\u001B[43m(\u001B[49m\u001B[43mresponse\u001B[49m\u001B[43m)\u001B[49m\n\u001B[0;32m    429\u001B[0m     \u001B[38;5;28;01mif\u001B[39;00m slept:\n\u001B[0;32m    430\u001B[0m         \u001B[38;5;28;01mreturn\u001B[39;00m\n",
      "File \u001B[1;32m~\\AppData\\Local\\Programs\\Python\\Python310\\lib\\site-packages\\urllib3\\util\\retry.py:407\u001B[0m, in \u001B[0;36mRetry.sleep_for_retry\u001B[1;34m(self, response)\u001B[0m\n\u001B[0;32m    405\u001B[0m retry_after \u001B[38;5;241m=\u001B[39m \u001B[38;5;28mself\u001B[39m\u001B[38;5;241m.\u001B[39mget_retry_after(response)\n\u001B[0;32m    406\u001B[0m \u001B[38;5;28;01mif\u001B[39;00m retry_after:\n\u001B[1;32m--> 407\u001B[0m     \u001B[43mtime\u001B[49m\u001B[38;5;241;43m.\u001B[39;49m\u001B[43msleep\u001B[49m\u001B[43m(\u001B[49m\u001B[43mretry_after\u001B[49m\u001B[43m)\u001B[49m\n\u001B[0;32m    408\u001B[0m     \u001B[38;5;28;01mreturn\u001B[39;00m \u001B[38;5;28;01mTrue\u001B[39;00m\n\u001B[0;32m    410\u001B[0m \u001B[38;5;28;01mreturn\u001B[39;00m \u001B[38;5;28;01mFalse\u001B[39;00m\n",
      "\u001B[1;31mKeyboardInterrupt\u001B[0m: "
     ]
    }
   ],
   "source": [
    "import pandas as pd\n",
    "import numpy as np\n",
    "from ast import literal_eval\n",
    "from utils.artist_features import spotify_client, artist_features, related_artists\n",
    "from collections import defaultdict\n",
    "from queue import Queue\n",
    "import pickle\n",
    "import os"
   ],
   "metadata": {
    "collapsed": false,
    "pycharm": {
     "name": "#%%\n",
     "is_executing": true
    }
   }
  },
  {
   "cell_type": "markdown",
   "source": [
    "## Collecting artists ids from daily charts and playlists"
   ],
   "metadata": {
    "collapsed": false,
    "pycharm": {
     "name": "#%% md\n"
    }
   }
  },
  {
   "cell_type": "code",
   "execution_count": null,
   "outputs": [],
   "source": [
    "# Get daily charts\n",
    "streams = pd.read_csv('../data/daily_charts.csv')\n",
    "\n",
    "# iterate over files in playlist folder\n",
    "playlists_data = pd.DataFrame()\n",
    "for filename in os.scandir('../data/playlists'):\n",
    "    if filename.is_file():\n",
    "        playlists_data = pd.concat([playlists_data, pd.read_csv(filename)], ignore_index=True)\n",
    "\n",
    "playlists_data.head()"
   ],
   "metadata": {
    "collapsed": false,
    "pycharm": {
     "name": "#%%\n",
     "is_executing": true
    }
   }
  },
  {
   "cell_type": "code",
   "execution_count": null,
   "outputs": [],
   "source": [
    "from functools import reduce\n",
    "import operator\n",
    "\n",
    "# Get unique artist ids\n",
    "\n",
    "artists_from_streams = streams['artists'].apply(lambda x: literal_eval(x)['id']).tolist()\n",
    "main_artists_from_playlists = playlists_data['id'].tolist()\n",
    "neighbors_artists = playlists_data['neighbours'].apply(lambda x: literal_eval(x)).tolist()\n",
    "neighbors_artists = reduce(operator.concat, neighbors_artists)\n",
    "\n",
    "# artists_ids = set(artists_from_streams) | set(main_artists_from_playlists) | set(neighbors_artists)\n",
    "artists_ids = set(neighbors_artists)\n",
    "print('Unique artists: %d' % len(artists_ids))"
   ],
   "metadata": {
    "collapsed": false,
    "pycharm": {
     "name": "#%%\n"
    }
   }
  },
  {
   "cell_type": "code",
   "execution_count": null,
   "outputs": [],
   "source": [
    "def dict_to_df(dictionary):\n",
    "    return pd.DataFrame([list(dictionary.values())], columns=list(dictionary.keys()))\n",
    "\n",
    "client_id = '7641b1dcfa894b9e97d9419d50e29c45'\n",
    "client_secret = 'a7a93ef6f8354a349374896772bf752b'\n",
    "sp = spotify_client(client_id, client_secret)\n",
    "\n",
    "# We need to set apart the artists we haven't encountered before to fetch their data\n",
    "artists_with_data = set()\n",
    "\n",
    "# Store the links between artists\n",
    "artist_links = defaultdict(set)\n",
    "\n",
    "# TODO change to 10k\n",
    "# We want to gather the related artists for a maximum of 10k artists (to reduce calls to the Spotify API)\n",
    "artist_queue_limit = 5000\n",
    "artist_count = 1\n",
    "artist_queue = Queue()\n",
    "\n",
    "# Keep dictionaries to save progress\n",
    "file = open('../data/tmp/af.pickle', 'rb')\n",
    "artists_features = pickle.load(file)\n",
    "file.close()\n",
    "\n",
    "file = open('../data/tmp/ar.pickle', 'rb')\n",
    "artists_related_artists = pickle.load(file)\n",
    "file.close()\n",
    "\n",
    "# Filling the queue with artists that appeared in the 2020 charts\n",
    "for id in artists_ids:\n",
    "    artist_queue.put(id)\n",
    "    break\n",
    "\n",
    "count = 0\n",
    "artists_info = pd.DataFrame()\n",
    "while not artist_queue.empty():\n",
    "    count += 1\n",
    "    if count % 100 == 0:\n",
    "        print('Dequeued artist %d' % count)\n",
    "        file = open('../data/tmp/af.pickle', 'wb')\n",
    "        pickle.dump(artists_features, file)\n",
    "        file.close()\n",
    "        file = open('../data/tmp/ar.pickle', 'wb')\n",
    "        pickle.dump(artists_related_artists, file)\n",
    "        file.close()\n",
    "    artist_id = artist_queue.get()\n",
    "\n",
    "    # Save information for current artist\n",
    "    if artist_id not in artists_features:\n",
    "        artist_data = artist_features(sp, artist_id)\n",
    "        artists_features[artist_id] = artist_data\n",
    "    else:\n",
    "        artist_data = artists_features[artist_id]\n",
    "\n",
    "\n",
    "    if artist_id not in artists_with_data:\n",
    "        artists_info = pd.concat([artists_info, dict_to_df(artist_data)], ignore_index=True)\n",
    "        artists_with_data.add(artist_id)\n",
    "\n",
    "    # Go through related artists\n",
    "    if artist_id not in artists_related_artists:\n",
    "        rel_artists = related_artists(sp, artist_id)\n",
    "        artists_related_artists[artist_id] = rel_artists\n",
    "    else:\n",
    "        rel_artists = artists_related_artists[artist_id]\n",
    "\n",
    "    for related_artist in rel_artists:\n",
    "        # Add the related artist in the links of the current artist\n",
    "        artist_links[artist_id].add(related_artist['id'])\n",
    "\n",
    "        if related_artist['id'] in artists_with_data:\n",
    "            continue\n",
    "\n",
    "        # Save information for related artist\n",
    "        artists_info = pd.concat([artists_info, dict_to_df(related_artist)], ignore_index=True)\n",
    "        artists_with_data.add(related_artist['id'])\n",
    "\n",
    "        if artist_count < artist_queue_limit:\n",
    "            artist_queue.put(related_artist['id'])\n",
    "        artist_count += 1\n",
    "\n",
    "artists_info['followers'] = artists_info['followers'].astype(int)\n",
    "artists_info['popularity'] = artists_info['popularity'].astype(int)\n",
    "artists_info.to_csv('../data/artist_info.csv', index=False)\n",
    "\n",
    "artist_links_file = open(\"../data/artist_links.pickle\", \"wb\")\n",
    "pickle.dump(artist_links, artist_links_file)\n",
    "artist_links_file.close()\n",
    "\n",
    "print('Total number of artists: %d' % len(artists_with_data))"
   ],
   "metadata": {
    "collapsed": false,
    "pycharm": {
     "name": "#%%\n"
    }
   }
  },
  {
   "cell_type": "markdown",
   "source": [
    "## Building the Adjacency Matrix"
   ],
   "metadata": {
    "collapsed": false,
    "pycharm": {
     "name": "#%% md\n"
    }
   }
  },
  {
   "cell_type": "code",
   "execution_count": 39,
   "outputs": [
    {
     "name": "stdout",
     "output_type": "stream",
     "text": [
      "Size of adjacency matrix: 684 x 684\n",
      "[[0. 1. 1. ... 0. 0. 0.]\n",
      " [1. 0. 0. ... 0. 0. 0.]\n",
      " [1. 0. 0. ... 0. 0. 0.]\n",
      " ...\n",
      " [0. 0. 0. ... 0. 0. 0.]\n",
      " [0. 0. 0. ... 0. 0. 0.]\n",
      " [0. 0. 0. ... 0. 0. 0.]]\n"
     ]
    }
   ],
   "source": [
    "# Load artist links\n",
    "artist_links_file = open(\"../data/artist_links.pickle\", \"rb\")\n",
    "artist_links = pickle.load(artist_links_file)\n",
    "artist_links_file.close()\n",
    "\n",
    "# Combine all artists\n",
    "artists = pd.read_csv('../data/artist_info.csv')\n",
    "\n",
    "adjacency = np.zeros((artists.shape[0], artists.shape[0]))\n",
    "idToIndexMap = {}\n",
    "\n",
    "# Since the artist links actually use the Spotify ID and not the index in the adjacency matrix,\n",
    "# we need to map the spotify id to the index\n",
    "for index, row in artists.iterrows():\n",
    "    idToIndexMap[row['id']] = index\n",
    "\n",
    "# Loop through all artists fill adjacency matrix with one in case of a relation\n",
    "for artist_id, rel_artists in artist_links.items():\n",
    "    artist_index = idToIndexMap[artist_id]\n",
    "    for related_artist in rel_artists:\n",
    "        related_artist_index = idToIndexMap[related_artist]\n",
    "        adjacency[artist_index, related_artist_index] = 1\n",
    "\n",
    "# Save id to index map for later\n",
    "id_to_index_file = open(\"../data/id_to_index.pickle\", \"wb\")\n",
    "pickle.dump(idToIndexMap, id_to_index_file)\n",
    "id_to_index_file.close()\n",
    "\n",
    "print('Size of adjacency matrix: %d x %d' % adjacency.shape)\n",
    "print(adjacency)"
   ],
   "metadata": {
    "collapsed": false,
    "pycharm": {
     "name": "#%%\n"
    }
   }
  },
  {
   "cell_type": "markdown",
   "source": [
    "## Convert to sparse matrix"
   ],
   "metadata": {
    "collapsed": false,
    "pycharm": {
     "name": "#%% md\n"
    }
   }
  },
  {
   "cell_type": "code",
   "execution_count": 40,
   "outputs": [
    {
     "name": "stdout",
     "output_type": "stream",
     "text": [
      "The adjacency matrix has 2000 non-zero elements, this is equivalent to the number of edges\n"
     ]
    }
   ],
   "source": [
    "import scipy.sparse as sparse\n",
    "\n",
    "sparse_adj = sparse.csc_matrix(adjacency)\n",
    "print('The adjacency matrix has %d non-zero elements, this is equivalent to the number of edges' % sparse_adj.nnz)"
   ],
   "metadata": {
    "collapsed": false,
    "pycharm": {
     "name": "#%%\n"
    }
   }
  }
 ],
 "metadata": {
  "kernelspec": {
   "display_name": "Python 3",
   "language": "python",
   "name": "python3"
  },
  "language_info": {
   "codemirror_mode": {
    "name": "ipython",
    "version": 2
   },
   "file_extension": ".py",
   "mimetype": "text/x-python",
   "name": "python",
   "nbconvert_exporter": "python",
   "pygments_lexer": "ipython2",
   "version": "2.7.6"
  }
 },
 "nbformat": 4,
 "nbformat_minor": 0
}